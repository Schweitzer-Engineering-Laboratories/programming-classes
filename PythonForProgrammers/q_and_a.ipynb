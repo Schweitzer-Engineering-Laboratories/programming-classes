{
 "cells": [
  {
   "cell_type": "markdown",
   "metadata": {
    "slideshow": {
     "slide_type": "slide"
    },
    "tags": []
   },
   "source": [
    "# Q&As from Python for Programmers"
   ]
  },
  {
   "cell_type": "markdown",
   "metadata": {
    "slideshow": {
     "slide_type": "subslide"
    },
    "tags": []
   },
   "source": [
    "Brett Deaton -- Mar 2022"
   ]
  },
  {
   "cell_type": "markdown",
   "metadata": {},
   "source": [
    "Every class discussion yields interesting questions. Here's a growing list of answers."
   ]
  },
  {
   "cell_type": "markdown",
   "metadata": {},
   "source": [
    "##### Zen of Python"
   ]
  },
  {
   "cell_type": "markdown",
   "metadata": {},
   "source": [
    "*Question*: What do the Python design principles encoded in\n",
    "[PEP-20](https://www.python.org/dev/peps/pep-0020/)\n",
    "actually mean? In practical terms?"
   ]
  },
  {
   "cell_type": "code",
   "execution_count": null,
   "metadata": {},
   "outputs": [],
   "source": [
    "# here they are\n",
    "import this"
   ]
  },
  {
   "cell_type": "markdown",
   "metadata": {},
   "source": [
    "*Answer*: Here are a few good interpretations.\n",
    "  * explanation from\n",
    "    [inventwithpython blog](https://inventwithpython.com/blog/2018/08/17/the-zen-of-python-explained/)\n",
    "  * reflection with examples from\n",
    "    [betterprogramming.pub](https://betterprogramming.pub/contemplating-the-zen-of-python-186722b833e5)\n",
    "  * examples from\n",
    "    [evandrix](https://gist.github.com/evandrix/2030615)\n",
    "\n",
    "But don't take it too seriously. Good Pythonic code is not found in a rubric\n",
    "but in the practice of writing and reviewing code in a community.\n",
    "\n",
    "In fact, as a joke, the implementation of the `this` module is extremely\n",
    "unpythonic. See below."
   ]
  },
  {
   "cell_type": "code",
   "execution_count": null,
   "metadata": {},
   "outputs": [],
   "source": [
    "import inspect\n",
    "inspect.getsource(this)"
   ]
  },
  {
   "cell_type": "markdown",
   "metadata": {},
   "source": [
    "##### Overloading an Operator"
   ]
  },
  {
   "cell_type": "markdown",
   "metadata": {},
   "source": [
    "*Question*: How do you overload an operator? For example, how would you make\n",
    "the + operator work for a class you've defined?"
   ]
  },
  {
   "cell_type": "markdown",
   "metadata": {},
   "source": [
    "*Answer*: Define the relevant\n",
    "[magic method for that operator](https://docs.python.org/3/reference/datamodel.html#emulating-numeric-types),\n",
    "using the footprint `__op__(self, other)`."
   ]
  },
  {
   "cell_type": "code",
   "execution_count": null,
   "metadata": {},
   "outputs": [],
   "source": [
    "# For example, here we define addition for our invented class `Stringer`\n",
    "class Stringer:\n",
    "    def __init__(self, aval):\n",
    "        self.aval = aval\n",
    "    def __repr__(self):\n",
    "        return f\"Stringer({self.aval})\"\n",
    "    def __add__(self, other):\n",
    "        try:\n",
    "            return Stringer(self.aval + other.aval)\n",
    "        except TypeError:\n",
    "            return None\n",
    "\n",
    "print(Stringer(\"Kevin\"))\n",
    "print(Stringer(\"Kevin\") + Stringer(\"Surrey\"))\n",
    "print(Stringer(3) + Stringer(10))\n",
    "print(Stringer(3) + Stringer(\"10\"))"
   ]
  },
  {
   "cell_type": "markdown",
   "metadata": {},
   "source": [
    "##### Unicode Characters"
   ]
  },
  {
   "cell_type": "markdown",
   "metadata": {},
   "source": [
    "*Question*: Can you use Unicode characters in Python?"
   ]
  },
  {
   "cell_type": "markdown",
   "metadata": {},
   "source": [
    "*Answer*: Of course. Use the built-in functions `chr` and `ord`."
   ]
  },
  {
   "cell_type": "code",
   "execution_count": null,
   "metadata": {},
   "outputs": [],
   "source": [
    "print('\"Python\" in braille (grade 1) is ', end=\"\")\n",
    "for x in (0x2820, 0x280F, 0x283D, 0x281e, 0x2813, 0x2815, 0x281D):\n",
    "    print(chr(x), end=\"\")"
   ]
  },
  {
   "cell_type": "code",
   "execution_count": null,
   "metadata": {},
   "outputs": [],
   "source": [
    "# retrieve the unicode code point for a given character\n",
    "print(\"the ⠏ character has unicode point value:\", ord(\"⠏\"))"
   ]
  },
  {
   "cell_type": "markdown",
   "metadata": {},
   "source": [
    "##### Memory Footprint"
   ]
  },
  {
   "cell_type": "markdown",
   "metadata": {},
   "source": [
    "*Question*: How do you find how much memory an object occupies?"
   ]
  },
  {
   "cell_type": "markdown",
   "metadata": {},
   "source": [
    "*Answer*: Total memory footprint of any object is accessed with the standard\n",
    "library `sys`, using the function `sys.getsizeof`. But the actual data-content\n",
    "of that object may be much smaller."
   ]
  },
  {
   "cell_type": "code",
   "execution_count": null,
   "metadata": {
    "slideshow": {
     "slide_type": "skip"
    },
    "tags": []
   },
   "outputs": [],
   "source": [
    "import sys\n",
    "num = 101\n",
    "print(\"total footprint (bytes):\", sys.getsizeof(num))\n",
    "print(\"footprint necessary for the number (bits):\", num.bit_length())"
   ]
  }
 ],
 "metadata": {
  "kernelspec": {
   "display_name": "Python 3 (ipykernel)",
   "language": "python",
   "name": "python3"
  },
  "language_info": {
   "codemirror_mode": {
    "name": "ipython",
    "version": 3
   },
   "file_extension": ".py",
   "mimetype": "text/x-python",
   "name": "python",
   "nbconvert_exporter": "python",
   "pygments_lexer": "ipython3",
   "version": "3.10.2"
  }
 },
 "nbformat": 4,
 "nbformat_minor": 4
}
