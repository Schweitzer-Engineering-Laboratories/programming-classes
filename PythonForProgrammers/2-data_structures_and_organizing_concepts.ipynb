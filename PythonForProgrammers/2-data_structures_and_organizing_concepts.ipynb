{
 "cells": [
  {
   "cell_type": "markdown",
   "metadata": {
    "slideshow": {
     "slide_type": "slide"
    },
    "tags": []
   },
   "source": [
    "# Data Structures and Organizing Concepts"
   ]
  },
  {
   "cell_type": "markdown",
   "metadata": {
    "slideshow": {
     "slide_type": "subslide"
    },
    "tags": []
   },
   "source": [
    "Brett Deaton -- Feb 2022"
   ]
  },
  {
   "cell_type": "markdown",
   "metadata": {},
   "source": [
    "##### Slide 11 (intro to lists)"
   ]
  },
  {
   "cell_type": "code",
   "execution_count": null,
   "metadata": {
    "slideshow": {
     "slide_type": "slide"
    },
    "tags": []
   },
   "outputs": [],
   "source": [
    "lst1 = [\"a\", 2, (\"tu\", \"pl\", 3), 19.5] # list literal\n",
    "lst2 = \"ab cd ef gh ij kl mn\".split() # str.split() method\n",
    "lst3 = list(\"mnopq\") # list() function\n",
    "lst4 = [2*x for x in range(4)] # list comprehension\n",
    "for l in (lst1, lst2, lst3, lst4):\n",
    "    print(l)"
   ]
  },
  {
   "cell_type": "markdown",
   "metadata": {},
   "source": [
    "##### Slide 12 (list indexing)"
   ]
  },
  {
   "cell_type": "code",
   "execution_count": null,
   "metadata": {},
   "outputs": [],
   "source": [
    "lsta = \"aa bb cc dd\".split()\n",
    "print(lsta)\n",
    "print(lsta[2])\n",
    "print(lsta[-1])"
   ]
  },
  {
   "cell_type": "code",
   "execution_count": null,
   "metadata": {},
   "outputs": [],
   "source": [
    "# list methods\n",
    "lsta = \"aa bb cc dd\".split()\n",
    "print(lsta.index(\"bb\"))\n",
    "lsta.append([\"ee\", \"ff\"])\n",
    "print(lsta)\n",
    "lsta.extend([\"gg\", \"hh\"])\n",
    "print(lsta)"
   ]
  },
  {
   "cell_type": "markdown",
   "metadata": {},
   "source": [
    "##### Slide 13 (list slicing and sorting)"
   ]
  },
  {
   "cell_type": "code",
   "execution_count": null,
   "metadata": {},
   "outputs": [],
   "source": [
    "lst2 = \"gh cd ab ef ij\".split()\n",
    "print(\"lst2[:-2]:\", lst2[:-2])\n",
    "print(\"lst2[1:3]:\", lst2[1:3])\n",
    "lst2.extend([\"ab\", \"ef\", \"ab\"])\n",
    "lst3 = lst2[:]\n",
    "lst2.sort()\n",
    "print(\"lst2:\", lst2)\n",
    "print(\"lst3:\", lst3)\n",
    "print(\"sorted(lst3):\", sorted(lst3))\n",
    "print(\"lst3:\", lst3)"
   ]
  },
  {
   "cell_type": "code",
   "execution_count": null,
   "metadata": {},
   "outputs": [],
   "source": [
    "# shallow vs deep copy of lists\n",
    "lista = [[1,2,3],[10,20,30]]\n",
    "listb = lista[:]\n",
    "print(\"# original lists\")\n",
    "print(\"lista:\", lista)\n",
    "print(\"listb:\", listb)\n",
    "print()\n",
    "\n",
    "print(\"# shallow copy\")\n",
    "listb[0][0] = 100\n",
    "print(\"lista:\", lista)\n",
    "print(\"listb:\", listb)\n",
    "print()\n",
    "\n",
    "print(\"# deep copy\")\n",
    "from copy import deepcopy\n",
    "listb = deepcopy(lista)\n",
    "listb[0][0] = 111\n",
    "print(\"lista:\", lista)\n",
    "print(\"listb:\", listb)"
   ]
  },
  {
   "cell_type": "markdown",
   "metadata": {
    "tags": []
   },
   "source": [
    "##### Slide 14 (looping over list)"
   ]
  },
  {
   "cell_type": "code",
   "execution_count": null,
   "metadata": {},
   "outputs": [],
   "source": [
    "lst2 = \"gh cd ab ef ij\".split()\n",
    "for i, x in enumerate(lst2):\n",
    "    print(i, x)"
   ]
  },
  {
   "cell_type": "markdown",
   "metadata": {},
   "source": [
    "##### Slide 16 (intro to dictionaries)"
   ]
  },
  {
   "cell_type": "code",
   "execution_count": null,
   "metadata": {},
   "outputs": [],
   "source": [
    "md1 = dict(a=\"aval\", b=\"bval\") # constructor, i.e. dict() function\n",
    "md2 = {\"ak\":\"akv\", \"bk\":\"bkv\"} # dict literal\n",
    "md3 = dict(zip(\"k1 k2 k3\".split(), (1001, 2002, 3003))) # constructor from two lists/tuples\n",
    "md4 = dict([(\"a\", 1), (\"b\", 2)]) # explicit form of the zipped param to the contructor above\n",
    "for d in (md1, md2, md3, md4):\n",
    "    print(d)"
   ]
  },
  {
   "cell_type": "markdown",
   "metadata": {},
   "source": [
    "##### Slide 20 (tuples)"
   ]
  },
  {
   "cell_type": "code",
   "execution_count": null,
   "metadata": {},
   "outputs": [],
   "source": [
    "a = 1\n",
    "b = 2\n",
    "print(a, b)\n",
    "b, a = a, b # Pythonic swap\n",
    "print(a, b)\n",
    "\n",
    "tpla = (1)\n",
    "print(type(tpla))\n",
    "tpla = (1,) # need a final comma to for tuple literal with length 1\n",
    "print(type(tpla))"
   ]
  },
  {
   "cell_type": "markdown",
   "metadata": {},
   "source": [
    "##### Slide 21 (collections library)"
   ]
  },
  {
   "cell_type": "code",
   "execution_count": null,
   "metadata": {},
   "outputs": [],
   "source": [
    "import collections\n",
    "print(dir(collections))"
   ]
  },
  {
   "cell_type": "markdown",
   "metadata": {},
   "source": [
    "##### Slide 22 (strings)"
   ]
  },
  {
   "cell_type": "code",
   "execution_count": null,
   "metadata": {},
   "outputs": [],
   "source": [
    "s0 = \"abc\"\n",
    "s2 = \" \".join([\"hi\", \"Hamza\", \":)\"])\n",
    "print(s0)\n",
    "print(s2)\n",
    "s0 += \"other stuff\" # this is inefficient in other implementations than cpython, because str immutable\n",
    "print(s0)\n",
    "print(s2)\n",
    "print(\"c:\\tmp\") # oops, \\t is a special character\n",
    "print(r\"c:\\tmp\") # raw string literal"
   ]
  },
  {
   "cell_type": "markdown",
   "metadata": {},
   "source": [
    "##### Slide 23 (slicing)"
   ]
  },
  {
   "cell_type": "code",
   "execution_count": null,
   "metadata": {},
   "outputs": [],
   "source": [
    "l1 = list(range(10))\n",
    "print(l1[3:7])\n",
    "print(l1[3:])\n",
    "print(l1[:7])\n",
    "print(l1[:])\n",
    "print(l1[::-1])\n",
    "print(l1[-2:])\n",
    "print(l1[:-2])\n",
    "print(l1[::2])"
   ]
  },
  {
   "cell_type": "markdown",
   "metadata": {},
   "source": [
    "##### Slide 30 (intro to functions)"
   ]
  },
  {
   "cell_type": "code",
   "execution_count": null,
   "metadata": {},
   "outputs": [],
   "source": [
    "f = lambda x: x**x\n",
    "print(type(f))\n",
    "print(dir(f))"
   ]
  },
  {
   "cell_type": "code",
   "execution_count": null,
   "metadata": {},
   "outputs": [],
   "source": [
    "# nested functions\n",
    "def outer(anarg):\n",
    "    \"\"\"Outer fxn\"\"\"\n",
    "    mult = 3\n",
    "    def inner(myarg):\n",
    "        \"\"\"Nested fxn\"\"\"\n",
    "        return myarg*mult\n",
    "    return (inner(\"1\"), inner(1), inner(anarg))\n",
    "outer(10)"
   ]
  },
  {
   "cell_type": "markdown",
   "metadata": {},
   "source": [
    "##### Slide 32 (using default paramaters)"
   ]
  },
  {
   "cell_type": "code",
   "execution_count": null,
   "metadata": {},
   "outputs": [],
   "source": [
    "print(\"Hello\", \"World\")\n",
    "print(\"Hello\", \"World\", sep=\"\")"
   ]
  },
  {
   "cell_type": "code",
   "execution_count": null,
   "metadata": {},
   "outputs": [],
   "source": [
    "# aside: how to read a file\n",
    "with open(r\"C:\\tmp\\stuff.txt\"):\n",
    "    ln = fh.readline()\n",
    "    print(ln[:20])"
   ]
  },
  {
   "cell_type": "code",
   "execution_count": null,
   "metadata": {},
   "outputs": [],
   "source": [
    "# defining default parameters\n",
    "def mydefault(extra=()):\n",
    "    msg = \"Hello World\"\n",
    "    if not extra:\n",
    "        print(msg + \"!\")\n",
    "    else:\n",
    "        extras_to_print = [str(x) for x in extra]\n",
    "        print(msg, \" \".join(extras_to_print) + \"!\")\n",
    "mydefault()\n",
    "mydefault([40, 41])\n",
    "mydefault((\"Sam\", \"June\", \"Vijay\"))"
   ]
  },
  {
   "cell_type": "code",
   "execution_count": null,
   "metadata": {},
   "outputs": [],
   "source": [
    "# Danger with mutable default parameters.\n",
    "# Note: the following behavior arises because default params are evaluated\n",
    "#   only once; at definition.\n",
    "# The leson is DON'T USE *MUTABLE* DEFAULT PARAMS\n",
    "def mydefault(extra=[]):\n",
    "    msg = \"Hello World\"\n",
    "    if not extra:\n",
    "        extra.append(\"you thought this addition was just temporary...but it's not\")\n",
    "        print(msg + \"!\")\n",
    "    else:\n",
    "        extras_to_print = [str(x) for x in extra]\n",
    "        print(msg, \" \".join(extras_to_print) + \"!\")\n",
    "mydefault()\n",
    "mydefault([40, 41])\n",
    "mydefault()"
   ]
  },
  {
   "cell_type": "markdown",
   "metadata": {},
   "source": [
    "##### Slide 33 (variable parameter lists)"
   ]
  },
  {
   "cell_type": "code",
   "execution_count": null,
   "metadata": {},
   "outputs": [],
   "source": [
    "def vargs(*args): # how to define\n",
    "    try:\n",
    "        print(\"last elem:\", args[-1])\n",
    "    except IndexError:\n",
    "        print(\"?\")\n",
    "arglist = \"a b c d e f\".split()\n",
    "vargs(arglist)\n",
    "vargs(*arglist) # how to use (\"unpacking the arguments\")"
   ]
  },
  {
   "cell_type": "markdown",
   "metadata": {},
   "source": [
    "##### Slide 34 (keyword parameters)"
   ]
  },
  {
   "cell_type": "code",
   "execution_count": null,
   "metadata": {},
   "outputs": [],
   "source": [
    "# program defensively (recommended) with kwargs\n",
    "def kargs(**kwargs): # how to define\n",
    "    print(kwargs)\n",
    "    fstr = \"astr is: {} | anum is: {} | bnum is: {}\"\n",
    "    # Silently ignore keyword args besides these\n",
    "    print(fstr.format(\n",
    "        kwargs.get(\"astr\", \"-\"),\n",
    "        kwargs.get(\"anum\", \"42\"),\n",
    "        kwargs.get(\"bnum\")))\n",
    "\n",
    "kargs(bnum=4, astr=\"four\", anum=2) # how to use one way\n",
    "example_args = {\"bnum\":4, \"astr\":\"four\", \"anum\":2}\n",
    "kargs(**example_args) # how to use another way"
   ]
  },
  {
   "cell_type": "markdown",
   "metadata": {},
   "source": [
    "##### Slide 39 (intro to classes)"
   ]
  },
  {
   "cell_type": "code",
   "execution_count": null,
   "metadata": {},
   "outputs": [],
   "source": [
    "# 2.x required `class A(object)` to create a new-style class,\n",
    "# but 3.x does it with `class A`\n",
    "class A: # simple class\n",
    "    def __init__(self, param1):\n",
    "        self.param_a = param1\n",
    "\n",
    "alicej = A(\"p1\")\n",
    "print(alicej.param_a)"
   ]
  },
  {
   "cell_type": "code",
   "execution_count": null,
   "metadata": {},
   "outputs": [],
   "source": [
    "# inheritance\n",
    "class A: # simple class\n",
    "    def __init__(self, param1):\n",
    "        self.param_a = param1\n",
    "\n",
    "class B(A): # derived class\n",
    "    def __init__(self, param1, param2):\n",
    "        super().__init__(param1)\n",
    "        self.param_b =  param2\n",
    "\n",
    "bobj = B(\"p1\", \"p2\")\n",
    "print(bobj.param_a)\n",
    "print(bobj.param_b)"
   ]
  },
  {
   "cell_type": "code",
   "execution_count": null,
   "metadata": {},
   "outputs": [],
   "source": [
    "# inclusion\n",
    "# demo an example of B includes A instead of inherits"
   ]
  },
  {
   "cell_type": "markdown",
   "metadata": {},
   "source": [
    "##### Slide 40 (encapsulation)"
   ]
  },
  {
   "cell_type": "code",
   "execution_count": null,
   "metadata": {},
   "outputs": [],
   "source": [
    "class MC:\n",
    "    mca = 23 # class attribute (not an instance attribute, don't do this usually)\n",
    "    def __init__(self, c, d, e):\n",
    "        self._c = c\n",
    "        self._d = d\n",
    "        _e = e # probably unexpected\n",
    "        self.__secret = c+d\n",
    "    \n",
    "    def __str__(self):\n",
    "            fstr = (\"mca={}; _c={}; _d={}; __secret={}\")\n",
    "            return fstr.format(MC.mca, self._c, self._d, self.__secret)\n",
    "\n",
    "mc = MC(14, 42, \"ee\")\n",
    "print(mc)\n",
    "print(mc._c) # we have access\n",
    "print(mc._MC__secret) # we have access if we know the algorithm for the mangled name\n",
    "print(dir(mc)) # we can see __secret is hidden from the dir list (but the mangled name is there)"
   ]
  },
  {
   "cell_type": "code",
   "execution_count": null,
   "metadata": {},
   "outputs": [],
   "source": [
    "# give an example of a class attribute being modified from the class vs from the instance\n",
    "# see Slide 42 for an example with class C\n",
    "MC.mca=\"something new\"\n",
    "# vs\n",
    "a = MCA()\n",
    "a.mca=\"something new\""
   ]
  },
  {
   "cell_type": "markdown",
   "metadata": {},
   "source": [
    "##### Slide 41 (methods)"
   ]
  },
  {
   "cell_type": "code",
   "execution_count": null,
   "metadata": {},
   "outputs": [],
   "source": [
    "class MyClass:\n",
    "    def __init__(self, p1, p2):\n",
    "        # Bind object data atrs\n",
    "        self.op1 = p1\n",
    "        self.\n",
    "..."
   ]
  },
  {
   "cell_type": "markdown",
   "metadata": {},
   "source": [
    "##### Slide 42 (`__init__`)"
   ]
  },
  {
   "cell_type": "code",
   "execution_count": null,
   "metadata": {},
   "outputs": [],
   "source": [
    "# it's your responsibity to explicitly call superlcass's __init__\n",
    "# this is currently identical to the Slide 39 example\n",
    "class A: # simple class\n",
    "    def __init__(self, param1):\n",
    "        self.param_a = param1\n",
    "\n",
    "class B(A): # derived class\n",
    "    def __init__(self, param1, param2):\n",
    "        super().__init__(param1)\n",
    "        self.param_b =  param2\n",
    "\n",
    "bobj = B(\"p1\", \"p2\")\n",
    "print(bobj.param_a)\n",
    "print(bobj.param_b)"
   ]
  },
  {
   "cell_type": "code",
   "execution_count": null,
   "metadata": {},
   "outputs": [],
   "source": [
    "# reset method\n",
    "# if you want to define a reset method that is called by your __init__ it's a fine idea,\n",
    "# but you may get some warnings from static analysis tools, because they expect you to\n",
    "# only bind data members in the __init__ function"
   ]
  },
  {
   "cell_type": "markdown",
   "metadata": {},
   "source": [
    "##### Slide 43 (accessors)"
   ]
  },
  {
   "cell_type": "code",
   "execution_count": null,
   "metadata": {},
   "outputs": [],
   "source": [
    "# Competing Python camps: simplicity (dont' use getter/setters) vs safety (do)\n",
    "# general advice use accessors when you need expensive data validation\n",
    "class MC2:\n",
    "    \"\"\"\"\"\""
   ]
  },
  {
   "cell_type": "markdown",
   "metadata": {},
   "source": [
    "##### Slide 47 (exceptions)"
   ]
  },
  {
   "cell_type": "code",
   "execution_count": null,
   "metadata": {},
   "outputs": [],
   "source": [
    "md = {v:k for k,v in enumerate(list(\"abcde\"))}\n",
    "md\n",
    "fstr = \"'{}' not recognized\"\n",
    "\n",
    "# non-pythonic way\n",
    "def attempt1(key):\n",
    "    if key in md:\n",
    "        print(md[key])\n",
    "    else:\n",
    "        print(fstr.format(key))\n",
    "\n",
    "# more pythonic way\n",
    "def attempt2(key):\n",
    "    try:\n",
    "        print(md[key])\n",
    "    except KeyError as ke:\n",
    "        print(fstr.format(ke.args[0]))\n",
    "        \n",
    "# most pythonic way, but doesn't dmo exception handling\n",
    "def attempt3(key):\n",
    "    val = md.get(key)\n",
    "    if val is not None:\n",
    "        print(val)\n",
    "    else:\n",
    "        print(fstr.format(key))\n",
    "\n",
    "attempt1(\"f\")\n",
    "attempt2(\"g\")\n",
    "attempt3(\"h\")"
   ]
  },
  {
   "cell_type": "markdown",
   "metadata": {},
   "source": [
    "##### Slide 48 (file handling)"
   ]
  },
  {
   "cell_type": "code",
   "execution_count": null,
   "metadata": {},
   "outputs": [],
   "source": [
    "# use with statement\n",
    "fpath = r\"C:\\Temp\\pycourse.txt\"\n",
    "with open(fpath, \"w\") as f_handle:\n",
    "    f_handle.write(\"here is line 1\\n\")\n",
    "    f_handle.write(\"and this is line 2\\n\")\n",
    "    f_handle.write(\"finally, third line\\n\")\n",
    "\n",
    "lines = None\n",
    "with open(fpath) as f_handle: # default mode is read\n",
    "    lines = ..."
   ]
  },
  {
   "cell_type": "code",
   "execution_count": null,
   "metadata": {},
   "outputs": [],
   "source": [
    "# ...write to a file\n",
    "# ...read from a file"
   ]
  },
  {
   "cell_type": "markdown",
   "metadata": {},
   "source": [
    "##### Slide 55 (environment variables)"
   ]
  },
  {
   "cell_type": "code",
   "execution_count": null,
   "metadata": {},
   "outputs": [],
   "source": [
    "import sys\n",
    "print(\"\\n\".join(sys.path), end=\"\\n\\n\")\n",
    "\n",
    "import os\n",
    "print(os.getenv(\"PYTHONPATH\")) # ?"
   ]
  }
 ],
 "metadata": {
  "kernelspec": {
   "display_name": "Python 3 (ipykernel)",
   "language": "python",
   "name": "python3"
  },
  "language_info": {
   "codemirror_mode": {
    "name": "ipython",
    "version": 3
   },
   "file_extension": ".py",
   "mimetype": "text/x-python",
   "name": "python",
   "nbconvert_exporter": "python",
   "pygments_lexer": "ipython3",
   "version": "3.10.2"
  }
 },
 "nbformat": 4,
 "nbformat_minor": 4
}
