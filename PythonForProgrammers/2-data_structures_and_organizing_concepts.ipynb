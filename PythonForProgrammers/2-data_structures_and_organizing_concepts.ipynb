{
 "cells": [
  {
   "cell_type": "markdown",
   "metadata": {
    "slideshow": {
     "slide_type": "slide"
    },
    "tags": []
   },
   "source": [
    "# Data Structures and Organizing Concepts"
   ]
  },
  {
   "cell_type": "markdown",
   "metadata": {
    "slideshow": {
     "slide_type": "subslide"
    },
    "tags": []
   },
   "source": [
    "Brett Deaton -- Mar 2022"
   ]
  },
  {
   "cell_type": "markdown",
   "metadata": {
    "tags": []
   },
   "source": [
    "### Miscellany"
   ]
  },
  {
   "cell_type": "markdown",
   "metadata": {
    "tags": []
   },
   "source": [
    "##### Slide 9 (exceptions)"
   ]
  },
  {
   "cell_type": "code",
   "execution_count": null,
   "metadata": {},
   "outputs": [],
   "source": [
    "md = {v:k for k,v in enumerate(list(\"abcde\"))}\n",
    "print(\"valid arguments:\", \" \".join(md.keys()))\n",
    "\n",
    "fstr = \"'{}' not recognized\"\n",
    "\n",
    "# non-pythonic way\n",
    "def attempt1(key):\n",
    "    if key in md:\n",
    "        print(md[key])\n",
    "    else:\n",
    "        print(fstr.format(key))\n",
    "\n",
    "# more pythonic way\n",
    "def attempt2(key):\n",
    "    try:\n",
    "        print(md[key])\n",
    "    except KeyError as ke:\n",
    "        print(fstr.format(ke.args[0]))"
   ]
  },
  {
   "cell_type": "code",
   "execution_count": null,
   "metadata": {},
   "outputs": [],
   "source": [
    "attempt1(\"f\")\n",
    "attempt2(\"g\")"
   ]
  },
  {
   "cell_type": "code",
   "execution_count": null,
   "metadata": {},
   "outputs": [],
   "source": [
    "# most pythonic way, but doesn't demo exception handling\n",
    "def attempt3(key):\n",
    "    val = md.get(key)\n",
    "    if val is not None:\n",
    "        print(val)\n",
    "    else:\n",
    "        print(fstr.format(key))"
   ]
  },
  {
   "cell_type": "code",
   "execution_count": null,
   "metadata": {},
   "outputs": [],
   "source": [
    "attempt3(\"h\")"
   ]
  },
  {
   "cell_type": "markdown",
   "metadata": {
    "tags": []
   },
   "source": [
    "##### Slide 10 (handling files)"
   ]
  },
  {
   "cell_type": "code",
   "execution_count": null,
   "metadata": {},
   "outputs": [],
   "source": [
    "# use with statement to open a file\n",
    "fpath = r\"C:\\Temp\\pycourse.txt\"\n",
    "with open(fpath, \"w\") as f_handle:\n",
    "    f_handle.write(\"here is line 1\\n\")\n",
    "    f_handle.write(\"and this is line 2\\n\")\n",
    "    f_handle.write(\"finally, third line\\n\")"
   ]
  },
  {
   "cell_type": "code",
   "execution_count": null,
   "metadata": {},
   "outputs": [],
   "source": [
    "lines = None\n",
    "with open(fpath) as f_handle: # default mode is read\n",
    "    lines = f_handle.readlines()\n",
    "    \n",
    "for n, l in enumerate(lines, start=1):\n",
    "    print(\"{}: {}\".format(n, l.rstrip()))"
   ]
  },
  {
   "cell_type": "markdown",
   "metadata": {
    "tags": []
   },
   "source": [
    "##### Slide 11 (docstring)"
   ]
  },
  {
   "cell_type": "code",
   "execution_count": null,
   "metadata": {},
   "outputs": [],
   "source": [
    "\"\"\"Python script to experiment with user input\n",
    "\n",
    "David Bowie -- 2022\n",
    "This is free and unencumbered software released into the public domain.\n",
    "\"\"\"\n",
    "def check_user_input(expected):\n",
    "    \"\"\"Basic function to check user input against an expected value.\n",
    "    \n",
    "    Args:\n",
    "        expected - value that we're hoping that the user enters\n",
    "        \n",
    "    Returns:\n",
    "        The number of tries before the user's input matched the expected\n",
    "    \"\"\"\n",
    "    try_cnt = 0\n",
    "    cont = \"That doesn't sound right, please try again\"\n",
    "    while (True):\n",
    "        try_cnt += 1\n",
    "        answer = input(\"What is the meaning of everything? \")\n",
    "        if expected == int(answer):\n",
    "            break\n",
    "        else:\n",
    "            print(cont)\n",
    "\n",
    "    return try_cnt"
   ]
  },
  {
   "cell_type": "code",
   "execution_count": null,
   "metadata": {},
   "outputs": [],
   "source": [
    "check_user_input(42)"
   ]
  },
  {
   "cell_type": "code",
   "execution_count": null,
   "metadata": {},
   "outputs": [],
   "source": [
    "print(check_user_input.__doc__)"
   ]
  },
  {
   "cell_type": "markdown",
   "metadata": {
    "tags": []
   },
   "source": [
    "##### Slide 12 (modules and packages)"
   ]
  },
  {
   "cell_type": "code",
   "execution_count": null,
   "metadata": {},
   "outputs": [],
   "source": [
    "import hello"
   ]
  },
  {
   "cell_type": "code",
   "execution_count": null,
   "metadata": {},
   "outputs": [],
   "source": [
    "help(hello)"
   ]
  },
  {
   "cell_type": "code",
   "execution_count": null,
   "metadata": {},
   "outputs": [],
   "source": [
    "hello.say_hello(\"Sam\")"
   ]
  },
  {
   "cell_type": "code",
   "execution_count": null,
   "metadata": {},
   "outputs": [],
   "source": [
    "# *Challenge*\n",
    "# Create a module with filename `specific_heats.py` that binds\n",
    "# labels to the following specific heat constants (in J/kg/C):\n",
    "1005 # air\n",
    "880 # concrete\n",
    "490 # steel\n",
    "4182 # water\n",
    "# ... and then import the module and print those constants."
   ]
  },
  {
   "cell_type": "markdown",
   "metadata": {
    "tags": []
   },
   "source": [
    "##### Slide 13 (import)"
   ]
  },
  {
   "cell_type": "code",
   "execution_count": null,
   "metadata": {},
   "outputs": [],
   "source": [
    "print(dir()) # displays names in the global scope\n",
    "import math\n",
    "print(dir()) # the global scope now includes the `math` label"
   ]
  },
  {
   "cell_type": "code",
   "execution_count": null,
   "metadata": {},
   "outputs": [],
   "source": [
    "print(dir(math))"
   ]
  },
  {
   "cell_type": "code",
   "execution_count": null,
   "metadata": {},
   "outputs": [],
   "source": [
    "math.log10(10)"
   ]
  },
  {
   "cell_type": "code",
   "execution_count": null,
   "metadata": {},
   "outputs": [],
   "source": [
    "def log10(num_tree):\n",
    "    print(f\"I logged {num_tree*10} trees.\")"
   ]
  },
  {
   "cell_type": "code",
   "execution_count": null,
   "metadata": {},
   "outputs": [],
   "source": [
    "# no name collision\n",
    "log10(10)\n",
    "math.log10(10)"
   ]
  },
  {
   "cell_type": "markdown",
   "metadata": {
    "tags": []
   },
   "source": [
    "##### Slide 14 (import continued)"
   ]
  },
  {
   "cell_type": "code",
   "execution_count": null,
   "metadata": {},
   "outputs": [],
   "source": [
    "print(dir())\n",
    "from math import log10\n",
    "from math import log as ln\n",
    "print(dir()) # global scope now includes the log10 and ln labels"
   ]
  },
  {
   "cell_type": "code",
   "execution_count": null,
   "metadata": {},
   "outputs": [],
   "source": [
    "print(ln(10))\n",
    "print(log10(10))"
   ]
  },
  {
   "cell_type": "code",
   "execution_count": null,
   "metadata": {},
   "outputs": [],
   "source": [
    "def log10(num_tree):\n",
    "    print(f\"I logged {num_tree*10} trees.\")"
   ]
  },
  {
   "cell_type": "code",
   "execution_count": null,
   "metadata": {},
   "outputs": [],
   "source": [
    "# uh oh, name collision\n",
    "log10(10)\n",
    "from math import log10\n",
    "log10(10)"
   ]
  },
  {
   "cell_type": "code",
   "execution_count": null,
   "metadata": {},
   "outputs": [],
   "source": [
    "# *Challenge*\n",
    "# Calculate the square root of the large number 123456789.\n",
    "# Hint: you'll have to do some research to find what to import."
   ]
  },
  {
   "cell_type": "markdown",
   "metadata": {
    "tags": []
   },
   "source": [
    "##### Slide 17 (language generations)"
   ]
  },
  {
   "cell_type": "code",
   "execution_count": null,
   "metadata": {},
   "outputs": [],
   "source": [
    "from platform import python_implementation, python_version"
   ]
  },
  {
   "cell_type": "code",
   "execution_count": null,
   "metadata": {},
   "outputs": [],
   "source": [
    "print(python_implementation())\n",
    "print(python_version())"
   ]
  },
  {
   "cell_type": "markdown",
   "metadata": {
    "tags": []
   },
   "source": [
    "### Collections"
   ]
  },
  {
   "cell_type": "markdown",
   "metadata": {
    "tags": []
   },
   "source": [
    "##### Slide 20 (intro to list)"
   ]
  },
  {
   "cell_type": "code",
   "execution_count": null,
   "metadata": {
    "slideshow": {
     "slide_type": "slide"
    },
    "tags": []
   },
   "outputs": [],
   "source": [
    "lst1 = [\"a\", 2, (\"tu\", \"pl\", 3), 19.5] # list literal\n",
    "lst2 = \"ab cd ef gh ij kl mn\".split()  # str.split() method\n",
    "lst3 = list(\"mnopq\")                   # list() function\n",
    "lst4 = [2*x for x in range(4)]         # list comprehension\n",
    "for l in (lst1, lst2, lst3, lst4):\n",
    "    print(l)"
   ]
  },
  {
   "cell_type": "code",
   "execution_count": null,
   "metadata": {},
   "outputs": [],
   "source": [
    "lst2.pop(3) # remove and return the 3rd element"
   ]
  },
  {
   "cell_type": "code",
   "execution_count": null,
   "metadata": {},
   "outputs": [],
   "source": [
    "lst2.remove(\"kl\") # find and remove \"kl\"\n",
    "lst2"
   ]
  },
  {
   "cell_type": "code",
   "execution_count": null,
   "metadata": {},
   "outputs": [],
   "source": [
    "lst2.insert(3, 3.33) # insert 3.33 at index 3\n",
    "lst2"
   ]
  },
  {
   "cell_type": "code",
   "execution_count": null,
   "metadata": {},
   "outputs": [],
   "source": [
    "# more list comprehension examples\n",
    "lst5 = [x for x in range(5)]\n",
    "lst6 = [y*y for y in range(5)]\n",
    "lst7 = [(z, z/2) for z in lst5]\n",
    "lst8 = [z for z in range(100) if z%17==0]\n",
    "for l in (lst5, lst6, lst7, lst8):\n",
    "    print(l)"
   ]
  },
  {
   "cell_type": "code",
   "execution_count": null,
   "metadata": {},
   "outputs": [],
   "source": [
    "# *Challenge*\n",
    "# 1) build a list out of the characters in your name\n",
    "# 2) scramble them using `random.shuffle()`--import it\n",
    "# 3) print every other character in the scrambled list"
   ]
  },
  {
   "cell_type": "code",
   "execution_count": null,
   "metadata": {},
   "outputs": [],
   "source": [
    "# *Challenge*\n",
    "# Generate lsta using a list comprehension instead\n",
    "# of nested for-loops\n",
    "lsta = []\n",
    "for i in range(5):\n",
    "    lsta.append([i])\n",
    "    for j in range(3):\n",
    "        lsta[-1].append(i+j+1)\n",
    "print(lsta)"
   ]
  },
  {
   "cell_type": "code",
   "execution_count": null,
   "metadata": {},
   "outputs": [],
   "source": [
    "# *Challenge*\n",
    "# Flatten lsta (from above) using a list comprehension"
   ]
  },
  {
   "cell_type": "markdown",
   "metadata": {
    "tags": []
   },
   "source": [
    "##### Slide 21 (list indexing)"
   ]
  },
  {
   "cell_type": "code",
   "execution_count": null,
   "metadata": {},
   "outputs": [],
   "source": [
    "lsta = \"aa bb cc dd\".split()\n",
    "print(lsta)             # 4 elements\n",
    "print(lsta[2])          # the 3rd element\n",
    "print(lsta[-1])         # the last element\n",
    "print(lsta.index(\"bb\")) # should be 1"
   ]
  },
  {
   "cell_type": "code",
   "execution_count": null,
   "metadata": {},
   "outputs": [],
   "source": [
    "lsta.append(7)     # add 7 to the end\n",
    "lsta.append([8,9]) # add a sublist\n",
    "print(lsta)"
   ]
  },
  {
   "cell_type": "code",
   "execution_count": null,
   "metadata": {},
   "outputs": [],
   "source": [
    "lsta.pop()         # remove last element\n",
    "lsta.extend([8,9]) # add two elements\n",
    "print(lsta)        # no nested list, 7 elements"
   ]
  },
  {
   "cell_type": "code",
   "execution_count": null,
   "metadata": {},
   "outputs": [],
   "source": [
    "len(lsta)"
   ]
  },
  {
   "cell_type": "markdown",
   "metadata": {
    "tags": []
   },
   "source": [
    "##### Slide 22 (list slicing and sorting)"
   ]
  },
  {
   "cell_type": "code",
   "execution_count": null,
   "metadata": {},
   "outputs": [],
   "source": [
    "lst2 = \"gh cd ab ef ij\".split()\n",
    "print(\"lst2[:-2]:\", lst2[:-2]) # new list w/o last 2\n",
    "print(\"lst2[1:3]:\", lst2[1:3]) # 2nd and 3rd elements\n",
    "lst2.extend([\"ab\", \"ef\", \"ab\"])\n",
    "lst3 = lst2[:]                 # copy lst2\n",
    "lst2.sort()                    # sort lst2 in place\n",
    "print(\"lst2:\", lst2)           # now sorted\n",
    "print(\"lst3:\", lst3)           # unsorted copy\n",
    "print(\"sorted(lst3):\", sorted(lst3)) # new sorted list\n",
    "print(\"lst3:\", lst3)           # not sorted"
   ]
  },
  {
   "cell_type": "code",
   "execution_count": null,
   "metadata": {},
   "outputs": [],
   "source": [
    "# (aside) shallow vs deep copy of lists\n",
    "lista = [[1,1,1],[1,1,1]]\n",
    "listb = lista[:]\n",
    "print(\"# original lists\")\n",
    "print(\"lista:\", lista)\n",
    "print(\"listb:\", listb)\n",
    "print()\n",
    "\n",
    "print(\"# shallow copy\")\n",
    "listb[0][0] = 0\n",
    "print(\"lista:\", lista)\n",
    "print(\"listb:\", listb)\n",
    "print()\n",
    "\n",
    "print(\"# deep copy\")\n",
    "from copy import deepcopy\n",
    "listb = deepcopy(lista)\n",
    "listb[0][0] = \"a\"\n",
    "print(\"lista:\", lista)\n",
    "print(\"listb:\", listb)"
   ]
  },
  {
   "cell_type": "markdown",
   "metadata": {
    "tags": []
   },
   "source": [
    "##### Slide 23 (looping over list)"
   ]
  },
  {
   "cell_type": "code",
   "execution_count": null,
   "metadata": {},
   "outputs": [],
   "source": [
    "lst2 = \"gh cd ab ef ij ab ef ab\".split()\n",
    "lst2.count(\"ab\") # should be 3"
   ]
  },
  {
   "cell_type": "code",
   "execution_count": null,
   "metadata": {},
   "outputs": [],
   "source": [
    "lst2.sort() # sort in place\n",
    "print(lst2)"
   ]
  },
  {
   "cell_type": "code",
   "execution_count": null,
   "metadata": {},
   "outputs": [],
   "source": [
    "for i, v in enumerate(lst2[2:5], 1):\n",
    "    print(\"{}) {}\".format(i,v))"
   ]
  },
  {
   "cell_type": "code",
   "execution_count": null,
   "metadata": {},
   "outputs": [],
   "source": [
    "# *Challenge*\n",
    "# Generate a list out of all the letters in the English alphabet,\n",
    "# then use a for-loop to print it in rows of <=10 letters like this:\n",
    "# a b c d e f g h i j\n",
    "# k l m n o p q r s t\n",
    "# u v w x y z"
   ]
  },
  {
   "cell_type": "code",
   "execution_count": null,
   "metadata": {},
   "outputs": [],
   "source": [
    "# *Challenge*\n",
    "# Given mylist (below)\n",
    "# 1. print elements between 10 and 50, inclusive, in increasing order\n",
    "# 2. remove duplicates\n",
    "mylist = [1, 55, 1, 2, 21, 3, 8, 13, 5, 34, 89]"
   ]
  },
  {
   "cell_type": "code",
   "execution_count": null,
   "metadata": {},
   "outputs": [],
   "source": [
    "# *Challenge*\n",
    "# Generate the number of occurrences of each word in this phrase:\n",
    "phrase = (\"We arrived at the bus station early but waited \"\n",
    "          \"until noon for the bus because the bus was not \"\n",
    "          \"early so we were late\")"
   ]
  },
  {
   "cell_type": "markdown",
   "metadata": {
    "tags": []
   },
   "source": [
    "##### Slide 24 (intro to dictionaries)"
   ]
  },
  {
   "cell_type": "code",
   "execution_count": null,
   "metadata": {},
   "outputs": [],
   "source": [
    "md1 = dict(a=\"aval\", b=\"bval\") # dict initializer/class\n",
    "md2 = {\"ak\":\"akv\", \"bk\":\"bkv\"} # dict literal\n",
    "md3 = dict(zip(\"k1 k2 k3\".split(),\n",
    "               (1001, 2002, 3003))) # initializer from two lists/tuples\n",
    "md4 = dict([(\"a\", 1), (\"b\", 2)]) # explicit form of the zipped param above\n",
    "for d in (md1, md2, md3, md4):\n",
    "    print(d)"
   ]
  },
  {
   "cell_type": "code",
   "execution_count": null,
   "metadata": {},
   "outputs": [],
   "source": [
    "# *Challenge*\n",
    "# Create a dictionary expressing the components of your home address:\n",
    "# street, city, state, country, postal code."
   ]
  },
  {
   "cell_type": "markdown",
   "metadata": {
    "tags": []
   },
   "source": [
    "##### Slide 25 (dict instead of switch)"
   ]
  },
  {
   "cell_type": "code",
   "execution_count": null,
   "metadata": {},
   "outputs": [],
   "source": [
    "# setup for example below\n",
    "def doit(arg):\n",
    "    print(\"you passed\", arg)\n",
    "\n",
    "vswitch = {\n",
    "    \"one\": (doit, \"one\"),\n",
    "    \"two\": (doit, \"two\"),\n",
    "    \"three\": (doit, \"three\"),\n",
    "    \"four\": (doit, \"four\"),\n",
    "    # ...\n",
    "}"
   ]
  },
  {
   "cell_type": "code",
   "execution_count": null,
   "metadata": {},
   "outputs": [],
   "source": [
    "val = input(\"Spell a number 1-4\")\n",
    "try:\n",
    "    lup = vswitch[val] # look up case function\n",
    "    lup[0](lup[1])     # call function for case\n",
    "except KeyError:\n",
    "    doit(\"UNK\")"
   ]
  },
  {
   "cell_type": "code",
   "execution_count": null,
   "metadata": {},
   "outputs": [],
   "source": [
    "# *Challenge*\n",
    "# Create a dictionary with these 5 items:\n",
    "# * keys: character triples \"abc\", \"ghi\", \"mno\", \"pqr\", \"xyz\"\n",
    "# * vals: integers 1001, 2002, 3003, 4004, 5005\n",
    "# then perform the following operations:\n",
    "# 1. retrieve the values associated with \"ghi\" and \"xyz\"\n",
    "# 2. print the retrieved values\n",
    "# 3. what happens if you try to retrieve \"jkl\"?"
   ]
  },
  {
   "cell_type": "markdown",
   "metadata": {
    "tags": []
   },
   "source": [
    "##### Slide 26 (intro to set)"
   ]
  },
  {
   "cell_type": "code",
   "execution_count": null,
   "metadata": {},
   "outputs": [],
   "source": [
    "s = {1,2,3}           # set literal\n",
    "s2 = set(list(\"abc\")) # set initializer/class\n",
    "fs = frozenset(s2)    # immutable set\n",
    "print(s)\n",
    "print(s2)\n",
    "print(fs)"
   ]
  },
  {
   "cell_type": "code",
   "execution_count": null,
   "metadata": {},
   "outputs": [],
   "source": [
    "\"c\" in s2 # it should be"
   ]
  },
  {
   "cell_type": "code",
   "execution_count": null,
   "metadata": {},
   "outputs": [],
   "source": [
    "\"d\" in fs # it's not"
   ]
  },
  {
   "cell_type": "code",
   "execution_count": null,
   "metadata": {},
   "outputs": [],
   "source": [
    "dups = list(\"abbacba\")\n",
    "print(dups)\n",
    "print(set(dups)) # remove duplicates"
   ]
  },
  {
   "cell_type": "markdown",
   "metadata": {
    "tags": []
   },
   "source": [
    "##### Slide 27 (intro to tuple)"
   ]
  },
  {
   "cell_type": "code",
   "execution_count": null,
   "metadata": {},
   "outputs": [],
   "source": [
    "t0 = ()                 # empty tuple\n",
    "t1 = (1, )              # single, end w/ ,\n",
    "t2 = (2,3,4)            # () enclosed seq\n",
    "t3 = tuple(list(\"abc\")) # initializer/class\n",
    "t4 = \"a\", \"tpl\", \"pack\" # use packing\n",
    "t0, t1, t2              # more packing"
   ]
  },
  {
   "cell_type": "code",
   "execution_count": null,
   "metadata": {},
   "outputs": [],
   "source": [
    "t3, t4"
   ]
  },
  {
   "cell_type": "code",
   "execution_count": null,
   "metadata": {},
   "outputs": [],
   "source": [
    "x, _, z = t3 # unpacking\n",
    "print(z)     # should be \"c\"\n",
    "print(t3[1]) # indexable\n",
    "print(hash(t3)) # simple members"
   ]
  },
  {
   "cell_type": "code",
   "execution_count": null,
   "metadata": {},
   "outputs": [],
   "source": [
    "t5 = (\"a\", [1,2]) # [1,2] won't hash\n",
    "print(hash(t5)) # should throw TypeError"
   ]
  },
  {
   "cell_type": "code",
   "execution_count": null,
   "metadata": {},
   "outputs": [],
   "source": [
    "# Pythonic swap using tuples\n",
    "a = 1\n",
    "b = 2\n",
    "print(a, b)\n",
    "b, a = a, b\n",
    "print(a, b)"
   ]
  },
  {
   "cell_type": "code",
   "execution_count": null,
   "metadata": {},
   "outputs": [],
   "source": [
    "# you need a final comma for tuple literal with length 1\n",
    "tpla = (1) # not a tuple\n",
    "print(type(tpla))\n",
    "tpla = (1,)\n",
    "print(type(tpla))"
   ]
  },
  {
   "cell_type": "markdown",
   "metadata": {
    "tags": []
   },
   "source": [
    "##### Slide 28 (collections library)"
   ]
  },
  {
   "cell_type": "code",
   "execution_count": null,
   "metadata": {},
   "outputs": [],
   "source": [
    "import collections\n",
    "print(dir(collections))"
   ]
  },
  {
   "cell_type": "markdown",
   "metadata": {
    "tags": []
   },
   "source": [
    "##### Slide 29 (strings)"
   ]
  },
  {
   "cell_type": "code",
   "execution_count": null,
   "metadata": {},
   "outputs": [],
   "source": [
    "s0 = \"abc\"\n",
    "s2 = \" \".join([\"hi\", \"Hamza\", \":)\"])\n",
    "print(s0)\n",
    "print(s2)"
   ]
  },
  {
   "cell_type": "code",
   "execution_count": null,
   "metadata": {},
   "outputs": [],
   "source": [
    "\"hamza\" in s2.lower() # should be True"
   ]
  },
  {
   "cell_type": "code",
   "execution_count": null,
   "metadata": {},
   "outputs": [],
   "source": [
    "\"shane\" in s2.lower() # should be False"
   ]
  },
  {
   "cell_type": "code",
   "execution_count": null,
   "metadata": {},
   "outputs": [],
   "source": [
    "l3 = s2.split() # split string to a list\n",
    "l3[0][1] # i from hi"
   ]
  },
  {
   "cell_type": "code",
   "execution_count": null,
   "metadata": {},
   "outputs": [],
   "source": [
    "s0 + s2 # concatenate strings"
   ]
  },
  {
   "cell_type": "code",
   "execution_count": null,
   "metadata": {},
   "outputs": [],
   "source": [
    "# in-place concatenation\n",
    "# This may be inefficient in other implementations\n",
    "# than cpython, because str is immutable\n",
    "s0 += s2\n",
    "print(s0)"
   ]
  },
  {
   "cell_type": "code",
   "execution_count": null,
   "metadata": {},
   "outputs": [],
   "source": [
    "# raw strings\n",
    "print(\"c:\\tmp\") # oops, \\t is a special character\n",
    "print(r\"c:\\tmp\") # use a raw string literal"
   ]
  },
  {
   "cell_type": "code",
   "execution_count": null,
   "metadata": {},
   "outputs": [],
   "source": [
    "# *Challenge*\n",
    "# Given an arbitrary string, generate a new string such that\n",
    "# case alternates between each character. For example:\n",
    "# * given \"A\" print \"A\"\n",
    "# * given \"ab\" print \"Ab\"\n",
    "# * given \"AbcdeFghIJklm\" print \"AbCdEfGhIjKlM\""
   ]
  },
  {
   "cell_type": "markdown",
   "metadata": {
    "tags": []
   },
   "source": [
    "##### Slide 30 (slicing)"
   ]
  },
  {
   "cell_type": "code",
   "execution_count": null,
   "metadata": {},
   "outputs": [],
   "source": [
    "a = [chr(x) for x in range(65,75)]\n",
    "print(a)"
   ]
  },
  {
   "cell_type": "code",
   "execution_count": null,
   "metadata": {},
   "outputs": [],
   "source": [
    "print(a[3:7])\n",
    "print(a[3:])\n",
    "print(a[:7])\n",
    "print(a[:])\n",
    "print(a[::-1])\n",
    "print(a[-2:])\n",
    "print(a[:-2])\n",
    "print(a[::2])"
   ]
  },
  {
   "cell_type": "code",
   "execution_count": null,
   "metadata": {},
   "outputs": [],
   "source": [
    "# *Challenge*\n",
    "# Given two input strings determine if any 3-character sequence\n",
    "# in the first string is present anywhere in the second string.\n",
    "# E.g. given \"aaabbb\" and \"abababab\" print \"no\",\n",
    "# but given \"aaabbb\" and \"aabbaabb\" print \"yes\"."
   ]
  },
  {
   "cell_type": "markdown",
   "metadata": {
    "tags": []
   },
   "source": [
    "### Functions"
   ]
  },
  {
   "cell_type": "markdown",
   "metadata": {
    "tags": []
   },
   "source": [
    "##### Slide 34 (functions are first-class objects)"
   ]
  },
  {
   "cell_type": "code",
   "execution_count": null,
   "metadata": {},
   "outputs": [],
   "source": [
    "f = lambda x: x**x\n",
    "print(type(f))\n",
    "print(dir(f))"
   ]
  },
  {
   "cell_type": "markdown",
   "metadata": {
    "tags": []
   },
   "source": [
    "##### Slide 35 (nested functions)"
   ]
  },
  {
   "cell_type": "code",
   "execution_count": null,
   "metadata": {},
   "outputs": [],
   "source": [
    "def outer(anarg):\n",
    "    \"\"\"Outer fxn\"\"\"\n",
    "    mult = 3\n",
    "    def inner(myarg):\n",
    "        \"\"\"Nested fxn\"\"\"\n",
    "        # access to mult from\n",
    "        # enclosing scope\n",
    "        xx = mult * myarg\n",
    "        print(\"Inner: \" + str(xx))\n",
    "\n",
    "    for i in range(mult):\n",
    "        inner(anarg)"
   ]
  },
  {
   "cell_type": "code",
   "execution_count": null,
   "metadata": {},
   "outputs": [],
   "source": [
    "outer(\"z\")"
   ]
  },
  {
   "cell_type": "markdown",
   "metadata": {
    "tags": []
   },
   "source": [
    "##### Slide 36 (return multiple objects)"
   ]
  },
  {
   "cell_type": "code",
   "execution_count": null,
   "metadata": {},
   "outputs": [],
   "source": [
    "# how to define a function that returns multiple objects\n",
    "def rtn_mult():\n",
    "    \"\"\"Return multiple objects\n",
    "    from a single return statement\n",
    "    \"\"\"\n",
    "    return 23, 19.4, \"Hi Karen\""
   ]
  },
  {
   "cell_type": "code",
   "execution_count": null,
   "metadata": {},
   "outputs": [],
   "source": [
    "# how to use a function that returns multiple objects\n",
    "rval = rtn_mult() # returned as a single object\n",
    "print(type(rval)) # a tuple\n",
    "print(rval)       # all there"
   ]
  },
  {
   "cell_type": "code",
   "execution_count": null,
   "metadata": {},
   "outputs": [],
   "source": [
    "# ... or this way\n",
    "i, f, s = rtn_mult() # unpack tuple\n",
    "print(f)"
   ]
  },
  {
   "cell_type": "code",
   "execution_count": null,
   "metadata": {},
   "outputs": [],
   "source": [
    "# ... or this way\n",
    "x, _, z = rtn_mult() # ignore the float\n",
    "print(z)"
   ]
  },
  {
   "cell_type": "code",
   "execution_count": null,
   "metadata": {},
   "outputs": [],
   "source": [
    "# *Challenge*\n",
    "# Write a function that accepts a single parameter, quadruple\n",
    "# it, and returns both the original parameter and the result.\n",
    "# Call the function 3 times with an int, str, and list,\n",
    "# and print the results with some annotation in each case."
   ]
  },
  {
   "cell_type": "markdown",
   "metadata": {
    "tags": []
   },
   "source": [
    "##### Slide 37 (default paramaters)"
   ]
  },
  {
   "cell_type": "code",
   "execution_count": null,
   "metadata": {},
   "outputs": [],
   "source": [
    "# a convoluted way to print the function signature for `open`\n",
    "print(f\"open({', '.join(open.__text_signature__.split(', ')[2:])})\")"
   ]
  },
  {
   "cell_type": "code",
   "execution_count": null,
   "metadata": {},
   "outputs": [],
   "source": [
    "# how to use default parameters\n",
    "print(\"Hello\", \"World\") # sep has default value \" \"\n",
    "print(\"Hello\", \"World\", sep=\"\") # pass new separator"
   ]
  },
  {
   "cell_type": "code",
   "execution_count": null,
   "metadata": {},
   "outputs": [],
   "source": [
    "# how to define a default parameter\n",
    "def mydefault(extra=()):\n",
    "    msg = \"Hello World\"\n",
    "    if not extra:\n",
    "        print(msg + \"!\")\n",
    "    else:\n",
    "        extras_to_print = [str(x) for x in extra]\n",
    "        print(msg, \" \".join(extras_to_print) + \"!\")\n",
    "mydefault()\n",
    "mydefault([40, 41])\n",
    "mydefault((\"Sam\", \"June\", \"Vijay\"))"
   ]
  },
  {
   "cell_type": "code",
   "execution_count": null,
   "metadata": {},
   "outputs": [],
   "source": [
    "# Danger with mutable default parameters.\n",
    "# Note: the following behavior arises because default\n",
    "# params are evaluated only once; at function definition.\n",
    "# The lesson is DON'T USE *MUTABLE* DEFAULT PARAMS\n",
    "def mydefault(extra=[]):\n",
    "    msg = \"Hello World\"\n",
    "    if not extra:\n",
    "        extra.append(\"you thought this addition was just temporary...but it's not\")\n",
    "        print(msg + \"!\")\n",
    "    else:\n",
    "        extras_to_print = [str(x) for x in extra]\n",
    "        print(msg, \" \".join(extras_to_print) + \"!\")\n",
    "mydefault()\n",
    "mydefault([40, 41])\n",
    "mydefault() # uhoh, the default param is no longer empty"
   ]
  },
  {
   "cell_type": "markdown",
   "metadata": {
    "tags": []
   },
   "source": [
    "##### Slide 38 (variable parameter lists)"
   ]
  },
  {
   "cell_type": "code",
   "execution_count": null,
   "metadata": {},
   "outputs": [],
   "source": [
    "# how to define a variable parameter list\n",
    "def vargs(*args):\n",
    "    \"\"\"Arbitrary number of\n",
    "    variable arguments, presents\n",
    "    as tuple to function body\n",
    "    \"\"\"\n",
    "    print(args)\n",
    "    try:\n",
    "        print(\"1th elem:\", args[1])\n",
    "    except IndexError:\n",
    "        print(\"?\")"
   ]
  },
  {
   "cell_type": "code",
   "execution_count": null,
   "metadata": {},
   "outputs": [],
   "source": [
    "# how to use a variable parameter list\n",
    "arglist = \"a b c d e f\".split()"
   ]
  },
  {
   "cell_type": "code",
   "execution_count": null,
   "metadata": {},
   "outputs": [],
   "source": [
    "vargs(arglist) # passing only one argument"
   ]
  },
  {
   "cell_type": "code",
   "execution_count": null,
   "metadata": {},
   "outputs": [],
   "source": [
    "vargs(*arglist) # unpacking and passing multiple args"
   ]
  },
  {
   "cell_type": "code",
   "execution_count": null,
   "metadata": {},
   "outputs": [],
   "source": [
    "# *Challenge*\n",
    "# Define a function that returns the distance from the origin\n",
    "# given a variable number of floats (x, y, ...), using the\n",
    "# formula sqrt(x**2+y**2+...). (Hint: import math.sqrt).\n",
    "# E.g. given (2,2) return 2.828; or given (1,1,1,1) return 2."
   ]
  },
  {
   "cell_type": "markdown",
   "metadata": {
    "tags": []
   },
   "source": [
    "##### Slide 39 (keyword parameters)"
   ]
  },
  {
   "cell_type": "code",
   "execution_count": null,
   "metadata": {},
   "outputs": [],
   "source": [
    "# how to define keyword parameters\n",
    "def kargs(**kwargs):\n",
    "    \"\"\"Arbitrary number of keyword arguments\n",
    "    will be received as a dictionary. We would\n",
    "    usually document the expected keyword args\n",
    "    \"\"\"\n",
    "    print(kwargs) # dump kwargs\n",
    "    fstr = \"astr is: {} | anum is: {} | bnum is: {}\"\n",
    "    # silently ignore keyword args besides these\n",
    "    print(fstr.format(\n",
    "        kwargs.get(\"astr\", \"-\"),\n",
    "        kwargs.get(\"anum\", \"42\"),\n",
    "        kwargs.get(\"bnum\")))"
   ]
  },
  {
   "cell_type": "code",
   "execution_count": null,
   "metadata": {},
   "outputs": [],
   "source": [
    "# how to use keyword parameters\n",
    "kargs(bnum=4, astr=\"four\", anum=2) # pass explicitly"
   ]
  },
  {
   "cell_type": "code",
   "execution_count": null,
   "metadata": {},
   "outputs": [],
   "source": [
    "# ... or this way\n",
    "example_args = {\"bnum\":4, \"astr\":\"four\", \"anum\":2}\n",
    "kargs(**example_args) # pass by unpacking a dict"
   ]
  },
  {
   "cell_type": "markdown",
   "metadata": {
    "tags": []
   },
   "source": [
    "### Classes"
   ]
  },
  {
   "cell_type": "markdown",
   "metadata": {
    "tags": []
   },
   "source": [
    "##### Slide 42 (intro to classes)"
   ]
  },
  {
   "cell_type": "markdown",
   "metadata": {},
   "source": [
    "Python 2.x required `class A(object)` to create a new-style class, but\n",
    "Python 3.x does it by default with `class A`. For a summar of the\n",
    "differences, see this popular StackOverflow thread on\n",
    "[old style vs new style classes in Python](https://stackoverflow.com/questions/54867/what-is-the-difference-between-old-style-and-new-style-classes-in-python)."
   ]
  },
  {
   "cell_type": "code",
   "execution_count": null,
   "metadata": {},
   "outputs": [],
   "source": [
    "# how to define a class\n",
    "class A:\n",
    "    def __init__(self, param1):\n",
    "        self.param_a = param1"
   ]
  },
  {
   "cell_type": "code",
   "execution_count": null,
   "metadata": {},
   "outputs": [],
   "source": [
    "# how to use a class\n",
    "alicej = A(\"p1\")\n",
    "print(alicej.param_a)"
   ]
  },
  {
   "cell_type": "code",
   "execution_count": null,
   "metadata": {},
   "outputs": [],
   "source": [
    "# how to implement inheritance\n",
    "class B(A): # derived class\n",
    "    def __init__(self, param1, param2):\n",
    "        super().__init__(param1)\n",
    "        self.param_b =  param2"
   ]
  },
  {
   "cell_type": "code",
   "execution_count": null,
   "metadata": {},
   "outputs": [],
   "source": [
    "# how to use a derived class\n",
    "bobj = B(\"p1\", \"p2\")\n",
    "print(bobj.param_a)\n",
    "print(bobj.param_b)"
   ]
  },
  {
   "cell_type": "code",
   "execution_count": null,
   "metadata": {},
   "outputs": [],
   "source": [
    "# how to implement inclusion\n",
    "class C: # class including A\n",
    "    def __init__(self, param1, param2):\n",
    "        self.a = A(param1)\n",
    "        self.param_b =  param2"
   ]
  },
  {
   "cell_type": "code",
   "execution_count": null,
   "metadata": {},
   "outputs": [],
   "source": [
    "# how to use a class that includes another\n",
    "catej = C(\"p1\", \"p2\")\n",
    "print(catej.a.param_a)\n",
    "print(catej.param_b)"
   ]
  },
  {
   "cell_type": "code",
   "execution_count": null,
   "metadata": {},
   "outputs": [],
   "source": [
    "# *Challenge*\n",
    "# Define a very simple class `Node` that represents the nodes\n",
    "# of a binary tree data structure. It should have three attributes:\n",
    "# `left`, `right`, and `val`. E.g. the following binary tree:\n",
    "#\n",
    "#     10\n",
    "#    /  \\\n",
    "#  2    12\n",
    "#\n",
    "# could be expressed `Node(val=10, left=Node(val=2), right=Node(val=12))`.\n",
    "# Hint: the only method needed to implement this is `__init__`. It\n",
    "# could have the signature `__init__(self, val, left=None, right=None)`."
   ]
  },
  {
   "cell_type": "markdown",
   "metadata": {},
   "source": [
    "##### Slide 43 (no access specifiers)"
   ]
  },
  {
   "cell_type": "code",
   "execution_count": null,
   "metadata": {},
   "outputs": [],
   "source": [
    "# how to bind attribute labels\n",
    "class MC:\n",
    "    mca = 23 # class attribute (we'll explore later)\n",
    "    def __init__(self, c, d, e):\n",
    "        # instance attributes\n",
    "        self._c = c\n",
    "        self._d = d\n",
    "        _e = e # probably unexpected (local, only lasts through __init__)\n",
    "        self.__secret = c + d\n",
    "    \n",
    "    def __str__(self):\n",
    "            fstr = (\"mca={}; _c={}; _d={}; __secret={}\")\n",
    "            return fstr.format(MC.mca, self._c, self._d, self.__secret)"
   ]
  },
  {
   "cell_type": "code",
   "execution_count": null,
   "metadata": {},
   "outputs": [],
   "source": [
    "# how to access attributes\n",
    "mc = MC(14, 42, \"ee\")\n",
    "print(mc)\n",
    "print(mc._c)          # we have direct access\n",
    "print(mc._MC__secret) # we have access because we know the mangled name"
   ]
  },
  {
   "cell_type": "code",
   "execution_count": null,
   "metadata": {},
   "outputs": [],
   "source": [
    "print(dir(mc)) # we can see __secret is hidden from the dir list (but the mangled name is there)"
   ]
  },
  {
   "cell_type": "markdown",
   "metadata": {},
   "source": [
    "##### Slide 44 (methods)"
   ]
  },
  {
   "cell_type": "code",
   "execution_count": null,
   "metadata": {},
   "outputs": [],
   "source": [
    "class MyClass:\n",
    "    def __init__(self, p1, p2):\n",
    "        # bind object data attrs\n",
    "        self.op1 = p1\n",
    "        self.op2 = p2\n",
    "        self.conc = p1 + p2\n",
    "    \n",
    "    def double(self):\n",
    "        # doubles all, no return\n",
    "        self.op1 *= 2\n",
    "        self.op2 *= 2\n",
    "        self.conc *= 2\n",
    "        \n",
    "    def _sv(self, attr):\n",
    "        # build str with attr\n",
    "        sv = getattr(self, attr)\n",
    "        fstr = \"{}: {}\"\n",
    "        return fstr.format(attr, sv)\n",
    "    \n",
    "    def __str__(self):\n",
    "        # generate str representation\n",
    "        rl = []\n",
    "        attrs = \"op1 op2 conc\"\n",
    "        for i in attrs.split():\n",
    "            rl.append(self._sv(i))\n",
    "        # combine rl elements\n",
    "        return \"; \".join(rl)"
   ]
  },
  {
   "cell_type": "code",
   "execution_count": null,
   "metadata": {},
   "outputs": [],
   "source": [
    "mc = MyClass(\"a\", \"b\")\n",
    "print(str(mc))        # calls __str__()\n",
    "mc.double()           # call method\n",
    "print(mc.__str__())   # magic method\n",
    "print(mc._sv(\"conc\")) # not private"
   ]
  },
  {
   "cell_type": "code",
   "execution_count": null,
   "metadata": {},
   "outputs": [],
   "source": [
    "# *Challenge*\n",
    "# Define a class `Queue` that implements the following interface:\n",
    "# `Queue.insert(x)` appends x to the end of the queue.\n",
    "# `Queue.pop()` removes and returns the oldest element in the queue."
   ]
  },
  {
   "cell_type": "code",
   "execution_count": null,
   "metadata": {},
   "outputs": [],
   "source": [
    "# *Challenge*\n",
    "# Define a class `Stack` that implements the following interface:\n",
    "# `Stack.insert(x)` appends x to the top of the stack.\n",
    "# `Stack.pop()` removes and returns the element at the top of the stack."
   ]
  },
  {
   "cell_type": "markdown",
   "metadata": {},
   "source": [
    "##### Slide 45 (`__init__`)"
   ]
  },
  {
   "cell_type": "code",
   "execution_count": null,
   "metadata": {},
   "outputs": [],
   "source": [
    "class C:\n",
    "    # class attribute, shared by\n",
    "    # all instances of the class\n",
    "    cl_attr = \"class attr\"\n",
    "    def __init__(self, ival):\n",
    "        # instance attribute\n",
    "        self.inst_attr = ival"
   ]
  },
  {
   "cell_type": "code",
   "execution_count": null,
   "metadata": {},
   "outputs": [],
   "source": [
    "c_a = C(\"InstA\")\n",
    "c_b = C(\"InstB\")\n",
    "\n",
    "print(c_a.cl_attr, c_a.inst_attr, sep=\", \")\n",
    "print(c_b.cl_attr, c_b.inst_attr, sep=\", \")"
   ]
  },
  {
   "cell_type": "code",
   "execution_count": null,
   "metadata": {},
   "outputs": [],
   "source": [
    "C.cl_attr = 42 # modify the class attribute\n",
    "print(C.cl_attr)\n",
    "\n",
    "print(c_a.cl_attr, c_a.inst_attr, sep=\", \")\n",
    "print(c_b.cl_attr, c_b.inst_attr, sep=\", \")"
   ]
  },
  {
   "cell_type": "markdown",
   "metadata": {},
   "source": [
    "##### Slide 46 (accessors)"
   ]
  },
  {
   "cell_type": "code",
   "execution_count": null,
   "metadata": {},
   "outputs": [],
   "source": [
    "# Competing Python camps: simplicity vs safety.\n",
    "# simplicity: don't use getters/setters\n",
    "# safety: do\n",
    "# General advice: use accessors when you need expensive data validation\n",
    "class MC2:\n",
    "    \"\"\"Demonstrate @property decorator.\n",
    "    \n",
    "    x is a property, the actual attribute is __x\n",
    "    \"\"\"\n",
    "    def __init__(self, x):\n",
    "        self.x = x # use setter\n",
    "    @property      # decorator\n",
    "    def x(self):\n",
    "        \"\"\"Getter for x\"\"\"\n",
    "        return self.__x # attr is __x\n",
    "    @x.setter      # decorator\n",
    "    def x(self, x):\n",
    "        \"\"\"Validate & set x, use 'SEL' if arg invalid.\"\"\"\n",
    "        if x:\n",
    "            self.__x = x # valid, set x\n",
    "        else:\n",
    "            estr = (\"{} does not evaluate \"\n",
    "                    \"to true, using default\")\n",
    "            print(estr.format(repr(x)))\n",
    "            self.__x = \"SEL\" # invalid, use default\n",
    "    def __repr__(self):\n",
    "        \"\"\"Pythonic representation of obj.\"\"\"\n",
    "        fstr = \"MC2({})\"                 # recreate object\n",
    "        return fstr.format(repr(self.x)) # in case of str"
   ]
  },
  {
   "cell_type": "code",
   "execution_count": null,
   "metadata": {},
   "outputs": [],
   "source": [
    "mc2 = MC2(5) # create a new instance\n",
    "print(mc2)"
   ]
  },
  {
   "cell_type": "code",
   "execution_count": null,
   "metadata": {},
   "outputs": [],
   "source": [
    "l = [\"Paul\", 42] # evaluates as True\n",
    "mc2.x = l # assign truthiness value\n",
    "print(mc2)"
   ]
  },
  {
   "cell_type": "code",
   "execution_count": null,
   "metadata": {},
   "outputs": [],
   "source": [
    "mc2.x = 0 # bad value, will default\n",
    "print(mc2)"
   ]
  }
 ],
 "metadata": {
  "kernelspec": {
   "display_name": "Python 3 (ipykernel)",
   "language": "python",
   "name": "python3"
  },
  "language_info": {
   "codemirror_mode": {
    "name": "ipython",
    "version": 3
   },
   "file_extension": ".py",
   "mimetype": "text/x-python",
   "name": "python",
   "nbconvert_exporter": "python",
   "pygments_lexer": "ipython3",
   "version": "3.10.3"
  }
 },
 "nbformat": 4,
 "nbformat_minor": 4
}
