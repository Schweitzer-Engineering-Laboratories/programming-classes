{
 "cells": [
  {
   "cell_type": "markdown",
   "metadata": {
    "slideshow": {
     "slide_type": "slide"
    },
    "tags": []
   },
   "source": [
    "# Overview"
   ]
  },
  {
   "cell_type": "markdown",
   "metadata": {
    "slideshow": {
     "slide_type": "subslide"
    },
    "tags": []
   },
   "source": [
    "Brett Deaton -- Feb 2022"
   ]
  },
  {
   "cell_type": "markdown",
   "metadata": {
    "tags": []
   },
   "source": [
    "### Syntax"
   ]
  },
  {
   "cell_type": "markdown",
   "metadata": {
    "tags": []
   },
   "source": [
    "##### Slide 12 (operators)"
   ]
  },
  {
   "cell_type": "code",
   "execution_count": null,
   "metadata": {},
   "outputs": [],
   "source": [
    "x = 10\n",
    "y = 2\n",
    "print(f\"if x={x}, x+={y}\", end=\"\")\n",
    "x+=y\n",
    "print(f\" results in x={x}\")"
   ]
  },
  {
   "cell_type": "code",
   "execution_count": null,
   "metadata": {},
   "outputs": [],
   "source": [
    "expr_list = [\n",
    "    \"5/2\",\n",
    "    \"5//2\",\n",
    "    \"5%2\",\n",
    "    \"5**2\",\n",
    "]\n",
    "for expr in expr_list:\n",
    "    print(expr, \"=\", eval(expr))"
   ]
  },
  {
   "cell_type": "code",
   "execution_count": null,
   "metadata": {},
   "outputs": [],
   "source": [
    "expr_list = [\n",
    "    \"5^2\",\n",
    "    \"~5\",\n",
    "    \"4>>1\",\n",
    "]\n",
    "for expr in expr_list:\n",
    "    print(expr, \"=\", eval(expr))"
   ]
  },
  {
   "cell_type": "markdown",
   "metadata": {},
   "source": [
    "##### Slide 13 (comments)"
   ]
  },
  {
   "cell_type": "code",
   "execution_count": null,
   "metadata": {},
   "outputs": [],
   "source": [
    "cur = lambda pot, res: pot/res # Ohm's law\n",
    "cur(120, 6000)"
   ]
  },
  {
   "cell_type": "code",
   "execution_count": null,
   "metadata": {},
   "outputs": [],
   "source": [
    "def pow(pot, res):\n",
    "    \"\"\"Returns the power used by an electrical component.\n",
    "\n",
    "    This is derived from Joule's law P=IV, assuming the\n",
    "    component is ohmic (i.e. obeys Ohm's law V=IR).\n",
    "    \n",
    "    Args:\n",
    "        pot - potential across the component (volts)\n",
    "        res - resistance of the component (ohms)\n",
    "    \n",
    "    Returns\n",
    "        power consumed by the device (watts)\n",
    "    \"\"\"\n",
    "    return pot**2/res\n",
    "pow(120, 6000)"
   ]
  },
  {
   "cell_type": "code",
   "execution_count": null,
   "metadata": {},
   "outputs": [],
   "source": [
    "help(pow)"
   ]
  },
  {
   "cell_type": "markdown",
   "metadata": {},
   "source": [
    "##### Slide 14 (indentation)"
   ]
  },
  {
   "cell_type": "code",
   "execution_count": null,
   "metadata": {},
   "outputs": [],
   "source": [
    "def handle_ship_error(error_code):\n",
    "    if error_code:\n",
    "        if \"major\" in error_code.lower():\n",
    "            print(\"evacuate!\")\n",
    "        else:\n",
    "            print(\"cut power\")\n",
    "    else:\n",
    "        print(\"continue on course\")"
   ]
  },
  {
   "cell_type": "code",
   "execution_count": null,
   "metadata": {},
   "outputs": [],
   "source": [
    "handle_ship_error(\"\")"
   ]
  },
  {
   "cell_type": "code",
   "execution_count": null,
   "metadata": {},
   "outputs": [],
   "source": [
    "handle_ship_error(\"MAJOR MALFUNCTION\")"
   ]
  },
  {
   "cell_type": "code",
   "execution_count": null,
   "metadata": {},
   "outputs": [],
   "source": [
    "handle_ship_error(\"do you smell burning?\")"
   ]
  },
  {
   "cell_type": "markdown",
   "metadata": {},
   "source": [
    "##### Slide 15 (more on indentation)"
   ]
  },
  {
   "cell_type": "code",
   "execution_count": null,
   "metadata": {},
   "outputs": [],
   "source": [
    "error_code_history = [\"replace bulb\", \"change oil\"]"
   ]
  },
  {
   "cell_type": "code",
   "execution_count": null,
   "metadata": {},
   "outputs": [],
   "source": [
    "new_error_code = \"major agghhhh!\"\n",
    "if new_error_code:\n",
    "    error_code_history.append(new_error_code)"
   ]
  },
  {
   "cell_type": "code",
   "execution_count": null,
   "metadata": {},
   "outputs": [],
   "source": [
    "print(error_code_history)"
   ]
  },
  {
   "cell_type": "code",
   "execution_count": null,
   "metadata": {},
   "outputs": [],
   "source": [
    "del error_code_history # oops"
   ]
  },
  {
   "cell_type": "code",
   "execution_count": null,
   "metadata": {},
   "outputs": [],
   "source": [
    "new_error_code = \"\"\n",
    "if new_error_code:\n",
    "    error_code_history.append(new_error_code)"
   ]
  },
  {
   "cell_type": "code",
   "execution_count": null,
   "metadata": {},
   "outputs": [],
   "source": [
    "print(error_code_history)"
   ]
  },
  {
   "cell_type": "markdown",
   "metadata": {},
   "source": [
    "##### Slide 16 (end of statement)"
   ]
  },
  {
   "cell_type": "code",
   "execution_count": null,
   "metadata": {},
   "outputs": [],
   "source": [
    "t = 7\n",
    "lim = 42\n",
    "if t < lim:\n",
    "    print(t); print(\"less than\"); print(lim);"
   ]
  },
  {
   "cell_type": "code",
   "execution_count": null,
   "metadata": {},
   "outputs": [],
   "source": [
    "mls = (\"A long string can be broken over \"\n",
    "       \"multiple lines, as demonstrated \"\n",
    "       \"here, using pairs of brackets.\"\n",
    "      )\n",
    "mls"
   ]
  },
  {
   "cell_type": "markdown",
   "metadata": {},
   "source": [
    "##### Slide 17 (`None`)"
   ]
  },
  {
   "cell_type": "code",
   "execution_count": null,
   "metadata": {},
   "outputs": [],
   "source": [
    "def is_none(argn):\n",
    "    if argn is None:\n",
    "        print(\"is None\")\n",
    "    else:\n",
    "        print(\"is not None\")"
   ]
  },
  {
   "cell_type": "code",
   "execution_count": null,
   "metadata": {},
   "outputs": [],
   "source": [
    "is_none(None)"
   ]
  },
  {
   "cell_type": "code",
   "execution_count": null,
   "metadata": {},
   "outputs": [],
   "source": [
    "is_none(False)"
   ]
  },
  {
   "cell_type": "code",
   "execution_count": null,
   "metadata": {},
   "outputs": [],
   "source": [
    "is_none(\"\")"
   ]
  },
  {
   "cell_type": "markdown",
   "metadata": {},
   "source": [
    "##### Slide 18 (keywords)"
   ]
  },
  {
   "cell_type": "code",
   "execution_count": null,
   "metadata": {},
   "outputs": [],
   "source": [
    "import keyword"
   ]
  },
  {
   "cell_type": "code",
   "execution_count": null,
   "metadata": {},
   "outputs": [],
   "source": [
    "print(keyword.kwlist)"
   ]
  },
  {
   "cell_type": "code",
   "execution_count": null,
   "metadata": {},
   "outputs": [],
   "source": [
    "False = 1"
   ]
  },
  {
   "cell_type": "code",
   "execution_count": null,
   "metadata": {},
   "outputs": [],
   "source": [
    "# Python 3.10 introduced soft keywords match, case, _\n",
    "year = input(\"Enter birth year:\")\n",
    "match year:\n",
    "    case \"1608\":\n",
    "        print(\"Hi John Milton\")\n",
    "    case \"1983\":\n",
    "        print(\"Hi Kim Jong-un\")\n",
    "    case \"2020\":\n",
    "        print(\"Hi baby hacker\")\n",
    "    case _:\n",
    "        print(\"Hi everyone else\")"
   ]
  },
  {
   "cell_type": "markdown",
   "metadata": {},
   "source": [
    "##### Slide 19 (shooting ourselves in the foot)"
   ]
  },
  {
   "cell_type": "markdown",
   "metadata": {},
   "source": [
    "Thankfully you can't rebind a keyword to a new object. But you can rebind a built-in function to a new object. Example below."
   ]
  },
  {
   "cell_type": "code",
   "execution_count": null,
   "metadata": {},
   "outputs": [],
   "source": [
    "# This is bad code. It's gonna create problems for you, because it binds\n",
    "# a Python built-in function `list` to a new object.\n",
    "# But run it for your education. Then repair with instructions below.\n",
    "lists_of_years = [[1608, 1983, 2020],\n",
    "                  [1066, 1809]]\n",
    "for list in lists_of_years:\n",
    "    for y in list:\n",
    "        print(y//100+1, \"th century\")"
   ]
  },
  {
   "cell_type": "code",
   "execution_count": null,
   "metadata": {},
   "outputs": [],
   "source": [
    "# Uhoh...now the `list` function doesn't exist.\n",
    "more_names = list((\"Charlie\", \"Jazz\", \"Simone\"))\n",
    "# To fix, rebind `list` to the built-in function by restarting the kernel."
   ]
  },
  {
   "cell_type": "markdown",
   "metadata": {},
   "source": [
    "##### Slide 26 (scope)"
   ]
  },
  {
   "cell_type": "code",
   "execution_count": null,
   "metadata": {
    "slideshow": {
     "slide_type": "subslide"
    },
    "tags": []
   },
   "outputs": [],
   "source": [
    "x = \"global\"\n",
    "def f():\n",
    "    x = \"enclosing\"\n",
    "    def g():\n",
    "        x = \"local\"\n",
    "        print(\"inner\", x)\n",
    "    g()\n",
    "    print(\"middle\", x)\n",
    "f()\n",
    "print(\"outer\", x)"
   ]
  },
  {
   "cell_type": "code",
   "execution_count": null,
   "metadata": {},
   "outputs": [],
   "source": [
    "x = \"global\"\n",
    "def f():\n",
    "    x = \"enclosing\"\n",
    "    def g():\n",
    "        global x # `global` binds x to existing object\n",
    "        x = \"local\"\n",
    "        print(\"inner\", x)\n",
    "    g()\n",
    "    print(\"middle\", x)\n",
    "f()\n",
    "print(\"outer\", x)"
   ]
  },
  {
   "cell_type": "code",
   "execution_count": null,
   "metadata": {},
   "outputs": [],
   "source": [
    "x = \"global\"\n",
    "def f():\n",
    "    x = \"enclosing\"\n",
    "    def g():\n",
    "        nonlocal x # `nonlocal` binds x to existing object\n",
    "        x = \"local\"\n",
    "        print(\"inner\", x)\n",
    "    g()\n",
    "    print(\"middle\", x)\n",
    "f()\n",
    "print(\"outer\", x)"
   ]
  },
  {
   "cell_type": "markdown",
   "metadata": {},
   "source": [
    "##### Slide 29 (truthiness)"
   ]
  },
  {
   "cell_type": "code",
   "execution_count": null,
   "metadata": {
    "slideshow": {
     "slide_type": "slide"
    },
    "tags": []
   },
   "outputs": [],
   "source": [
    "avar = None\n",
    "aint = 0\n",
    "bint = 0\n",
    "alst = []\n",
    "blst = [42]\n",
    "def truthi(tparm):\n",
    "    \"\"\"Return truthiness of tparm\"\"\"\n",
    "    if tparm:\n",
    "        return True\n",
    "    else:\n",
    "        return False\n",
    "for x in (avar, aint, bint, alst, blst):\n",
    "    print(truthi(x))"
   ]
  },
  {
   "cell_type": "code",
   "execution_count": null,
   "metadata": {
    "slideshow": {
     "slide_type": "subslide"
    },
    "tags": []
   },
   "outputs": [],
   "source": [
    "# distinguishing truthiness and Noneness\n",
    "def mfunc(param1=None):\n",
    "    if param1 is None:\n",
    "        print(\"Did you mean to pass me a parameter?\")\n",
    "    elif param1:\n",
    "        print(\"True\")\n",
    "    else:\n",
    "        print(\"False\")\n",
    "for x in (\"1\", \"\", 0):\n",
    "    mfunc(x)\n",
    "mfunc()"
   ]
  },
  {
   "cell_type": "markdown",
   "metadata": {
    "tags": []
   },
   "source": [
    "### Object Model"
   ]
  },
  {
   "cell_type": "markdown",
   "metadata": {
    "tags": []
   },
   "source": [
    "##### Slide 34 (python data model)"
   ]
  },
  {
   "cell_type": "code",
   "execution_count": null,
   "metadata": {},
   "outputs": [],
   "source": [
    "print(\"a function is an object?\", isinstance(lambda x : x**x, object))"
   ]
  },
  {
   "cell_type": "code",
   "execution_count": null,
   "metadata": {},
   "outputs": [],
   "source": [
    "afunc = lambda x : x**x\n",
    "bfunc = afunc\n",
    "print(\"afunc id:\", id(afunc))\n",
    "print(\"bfunc id:\", id(bfunc))"
   ]
  },
  {
   "cell_type": "code",
   "execution_count": null,
   "metadata": {},
   "outputs": [],
   "source": [
    "print(dir(afunc))"
   ]
  },
  {
   "cell_type": "markdown",
   "metadata": {},
   "source": [
    "##### Slide 36 (object references and mutable objects)"
   ]
  },
  {
   "cell_type": "code",
   "execution_count": null,
   "metadata": {
    "slideshow": {
     "slide_type": "slide"
    },
    "tags": []
   },
   "outputs": [],
   "source": [
    "lsta = \"ab cd ef gh\".split()\n",
    "print(lsta)\n",
    "lstb = lsta\n",
    "lsta.append(\"jk\")\n",
    "print(lsta, lstb, sep=\"\\n\")"
   ]
  },
  {
   "cell_type": "markdown",
   "metadata": {},
   "source": [
    "##### Slide 37 (pass by object reference example)"
   ]
  },
  {
   "cell_type": "code",
   "execution_count": null,
   "metadata": {
    "slideshow": {
     "slide_type": "slide"
    },
    "tags": []
   },
   "outputs": [],
   "source": [
    "anum = 42\n",
    "alst = [\"ab\", 42]\n",
    "blst = [42, 43, 44.4]\n",
    "print(anum, alst, blst)\n",
    "\n",
    "def afunc(numa, lsta, lstb):\n",
    "    numa = 7\n",
    "    lsta.append(7)\n",
    "    lstb = [7]\n",
    "    print(numa, lsta, lstb)\n",
    "\n",
    "afunc(anum, alst, blst)\n",
    "print(anum, alst, blst)"
   ]
  },
  {
   "cell_type": "code",
   "execution_count": null,
   "metadata": {},
   "outputs": [],
   "source": [
    "# the object reference is a copy,\n",
    "# you can rebind it without losing\n",
    "# the original reference\n",
    "def bfunc(numa):\n",
    "    print(numa)\n",
    "    numa = 101\n",
    "    print(numa)\n",
    "    \n",
    "numa = 3\n",
    "bfunc(numa)\n",
    "print(numa)"
   ]
  },
  {
   "cell_type": "markdown",
   "metadata": {
    "tags": []
   },
   "source": [
    "### Why Python?"
   ]
  },
  {
   "cell_type": "markdown",
   "metadata": {},
   "source": [
    "##### Slide 47 (everything is an object)"
   ]
  },
  {
   "cell_type": "code",
   "execution_count": null,
   "metadata": {
    "slideshow": {
     "slide_type": "slide"
    },
    "tags": []
   },
   "outputs": [],
   "source": [
    "anum = 42                      # bind anum to 42\n",
    "astr = \"forty-two\"             # bind astr to string\n",
    "adict = dict(akey=42)          # bind adict to dictionary\n",
    "class MyObj:                   # define class\n",
    "    def __init__(self, aval):\n",
    "        self.val = aval\n",
    "aobj = MyObj(42)               # create an instance\n",
    "def my_func():                 # define function\n",
    "    print(\"Hello World\")\n",
    "\n",
    "for x in (anum, astr, adict, MyObj, aobj, my_func):\n",
    "    print(type(x), \"is an object?\", isinstance(x, object))"
   ]
  },
  {
   "cell_type": "markdown",
   "metadata": {},
   "source": [
    "##### Slide 48 (everything is an object)"
   ]
  },
  {
   "cell_type": "code",
   "execution_count": null,
   "metadata": {
    "slideshow": {
     "slide_type": "slide"
    },
    "tags": []
   },
   "outputs": [],
   "source": [
    "# ...and this means its functionality is expressed through its interface\n",
    "print(dir(anum))\n",
    "print()\n",
    "print(dir(list))"
   ]
  },
  {
   "cell_type": "markdown",
   "metadata": {},
   "source": [
    "##### Slide 49 (strong dynamic typing)"
   ]
  },
  {
   "cell_type": "code",
   "execution_count": null,
   "metadata": {
    "slideshow": {
     "slide_type": "slide"
    },
    "tags": []
   },
   "outputs": [],
   "source": [
    "print(type(\"abc\"))\n",
    "print(type(42))\n",
    "print(type(list(\"abc\")))"
   ]
  },
  {
   "cell_type": "code",
   "execution_count": null,
   "metadata": {},
   "outputs": [],
   "source": [
    "print(\"0\" == 0)\n",
    "print(\"-1\" < 0)"
   ]
  },
  {
   "cell_type": "code",
   "execution_count": null,
   "metadata": {},
   "outputs": [],
   "source": [
    "print(40 + int(\"2\"))\n",
    "print(40 + float(\"2.5\"))"
   ]
  },
  {
   "cell_type": "markdown",
   "metadata": {},
   "source": [
    "##### Slide 51 (useful object types)"
   ]
  },
  {
   "cell_type": "code",
   "execution_count": null,
   "metadata": {
    "slideshow": {
     "slide_type": "slide"
    },
    "tags": []
   },
   "outputs": [],
   "source": [
    "aint = 7\n",
    "aflt = 23.6\n",
    "abool = True\n",
    "astr = \"abcd\"\n",
    "alst = list(astr)\n",
    "aset = set(alst)\n",
    "atpl = tuple(alst)\n",
    "adct = dict(a=8, b=9, c=10)\n",
    "afil = open(\"scratch.txt\", mode=\"w\")\n",
    "\n",
    "aint, aflt, abool, astr, alst, aset, atpl, adct, afil"
   ]
  },
  {
   "cell_type": "markdown",
   "metadata": {},
   "source": [
    "##### Slide 52 (native tools)"
   ]
  },
  {
   "cell_type": "code",
   "execution_count": null,
   "metadata": {},
   "outputs": [],
   "source": [
    "alst = list(\"gbnei\")\n",
    "print(alst)"
   ]
  },
  {
   "cell_type": "code",
   "execution_count": null,
   "metadata": {},
   "outputs": [],
   "source": [
    "alst.sort()\n",
    "print(alst)"
   ]
  },
  {
   "cell_type": "code",
   "execution_count": null,
   "metadata": {},
   "outputs": [],
   "source": [
    "tlst = list(map(lambda x: x+x+x, alst))\n",
    "print(tlst)"
   ]
  },
  {
   "cell_type": "code",
   "execution_count": null,
   "metadata": {},
   "outputs": [],
   "source": [
    "tlst.extend([\"nnn\", \"eee\", \"rrr\"], [\"sss\"])\n",
    "print(tlst)"
   ]
  },
  {
   "cell_type": "code",
   "execution_count": null,
   "metadata": {},
   "outputs": [],
   "source": [
    "print(tlst[2:4])\n",
    "print(tlst[2:])\n",
    "print(tlst[2::2])"
   ]
  }
 ],
 "metadata": {
  "kernelspec": {
   "display_name": "Python 3 (ipykernel)",
   "language": "python",
   "name": "python3"
  },
  "language_info": {
   "codemirror_mode": {
    "name": "ipython",
    "version": 3
   },
   "file_extension": ".py",
   "mimetype": "text/x-python",
   "name": "python",
   "nbconvert_exporter": "python",
   "pygments_lexer": "ipython3",
   "version": "3.10.2"
  }
 },
 "nbformat": 4,
 "nbformat_minor": 4
}
