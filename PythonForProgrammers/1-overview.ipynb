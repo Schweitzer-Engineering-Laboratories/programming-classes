{
 "cells": [
  {
   "cell_type": "markdown",
   "metadata": {
    "slideshow": {
     "slide_type": "slide"
    },
    "tags": []
   },
   "source": [
    "# Overview"
   ]
  },
  {
   "cell_type": "markdown",
   "metadata": {
    "slideshow": {
     "slide_type": "subslide"
    },
    "tags": []
   },
   "source": [
    "Brett Deaton -- Feb 2022"
   ]
  },
  {
   "cell_type": "markdown",
   "metadata": {},
   "source": [
    "##### Slide 12 (everything is an object)"
   ]
  },
  {
   "cell_type": "code",
   "execution_count": null,
   "metadata": {
    "slideshow": {
     "slide_type": "slide"
    },
    "tags": []
   },
   "outputs": [],
   "source": [
    "anum = 42\n",
    "astr = \"forty-two\"\n",
    "adict = dict(akey=42)\n",
    "class MyObj:\n",
    "    def __init__(self, aval):\n",
    "        self.val = aval\n",
    "def my_func():\n",
    "    print(\"Hello World\")\n",
    "aobj = MyObj(42)\n",
    "\n",
    "# Brett's addition\n",
    "for x in (anum, astr, adict, MyObj, my_func, aobj):\n",
    "    print(type(x), \"is an object?\", isinstance(x, object))"
   ]
  },
  {
   "cell_type": "code",
   "execution_count": null,
   "metadata": {
    "slideshow": {
     "slide_type": "slide"
    },
    "tags": []
   },
   "outputs": [],
   "source": [
    "# and this means its functionality is expressed through its interface\n",
    "print(dir(anum))\n",
    "print(dir(list))"
   ]
  },
  {
   "cell_type": "markdown",
   "metadata": {},
   "source": [
    "##### Slide 14 (strong dynamic typing)"
   ]
  },
  {
   "cell_type": "code",
   "execution_count": null,
   "metadata": {
    "slideshow": {
     "slide_type": "slide"
    },
    "tags": []
   },
   "outputs": [],
   "source": [
    "print(type(\"abc\"))\n",
    "print(type(42))\n",
    "print(type(list(\"abc\")))\n",
    "#print(\"0\" == 0)\n",
    "#print(\"-1\" < 0)\n",
    "print(40 + int(\"2\"))\n",
    "print(40 + float(\"2.5\"))"
   ]
  },
  {
   "cell_type": "markdown",
   "metadata": {},
   "source": [
    "##### Slide 16 (a rich set of built-in objects)"
   ]
  },
  {
   "cell_type": "code",
   "execution_count": null,
   "metadata": {
    "slideshow": {
     "slide_type": "slide"
    },
    "tags": []
   },
   "outputs": [],
   "source": [
    "aint = 7\n",
    "aflt = 23.6\n",
    "abool = True\n",
    "astr = \"abcd\"\n",
    "alst = list(astr)\n",
    "aset = set(alst)\n",
    "atpl = tuple(alst)\n",
    "..."
   ]
  },
  {
   "cell_type": "markdown",
   "metadata": {},
   "source": [
    "##### Slide 30 (scope)"
   ]
  },
  {
   "cell_type": "code",
   "execution_count": null,
   "metadata": {
    "slideshow": {
     "slide_type": "slide"
    },
    "tags": []
   },
   "outputs": [],
   "source": [
    "# the following is a mistaken bug, based on a misunderstanding of scope\n",
    "lbl2 = 7\n",
    "if lbl2 < 9:\n",
    "    lbl3 = 42\n",
    "lbl3\n",
    "del lbl3\n",
    "if lbl2 > 9:\n",
    "    lbl3 = 42\n",
    "lbl3"
   ]
  },
  {
   "cell_type": "code",
   "execution_count": null,
   "metadata": {
    "slideshow": {
     "slide_type": "subslide"
    },
    "tags": []
   },
   "outputs": [],
   "source": [
    "# global\n",
    "x = \"global\"\n",
    "def f():\n",
    "    def g():\n",
    "        print(x)\n",
    "    g()\n",
    "f()\n",
    "print(x)"
   ]
  },
  {
   "cell_type": "code",
   "execution_count": null,
   "metadata": {
    "slideshow": {
     "slide_type": "subslide"
    },
    "tags": []
   },
   "outputs": [],
   "source": [
    "# enclosing vs global\n",
    "x = \"global\"\n",
    "def f():\n",
    "    x = \"enclosing\"\n",
    "    def g():\n",
    "        print(x)\n",
    "    g()\n",
    "f()\n",
    "print(x)"
   ]
  },
  {
   "cell_type": "code",
   "execution_count": null,
   "metadata": {
    "slideshow": {
     "slide_type": "subslide"
    },
    "tags": []
   },
   "outputs": [],
   "source": [
    "# local vs enclosing vs global\n",
    "x = \"global\"\n",
    "def f():\n",
    "    x = \"enclosing\"\n",
    "    def g():\n",
    "        x = \"local\"\n",
    "        print(x)\n",
    "    g()\n",
    "f()\n",
    "print(x)"
   ]
  },
  {
   "cell_type": "code",
   "execution_count": null,
   "metadata": {
    "slideshow": {
     "slide_type": "subslide"
    },
    "tags": []
   },
   "outputs": [],
   "source": [
    "# this is unwise and kinda dangerous\n",
    "x = \"global\"\n",
    "def f():\n",
    "    x = \"enclosing\"\n",
    "    def g():\n",
    "        global x\n",
    "        x = \"local\"\n",
    "        print(x)\n",
    "    g()\n",
    "f()\n",
    "print(\"modified global x to\", x)"
   ]
  },
  {
   "cell_type": "code",
   "execution_count": null,
   "metadata": {
    "slideshow": {
     "slide_type": "subslide"
    },
    "tags": []
   },
   "outputs": [],
   "source": [
    "# this is unwise and kinda dangerous\n",
    "x = \"global\"\n",
    "def f():\n",
    "    x = \"enclosing\"\n",
    "    def g():\n",
    "        nonlocal x\n",
    "        x = \"local\"\n",
    "        print(x)\n",
    "    g()\n",
    "    print(\"modified enclosing x to\", x)\n",
    "f()\n",
    "print(x)"
   ]
  },
  {
   "cell_type": "markdown",
   "metadata": {},
   "source": [
    "##### Kata 1: string to int"
   ]
  },
  {
   "cell_type": "code",
   "execution_count": null,
   "metadata": {
    "slideshow": {
     "slide_type": "skip"
    },
    "tags": []
   },
   "outputs": [],
   "source": [
    "def stoi(astr):\n",
    "    \"\"\"Return input string's integer representation, or None if none exists\"\"\"\n",
    "    if not astr:\n",
    "        return None\n",
    "    if not hasattr(astr, \"__str__\"):\n",
    "        return None\n",
    "    \n",
    "    sign = 1\n",
    "    astr_value = str(astr)\n",
    "    try:\n",
    "        if astr_value[0]==\"-\":\n",
    "            sign = -1\n",
    "            astr_value = str(astr[1:])\n",
    "        elif astr_value[0]==\"+\":\n",
    "            astr_value = str(astr[1:])\n",
    "    except IndexError:\n",
    "        pass\n",
    "    \n",
    "    ndict = {str(n):n for n in range(10)}\n",
    "    value = 0\n",
    "    for pow, c in enumerate(reversed(astr_value)):\n",
    "        if c in \"0123456789\":\n",
    "            value += ndict[c] * 10**pow\n",
    "        else:\n",
    "            return None\n",
    "    return sign*value\n",
    "\n",
    "test_inputs = (\"42\", \"-42\", \"+42\", 42, \"\", \"f23\", \"6\", None, \"558\")\n",
    "test_outputs = (42, -42, 42, 42, None, None, 6, None, 558)\n",
    "\n",
    "print(\"EXPECTED                 COMPUTED\")\n",
    "for i, o in zip(test_inputs, test_outputs):\n",
    "    quote = \"'\" if type(i)==str else \"\"\n",
    "    success = \"PASS\" if stoi(i)==o else \"FAIL\"\n",
    "    print(f\"stoi({quote}{i}{quote}) == {o}, \\t {stoi(i)} \\t {success}\")"
   ]
  },
  {
   "cell_type": "markdown",
   "metadata": {},
   "source": [
    "##### Slide 44 (truthiness)"
   ]
  },
  {
   "cell_type": "code",
   "execution_count": null,
   "metadata": {
    "slideshow": {
     "slide_type": "slide"
    },
    "tags": []
   },
   "outputs": [],
   "source": [
    "avar = None\n",
    "aint = 0\n",
    "bint = 0\n",
    "alst = []\n",
    "blst = [42]\n",
    "def truthi(tparm):\n",
    "    \"\"\"Return truthiness of tparm\"\"\"\n",
    "    if tparm:\n",
    "        return True\n",
    "    else:\n",
    "        return False\n",
    "for x in (avar, aint, bint, alst, blst):\n",
    "    print(truthi(x))"
   ]
  },
  {
   "cell_type": "code",
   "execution_count": null,
   "metadata": {
    "slideshow": {
     "slide_type": "subslide"
    },
    "tags": []
   },
   "outputs": [],
   "source": [
    "# distinguishing truthiness and Noneness\n",
    "def mfunc(param1=None):\n",
    "    if param1 is None:\n",
    "        print(\"Did you mean to pass me a parameter?\")\n",
    "    elif param1:\n",
    "        print(\"True\")\n",
    "    else:\n",
    "        print(\"False\")\n",
    "for x in (\"1\", \"\", 0):\n",
    "    mfunc(x)\n",
    "mfunc()"
   ]
  },
  {
   "cell_type": "markdown",
   "metadata": {},
   "source": [
    "##### Slide 52 (object references and mutable objects)"
   ]
  },
  {
   "cell_type": "code",
   "execution_count": null,
   "metadata": {
    "slideshow": {
     "slide_type": "slide"
    },
    "tags": []
   },
   "outputs": [],
   "source": [
    "lsta = \"ab cd ef gh\".split()\n",
    "print(lsta)\n",
    "lstb = lsta\n",
    "lsta.append(\"jk\")\n",
    "print(lsta, lstb, sep=\"\\n\")"
   ]
  },
  {
   "cell_type": "markdown",
   "metadata": {},
   "source": [
    "##### Slide 53 (pass by object reference example)"
   ]
  },
  {
   "cell_type": "code",
   "execution_count": null,
   "metadata": {
    "slideshow": {
     "slide_type": "slide"
    },
    "tags": []
   },
   "outputs": [],
   "source": [
    "anum = 42\n",
    "alst = [\"ab\", 42]\n",
    "blst = [42, 43, 44.4]\n",
    "print(anum, alst, blst)\n",
    "\n",
    "def afunc(numa, lsta, lstb):\n",
    "    numa = 7\n",
    "    lsta.append(7)\n",
    "    lstb = [7]\n",
    "    print(numa, lsta, lstb)\n",
    "\n",
    "afunc(anum, alst, blst)\n",
    "print(anum, alst, blst)"
   ]
  }
 ],
 "metadata": {
  "kernelspec": {
   "display_name": "Python 3 (ipykernel)",
   "language": "python",
   "name": "python3"
  },
  "language_info": {
   "codemirror_mode": {
    "name": "ipython",
    "version": 3
   },
   "file_extension": ".py",
   "mimetype": "text/x-python",
   "name": "python",
   "nbconvert_exporter": "python",
   "pygments_lexer": "ipython3",
   "version": "3.10.2"
  }
 },
 "nbformat": 4,
 "nbformat_minor": 4
}
