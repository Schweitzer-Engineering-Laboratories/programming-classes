{
 "cells": [
  {
   "cell_type": "markdown",
   "metadata": {
    "slideshow": {
     "slide_type": "slide"
    },
    "tags": []
   },
   "source": [
    "# Reference for Python for Programmers"
   ]
  },
  {
   "cell_type": "markdown",
   "metadata": {
    "slideshow": {
     "slide_type": "subslide"
    },
    "tags": []
   },
   "source": [
    "Brett Deaton -- Feb 2022"
   ]
  },
  {
   "cell_type": "markdown",
   "metadata": {},
   "source": [
    "## Commonly-Used Features"
   ]
  },
  {
   "cell_type": "markdown",
   "metadata": {},
   "source": [
    "Here is a collection of code features we'll use frequently throughout the course."
   ]
  },
  {
   "cell_type": "markdown",
   "metadata": {},
   "source": [
    "##### print several objects with a loop"
   ]
  },
  {
   "cell_type": "code",
   "execution_count": null,
   "metadata": {},
   "outputs": [],
   "source": [
    "a = chr(0x00a1) + \"Hola Mundo!\" # this is a string\n",
    "b = 98743083299 // 2350337981 # this is an integer\n",
    "c = [\"N\", \"E\"] + [\"R\", \"P\", \"A\"] # this is a list\n",
    "\n",
    "for x in (a, b, c):\n",
    "    print(x)"
   ]
  },
  {
   "cell_type": "markdown",
   "metadata": {},
   "source": [
    "##### import a module/package/library"
   ]
  },
  {
   "cell_type": "code",
   "execution_count": null,
   "metadata": {},
   "outputs": [],
   "source": [
    "import os\n",
    "print(\"Where is this script?\", os.path.abspath(\"\"))\n",
    "print(\"Where am I working?\", os.getcwd(), end=\"\\n\\n\")\n",
    "\n",
    "# import a module/package/library, giving it a different label\n",
    "import keyword as kw\n",
    "print(\"Gotos are Pythonic?\", kw.iskeyword(\"goto\"), end=\"\\n\\n\")\n",
    "\n",
    "# import part(s) of a module/package/library\n",
    "from sys import version, float_info\n",
    "print(\"Which version of Python is this?\", version)\n",
    "print(\"How are floats stored?\", float_info, end=\"\\n\\n\")"
   ]
  },
  {
   "cell_type": "markdown",
   "metadata": {},
   "source": [
    "##### inspect an object's interface"
   ]
  },
  {
   "cell_type": "code",
   "execution_count": null,
   "metadata": {},
   "outputs": [],
   "source": [
    "x = \"Hello World\"\n",
    "print(dir(x))"
   ]
  },
  {
   "cell_type": "markdown",
   "metadata": {},
   "source": [
    "##### access the docs"
   ]
  },
  {
   "cell_type": "code",
   "execution_count": null,
   "metadata": {},
   "outputs": [],
   "source": [
    "help(print) # object documentation\n",
    "print(\"-------------------------BREAK----------------------------\", end=\"\\n\\n\")\n",
    "help(\"if\") # keyword or topic documentation"
   ]
  },
  {
   "cell_type": "markdown",
   "metadata": {},
   "source": [
    "##### compose and format a string for printing"
   ]
  },
  {
   "cell_type": "code",
   "execution_count": null,
   "metadata": {},
   "outputs": [],
   "source": [
    "dinner = {\"large fries\" : 3.45, \"100 burgers\" : 495, \"1 ketchup packet\" : 1/3}\n",
    "for key, val in dinner.items():\n",
    "    print(f\"{key} : ${val:.2f}\")"
   ]
  },
  {
   "cell_type": "markdown",
   "metadata": {},
   "source": [
    "## Questions & Answers"
   ]
  },
  {
   "cell_type": "markdown",
   "metadata": {},
   "source": [
    "Every class discussion yields interesting questions. Here's a growing list of answers."
   ]
  },
  {
   "cell_type": "markdown",
   "metadata": {},
   "source": [
    "##### Zen of Python\n",
    "What do the Python design principles encoded in\n",
    "[PEP-20](https://www.python.org/dev/peps/pep-0020/)\n",
    "actually mean? In practical terms?"
   ]
  },
  {
   "cell_type": "code",
   "execution_count": null,
   "metadata": {},
   "outputs": [],
   "source": [
    "# here they are\n",
    "import this"
   ]
  },
  {
   "cell_type": "markdown",
   "metadata": {},
   "source": [
    "Here are a few good references:\n",
    "  * explanation from\n",
    "    [inventwithpython blog](https://inventwithpython.com/blog/2018/08/17/the-zen-of-python-explained/)\n",
    "  * reflection with examples from\n",
    "    [betterprogramming.pub](https://betterprogramming.pub/contemplating-the-zen-of-python-186722b833e5)\n",
    "  * examples from\n",
    "    [evandrix](https://gist.github.com/evandrix/2030615)"
   ]
  },
  {
   "cell_type": "markdown",
   "metadata": {},
   "source": [
    "##### Overloading an Operator\n",
    "How do you overload an operator? For example, how would you make the + operator work for a class you've defined?"
   ]
  },
  {
   "cell_type": "code",
   "execution_count": null,
   "metadata": {},
   "outputs": [],
   "source": [
    "class Stringer:\n",
    "    def __init__(self, aval):\n",
    "        self.aval = aval\n",
    "    def __repr__(self):\n",
    "        return f\"Stringer({self.aval})\"\n",
    "    def __add__(self, other):\n",
    "        try:\n",
    "            return Stringer(self.aval + other.aval)\n",
    "        except TypeError:\n",
    "            return None\n",
    "\n",
    "print(Stringer(\"Kevin\"))\n",
    "print(Stringer(\"Kevin\") + Stringer(\"Surrey\"))\n",
    "print(Stringer(3) + Stringer(10))\n",
    "print(Stringer(3) + Stringer(\"10\"))"
   ]
  },
  {
   "cell_type": "markdown",
   "metadata": {},
   "source": [
    "##### Unicode Characters\n",
    "Can you use unicode characters?"
   ]
  },
  {
   "cell_type": "code",
   "execution_count": null,
   "metadata": {},
   "outputs": [],
   "source": [
    "print('\"Python\" in braille (grade 1) is ', end=\"\")\n",
    "for x in (0x2820, 0x280F, 0x283D, 0x281e, 0x2813, 0x2815, 0x281D):\n",
    "    print(chr(x), end=\"\")"
   ]
  },
  {
   "cell_type": "code",
   "execution_count": null,
   "metadata": {},
   "outputs": [],
   "source": [
    "# retrieve the unicode code point for a given character\n",
    "print(\"the ⠏ character has unicode point value:\", ord(\"⠏\"))"
   ]
  },
  {
   "cell_type": "markdown",
   "metadata": {},
   "source": [
    "##### Memory Footprint\n",
    "How do you find how much memory an object occupies?"
   ]
  },
  {
   "cell_type": "code",
   "execution_count": null,
   "metadata": {
    "slideshow": {
     "slide_type": "skip"
    },
    "tags": []
   },
   "outputs": [],
   "source": [
    "import sys\n",
    "num = 101\n",
    "print(\"total footprint (bytes):\", sys.getsizeof(num))\n",
    "print(\"footprint necessary for the number (bits):\", num.bit_length())"
   ]
  }
 ],
 "metadata": {
  "kernelspec": {
   "display_name": "Python 3 (ipykernel)",
   "language": "python",
   "name": "python3"
  },
  "language_info": {
   "codemirror_mode": {
    "name": "ipython",
    "version": 3
   },
   "file_extension": ".py",
   "mimetype": "text/x-python",
   "name": "python",
   "nbconvert_exporter": "python",
   "pygments_lexer": "ipython3",
   "version": "3.10.2"
  }
 },
 "nbformat": 4,
 "nbformat_minor": 4
}
