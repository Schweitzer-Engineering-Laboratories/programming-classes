{
 "cells": [
  {
   "cell_type": "markdown",
   "metadata": {},
   "source": [
    "# Interactive Fiction Adventure"
   ]
  },
  {
   "cell_type": "markdown",
   "metadata": {},
   "source": [
    "Final projects from Get Started With Python class ending Jan 29, 2021. Write a function requesting user input to navigate through the country of Python."
   ]
  },
  {
   "cell_type": "markdown",
   "metadata": {},
   "source": [
    "### Arrival"
   ]
  },
  {
   "cell_type": "markdown",
   "metadata": {},
   "source": [
    "Madhavan, Yogesh, Deepak"
   ]
  },
  {
   "cell_type": "code",
   "execution_count": null,
   "metadata": {},
   "outputs": [],
   "source": [
    "def arrival():\n",
    "    ####################################################################\n",
    "    print(\"At Immigration point.....\")\n",
    "    options = [\"business\", \"holiday\"]\n",
    "    action = input(\"Immigration Officer: What is the Purpose of Visit?? \" + str(options))\n",
    "    while action not in options:\n",
    "        print(\"Immigration Officer: But your visa not for that purpose..\")\n",
    "        action = input()\n",
    "    if action==\"business\":\n",
    "        print(\"Immigration Officer: Ok. You are Welcome\")\n",
    "    else:\n",
    "        print(\"Immigration Officer: Besafe and maintain social distancing\")\n",
    "        print()\n",
    "    ##########################################################################\n",
    "    print(\"At Taxi point...\")\n",
    "    options = [\"Hotel Redroof\", \"temple\"]\n",
    "    action = input(\"Taxi Driver: Where do you want to go?? \" + str(options))\n",
    "    while action not in options:\n",
    "        print(\"Taxi Driver: Can you say that again??\")\n",
    "        action = input()\n",
    "    if action==\"Hotel Redroof\":\n",
    "        print(\"Taxi Driver: Sorry, Thats too far, Can you find another taxi\")\n",
    "        exit()\n",
    "    else:\n",
    "        print(\"Taxi driver not sure which temple. Again asking temple name...\")\n",
    "    options = [\"Lord Siva\", \"Lord Buddha\"]\n",
    "    action = input(\"Which temple??. There are so many temples in this city \" + str(options))\n",
    "    while action not in options:\n",
    "        print(\"There is no such temple around here.. Can you recheck the address??\")\n",
    "        action = input()\n",
    "    if action==\"Lord Siva\":\n",
    "        print(\"Sorry.. I am not aware about that.. Can you check some one else?\")\n",
    "    else:\n",
    "        print(\"Oh..Lord Buddha Temple?, I am not aware about that.. Can you check with some one else?\")\n",
    "        print()\n",
    "    print(\"Ok. Let me check with another taxi\")\n",
    "    print()\n",
    "    print()\n",
    "    print(\"Approaching another taxi UBER...\")\n",
    "    options = [\"Hotel Redroof\", \"temple\"]\n",
    "    action = input(\"UBER Driver: Where do you want to go?? \" + str(options))\n",
    "    while action not in options:\n",
    "        print(\"Taxi Driver: Can you say that again??\")\n",
    "        action = input()\n",
    "    if action==\"Hotel Redroof\":\n",
    "        options = [\"Near to Airport\", \"Near to City Mall\"]\n",
    "        action = input(\"There are two hotel redroof in city, Can you tell me exact one? \" + str(options))\n",
    "        while action not in options:\n",
    "            print(\"Taxi Driver: Can you say that again??\")\n",
    "            action = input()\n",
    "        if action==\"Near to Airport\":\n",
    "            print(\"UBER Driver: Oh.. Near to Airport. Thats 5Km from here. It would take INR 400..!\")\n",
    "        else:\n",
    "            print(\"UBER Driver: Oh.. Near to City Mall. Thats 10Km from here. It would take INR 800..!\")\n",
    "    else:\n",
    "        print(\"Sorry.. All the temples are closed due to COVID-19pendamic issue.\")\n",
    "    print(\"Oh My God. Its seems to be very difficult to survive here...I am going back to my country...\")\n",
    "    ##################################################################################################"
   ]
  },
  {
   "cell_type": "code",
   "execution_count": null,
   "metadata": {},
   "outputs": [],
   "source": [
    "arrival()"
   ]
  },
  {
   "cell_type": "markdown",
   "metadata": {},
   "source": [
    "### Food"
   ]
  },
  {
   "cell_type": "markdown",
   "metadata": {},
   "source": [
    "Saravanan, Nishanth, Mohd"
   ]
  },
  {
   "cell_type": "code",
   "execution_count": null,
   "metadata": {},
   "outputs": [],
   "source": [
    "def food():\n",
    "    import random\n",
    "    intro1 = \"This is a story of 3 Aliens who landed in the world of python for food\" \n",
    "    intro2 = \"Once upon a time there were 3 aliens entered into the python world for food\"\n",
    "    names1 = \"Azami, Nishanth and Saro were the name of those aliens\"\n",
    "    names2 = \"Saro, Nishu and Azmi are those aliens\" \n",
    "\n",
    "    intros = [intro1, intro2]\n",
    "    names = [names1, names2]\n",
    "\n",
    "    print(random.choice(intros))\n",
    "    print(random.choice(names),flush=True)\n",
    "    print(\"-------\")\n",
    "    print(\"-------\")\n",
    "    options = [\"will Kick them out of my class\", \"will feed them with food\"]\n",
    "    action = input(\"Hey Brett,  FBI found they are in your class now. What are you gonna do? \"\n",
    "                   + str(options))\n",
    "    while action not in options:\n",
    "        print(\"-------\")\n",
    "        print(\"-------\")\n",
    "        print(\"Hey brett your option is not in my list, select among options\")\n",
    "        action = input()\n",
    "    if action==\"will Kick them out of my class\":\n",
    "        print(\"-------\")\n",
    "        print(\"-------\")\n",
    "        print(\"Brett You Proved that you are a strict officer\")\n",
    "    else:\n",
    "        print(\"-------\")\n",
    "        print(\"-------\")\n",
    "        print(\"You are so sweet.Brett\")"
   ]
  },
  {
   "cell_type": "code",
   "execution_count": null,
   "metadata": {},
   "outputs": [],
   "source": [
    "food()"
   ]
  },
  {
   "cell_type": "markdown",
   "metadata": {},
   "source": [
    "### Water"
   ]
  },
  {
   "cell_type": "markdown",
   "metadata": {},
   "source": [
    "Wayne, Briana, Randy"
   ]
  },
  {
   "cell_type": "code",
   "execution_count": null,
   "metadata": {},
   "outputs": [],
   "source": [
    "#####################################################################\n",
    "def River():\n",
    "    print(\"You kneel down and start slurping the water as fast as you can. It tastes a little funny,\")\n",
    "    print(\"but you are so thirsty it doesn't bother you. As you finish, you lean back and begin to ponder...\")\n",
    "    print(\"Was that a mistake? Do you,\")\n",
    "    print(\"  A.    Throw up the water\")\n",
    "    print(\"  B.    Start searching the river for issues\", flush = True)\n",
    "    opt2 = [\"A\", \"B\", \"C\"]\n",
    "    act2 = (input(\"  C.    I'm tough, I'll be fine\" + str(opt2)).upper())\n",
    "    while act2 not in opt2:\n",
    "        print(\"You entered an invalid option, try again\")\n",
    "        act2 = input()\n",
    "    if act2 == \"A\":\n",
    "        print()\n",
    "        print(\"Now you are both exhausted and thirsty, but congratulations, you don't have Giardia!\")\n",
    "        print(\"  A.    Do you go back for the 'Water Store'\")\n",
    "        opt3 = [\"A\", \"B\"]\n",
    "        act3 = (input(\"  B.    Do you take a nap?\" + str(opt3)).upper())\n",
    "        while act3 not in opt3:\n",
    "            print(\"You entered an invalid option, try again\")\n",
    "            act3 = input()\n",
    "        if act3 == \"A\":\n",
    "            print()\n",
    "            Water_Store()\n",
    "        if act3 == \"B\":\n",
    "            print()\n",
    "            print(\"You found a nice spot near the river, you lay down and close your eyes,\")\n",
    "            print(\"your parched throat and sore upper body is nawing at your mind and distracting\")\n",
    "            print(\"you from sleep. You begin to shake from dehydration, but you just curl up more\")\n",
    "            print(\"and hope sleep comes. Which it does, and you die peacefully.\")\n",
    "    if act2 == \"B\":\n",
    "        print()\n",
    "        print(\"You start walking the shore, about 45 minutes later you notice something move\")\n",
    "        print(\"on the far shore of the river. It is a beaver! What a wonderful creature,\")\n",
    "        print(\"so calm and private... and gross. You realize you are probably going to develop\")\n",
    "        print(\"Beaver Feever(giardia) and there isn't much you can do now. Without shelter,\")\n",
    "        print(\"or a way home, you start to have an anxiety attack, and without any way to calm\")\n",
    "        print(\"yourself down, you run into the river and plunge your head into the water in hopes\")\n",
    "        print(\"to drown out the noise of chaos, which you successfully do! But now you are being\")\n",
    "        print(\"pulled into the abyss of quiet sleep.\")\n",
    "        print(\"You die.\")\n",
    "    if act2 == \"C\":\n",
    "        print()\n",
    "        print(\"Look at you tough guy! You keep going on about your day, estatic that you have found\")\n",
    "        print(\"a water source that will never run dry. You lean back in the mid afternoon sun and\")\n",
    "        print(\"relish in your success. Only to realize your tummy is feeling a little rumbly. \")\n",
    "        print(\"But not like a hungry rumbly, like an angry hibernating bear that just got woken up rumbly.\") \n",
    "        print(\"You die of giardia.\")\n",
    "\n",
    "def Water_Store(): \n",
    "    print(\"As you walk into the store, you are greeted by a very\")\n",
    "    print(\"friendly man wearing a bright green polo shirt.\")  \n",
    "    print(\"'Welcome,' he says, 'Can I interest you in some water?'\") \n",
    "    print(\"On the counter in front of you, the man places three different bottles of water:\")\n",
    "    print(\"a tiny green bottle filled with a dark liquid, a red bottle with some sort of glowing,\")\n",
    "    print(\"glittery substance, and a clear bottle that looks like regular water.\", flush = True) \n",
    "    options = [\"Green\", \"Red\", \"Clear\"] \n",
    "    action = input(\"Which bottle do you take?\" + str(options)) \n",
    "    while action not in options: \n",
    "        print(\"You entered an invalid option, try again\") \n",
    "        action = input() \n",
    "    if action==\"Clear\": \n",
    "        print()\n",
    "        print(\"'Oh shoot, how did that get there?'' the store manager says,\")\n",
    "        print(\"but he is unable to stop you from taking a sip.\") \n",
    "        print(\"You just drank poison.\") \n",
    "        print(\"You collapse onto the floor. The manager sighs, and takes your body\")\n",
    "        print(\"out back with the others who have met the same fate.\") \n",
    "        print(\"The end.\") \n",
    "    elif action==\"Red\": \n",
    "        print()\n",
    "        print(\"'Now YOU are someone with great taste,' says the store manager.\")\n",
    "        print(\"'That will cost you fifteen.'\") \n",
    "        print(\"Unfortunately, you do not have that kind of money,\")\n",
    "        print(\"nor do you actually understand the currency in this country.\") \n",
    "        print(\"You take the bottle anyways, and quickly run out of the store.\")\n",
    "        print(\"The manager starts chasing after you.\") \n",
    "        optionsB = [\"Swim Away\", \"Apologize\"] \n",
    "        print(\"Do you jump in the river and try to swim away,\")\n",
    "        input(\" or do you stop and apologize to the manager?\" + str(optionsB)) \n",
    "        while action not in optionsB: \n",
    "            print(\"You entered an invalid option, try again\") \n",
    "            action = input() \n",
    "        if action==\"Swim Away\": \n",
    "            print()\n",
    "            print(\"You dive into the river and swim as fast as you can. You lose the store manager in the current, and you make it safely across. You should probably find some shelter before it gets dark.\") \n",
    "            #this is where we can put in the next group's function \n",
    "        elif action==\"Apologize\": \n",
    "            print()\n",
    "            print(\"'Hey, I'm sorry, I don't know the rules around here,' you say to the manager.\")  \n",
    "            print(\"'Are you trying to tell me stealing is OKAY where you're from??' He says gruffly, as he snags the bottle out of your hands. 'I understand you're thirsty though, so here, take some REGULAR water. It's free, all you had to do was ask.'\") \n",
    "            print(\"The man hands you a cup with water, and sends you on your way. You should probably find some shelter before it gets dark.\") \n",
    "            #this is where we can put in the next group's function \n",
    "    elif action==\"Green\":    \n",
    "        print()\n",
    "        print(\"You grab the green bottle and chug it.\")\n",
    "        print(\"You feel a sudden influx of knowledge and realize you are now a Python coding wizard.\")\n",
    "        print(\"You pay for the green bottle when two things suddenly come to mind.\")\n",
    "        optionC = [\"World Peace\", \"Mastermind\"]\n",
    "        actions = input(\"You can use your newfound wizard powers to either create a program that will bring about world peace, or create a program that will put Mark Zuckerberg out of business and install you as the new social media evil mastermind.\" + str(optionC))\n",
    "        while actions not in optionC:\n",
    "            print(\"You entered an invalid option, try again.\")\n",
    "            actions = input()\n",
    "        if actions==\"World Peace\":\n",
    "            print()\n",
    "            print(\"After generating your program, the world falls into an ideal state of happiness, freedom, and peace within and among all people and nations on Earth. World peace has been achieved.\")\n",
    "        elif actions==\"Mastermind\":\n",
    "            print()\n",
    "            print(\"After generating your program, Facebook, Twitter, TikTok, Reddit, and even the mighty Myspace, quickly fall into obscurity as the masses flock to your new social media platform. World dominance is now yours.\")\n",
    "\n",
    "def water(): \n",
    "    print(\"After a while, you notice the back of your throat is dry, and you are parched.\") \n",
    "    print(\"You notice to the east is a river and to the west is a mysterious building that says 'Water Store'....\", flush = True) \n",
    "    option = [\"River\", \"Store\"] \n",
    "    action = input(\"Which way do you want to go?\" + str(option)) \n",
    "    while action not in option: \n",
    "        print(\"You entered an invalid option, try again\") \n",
    "        action = input()\n",
    "    if action==\"River\": \n",
    "        River() \n",
    "    if action==\"Store\": \n",
    "        Water_Store() \n",
    "######################################################################"
   ]
  },
  {
   "cell_type": "code",
   "execution_count": null,
   "metadata": {},
   "outputs": [],
   "source": [
    "water()"
   ]
  },
  {
   "cell_type": "markdown",
   "metadata": {},
   "source": [
    "### Shelter"
   ]
  },
  {
   "cell_type": "markdown",
   "metadata": {},
   "source": [
    "Kamalakannan, Govindharaj, Inzamam"
   ]
  },
  {
   "cell_type": "code",
   "execution_count": null,
   "metadata": {},
   "outputs": [],
   "source": [
    "######## SHELTER ##########\n",
    "def Shelter():\n",
    "    print (\"You are going to travel in new world. Tell us about your preparation to survive and find shelter.\")\n",
    "    swimming = input(\"Do you know swimming.Reply in Yes or no-->  \")\n",
    "    climbing = input(\"Can u climb on trees-->  \")\n",
    "    \n",
    "    print (\"Welcome to new world. You have two ways to enter.\\nSelect Left or Right\")\n",
    "    x = input()\n",
    "    if (x == \"Left\" and swimming == \"Yes\"):\n",
    "       print(\"Great,This way leads to river.Cross the river and get in ur shelter.\")\n",
    "            \n",
    "    elif (x == \"Right\" and climbing == \"Yes\"):\n",
    "        print (\"Great,This way leads to jungle.Cross jungle and Get in your shelter.Save yourself by wild animals and climb on trees if needed .\")\n",
    "    else:\n",
    "        print (\"You cannot survive.Go back and do what you do..\")"
   ]
  },
  {
   "cell_type": "code",
   "execution_count": null,
   "metadata": {},
   "outputs": [],
   "source": [
    "Shelter()"
   ]
  },
  {
   "cell_type": "markdown",
   "metadata": {},
   "source": [
    "### Departure"
   ]
  },
  {
   "cell_type": "markdown",
   "metadata": {},
   "source": [
    "Bryan, Jonathan, Lindsey"
   ]
  },
  {
   "cell_type": "code",
   "execution_count": null,
   "metadata": {},
   "outputs": [],
   "source": [
    "def shore():\n",
    "    print(\"You find a boat FLOATing just off the shore. As you start paddleing you notice objects \\\n",
    "STRung out in the water that you need to grab for your journey\", flush=True)\n",
    "    completeList = [\"bool\", \"int\", \"float\", \"str\" , \"char\"]\n",
    "    completeList.sort()\n",
    "    counter = 0\n",
    "    userList =[]\n",
    "    count = 0\n",
    "    while userList != completeList:\n",
    "        print(\"What Types of objects do you grab?(Hint: Type of variable learned in this class.)\")\n",
    "        answer = input().lower()\n",
    "        while answer not in completeList:\n",
    "            counter += 1\n",
    "            if counter ==1:\n",
    "                print(\"Oh no, the boat hits the reef but it will stay afloat.\")\n",
    "            elif counter ==2:\n",
    "                print(\"Caution, the boat hits a bigger reef and water starts leaking in.\")\n",
    "            else:\n",
    "                print(\"WARNING! the boat is now sinking. Abandon ship!\")\n",
    "                end()\n",
    "                return\n",
    "            print(\"You entered an invalid option, try again\")\n",
    "            answer = input().lower()   \n",
    "        else: \n",
    "            if answer in userList:\n",
    "                print(\"already have that\")\n",
    "            if answer in completeList and answer not in userList:\n",
    "                userList.append(answer)\n",
    "                userList.sort()\n",
    "    else:\n",
    "        print(\"You made it Out of the Reef!\\n\\n\\n\")\n",
    "        storm()\n",
    "\n",
    "def reef(counter):\n",
    "    if counter ==1:\n",
    "        print(\"Oh no, the boat hits the reef but it will stay afloat.\")\n",
    "    elif counter ==2:\n",
    "        print(\"Caution, the boat hits a bigger reef and water starts leaking in.\")\n",
    "    else:\n",
    "        print(\"WARNING! the boat is now sinking. Abandon ship!\")\n",
    "        end()\n",
    "        \n",
    "def end():\n",
    "    print(\"You have failed to make it off the island of python alive!\")\n",
    "    return\n",
    "\n",
    "def storm():\n",
    "    print(\"With the sun beating down, you are comforted by a gentle breeze. But there are \\\n",
    "clouds on the horzon\\n and the waves are getting larger.\\n\")\n",
    "    print(\"the wind could get you some speed but it is blowing toward the land of python. \\\n",
    "\\nDo you want to put up the (Sail or Row)?\", flush=True)\n",
    "    choice=input().lower()\n",
    "    if choice == \"sail\":\n",
    "        print(\"You raise the sail and shortly find yourself back in the land of Python.\")\n",
    "        end()\n",
    "        return\n",
    "    choice = input(\"As you row the sea starts getting rough. water starts coming in over the sides. \\\n",
    "                    \\nDo you wnat to bail or defy the storm. (Bail or Defy)?\\n\").lower()\n",
    "    if choice == \"defy\":\n",
    "        print(\"You stand on the bow and stare triumphantly into the storm believing that you are too \\\n",
    "strong for this storm.\\n!!You slip and fall into the churning sea never to be seen agian!!\")\n",
    "        end()\n",
    "        return\n",
    "    print(\"you start to bail...\")"
   ]
  },
  {
   "cell_type": "code",
   "execution_count": null,
   "metadata": {},
   "outputs": [],
   "source": [
    "shore()"
   ]
  }
 ],
 "metadata": {
  "kernelspec": {
   "display_name": "Python 3.6.4 64-bit",
   "language": "python",
   "name": "python36464bit97104943229c4632a37338b7c1383cd0"
  },
  "language_info": {
   "codemirror_mode": {
    "name": "ipython",
    "version": 3
   },
   "file_extension": ".py",
   "mimetype": "text/x-python",
   "name": "python",
   "nbconvert_exporter": "python",
   "pygments_lexer": "ipython3",
   "version": "3.6.4"
  }
 },
 "nbformat": 4,
 "nbformat_minor": 4
}
