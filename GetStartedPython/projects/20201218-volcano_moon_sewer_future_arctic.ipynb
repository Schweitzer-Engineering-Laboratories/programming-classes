{
 "cells": [
  {
   "cell_type": "markdown",
   "metadata": {},
   "source": [
    "# Interactive Fiction Adventure"
   ]
  },
  {
   "cell_type": "markdown",
   "metadata": {},
   "source": [
    "Final projects from Get Started with Python at SEL, ending Dec 18, 2020."
   ]
  },
  {
   "cell_type": "markdown",
   "metadata": {},
   "source": [
    "### Volcano"
   ]
  },
  {
   "cell_type": "markdown",
   "metadata": {},
   "source": [
    "Christian, Prashant, Katherine"
   ]
  },
  {
   "cell_type": "code",
   "execution_count": null,
   "metadata": {},
   "outputs": [],
   "source": [
    "def gather_sample(_samples):\n",
    "    if(_samples == 'soil'):\n",
    "        print(\"Selecting the rock samples, a small claw appendage reaches \\nout for a shard of the dark rock. Through the haptic feed, they appear\\nto resemble almost a porous obsidian, both smooth and filled with holes.\\n...\\n...\\n...\\nTyphon soil sample is made up of nitrogen (N), phosphorus (P), potassium (K),\\nsulphur(S), calcium (Ca), iron (Fe), magnesium (Mg),\\nmanganese (Mn), zinc (Zn), copper (Cu), boron (B), molybdenum (Mo),\\nchlorine (Cl), sodium (Na), cobalt (Co), nickel (Ni), silicon (Si),\\nand 0.52 percent organic matter.\")\n",
    "        print(\"\\n\\n\\n\")\n",
    "        print(\"task complete.\")\n",
    "    elif _samples == 'lava':\n",
    "        print(\"Selecting lava samples, a small blue container, made of a\\nspecial heat-immune polymer, reaches out to the lava stream and \\nfills with the hot liquid rock. The special polymer allowing the \\nlava to maintain its heat and liquid state while not destroying the cup.\\n\\nAnalyzing sample...\\n...\\n...\\nTyphon lava sample made up for large amounts\\nof boron and copper.\\n This must be what is causing the lava to give off a hellish\\ngreen glow.\")\n",
    "        print(\"task complete.\")\n",
    "    else:\n",
    "        return"
   ]
  },
  {
   "cell_type": "code",
   "execution_count": null,
   "metadata": {},
   "outputs": [],
   "source": [
    "def volcano():\n",
    "\n",
    "    continue_search = \"true\"\n",
    "\n",
    "    print(\"The year is 2087. You are a Planetary Data Analyst for NASA, tasked with piloting specialized research drones to further scientific understanding and study of distant planets. Today, you will be piloting the drone lovingly referred to as Haz to explore, analyze, and collect photos and samples of the planet HV-3115, otherwise known as Typhon. Haz is specially designed for exploring highly hazardous and dangerous worlds, not yet suitable for manned landings or more fragile drones, like the highly volcanic planet of Typhon. You are to direct Haz using simple commands, spanning the many light-years between you, to learn and see as much of Typhon as you can, before the large volcanic clouds filling the planet's atmosphere block communications with Haz.\")\n",
    "    print(\"\\n\\n\\n\\n\\n\")\n",
    "    print(\"haz booting...\\n...\\n...\\n...\\nHaz online.\\nHello there user!\\nMy name is Haz.\\nPlease tell me where to go.\\nLet's get exploring!\\n\")\n",
    "    print(\"To the Left: Haz shows you a feint image of a dark, craggy hill; a bright orange lava stream flowing down one side of it.\\nTo the Right: Haz shows a steep hill that leads down to what looks like a massive volcanic lake. Large boulders making islands in the fiery lake. Haz's indicators seem to briefly pick up movement down by the hellish lake.\\nAhead: Haz shows a long stretch that leads to a towering volcano, whose pitch black plumes of smoke nearly blot out the light from the nearby sun.\")\n",
    "\n",
    "    while continue_search == \"true\":\n",
    "        direct1 = input(\"Do you want to go Left, Right, or Ahead?\")\n",
    "        direct1 = direct1.lower()\n",
    "        \n",
    "        if direct1 == 'left':\n",
    "            print(\"\\n\\n\\n\")\n",
    "            print(\"Going to left. Turning on head lights.\\nYou will want to gather samples of either lava or soil on the craggy hill.\\n\")\n",
    "            sample = input(\"What do you want me to search, soil or lava sample? Type soil, or lava to continue.\")\n",
    "            sample = sample.lower()\n",
    "            gather_sample(sample)\n",
    "        elif direct1 == 'right':\n",
    "            print(\"\\n\\n\\n\")\n",
    "            print(\"HAZ: DETECTING 30 percent + DECLINE. ACTIVATING STABILIZERS.\\n\\nProceeding down the slope, is treacherous business with the loose \\nterrain of volcanic rock, but with his advanced stabilizers, \\nHaz makes it down without a scratch or bump, bringing him to the \\nshoreline of the vast magma lake. But there it is again! Haz has \\ndetected movement for a mere moment on the lake!\\n \")\n",
    "            _choice = input(\"Would you like Haz to conduct a scan of the area? \\nOr disregard detection and begin collecting rock and lava samples?\\n Type scan, soil, or lava to continue.\")\n",
    "            if _choice == 'soil':\n",
    "                gather_sample(_choice)\n",
    "            elif _choice == 'lava':\n",
    "                gather_sample(_choice)\n",
    "            else:\n",
    "                print(\"\\n\\n\\n\")\n",
    "                print(\"Detection: HAZ: ACTIVATING HYPERIOR SCANNERS.............UNRECOGNIZED ORGANIC LIFE DETECTED.......UNRECOGNIZED ORGANIC LIFE, MEASURING 12 METERS IN LENGTH, SUBMERGED BENEATH SURFACE OF MAGMA........MOVEMENT DETECTED, UNRECOGNIZED ORGANIC LIFE MOVING FURTHER DOWN INTO MAGMA, EXCEEDING SCANNING RANGE.............................................SCANNING.............................SCANNING............................NO ORGANIC LIFE DETECTED. NO MOVEMENT DETECTED. SCAN CATALOGED FOR FURTHER ANALYSIS. SECONDARY PROGRAMMING ACTIVATED: DETECTED ORGANIC LIFE, RETURN TO POD FOR IMMEDIATE EXTRACTION.\")\n",
    "                print(\"\\n\\n\\n\")\n",
    "        elif direct1 == 'ahead':\n",
    "            print(\"\\n\\n\\n\")\n",
    "            print(\"Prompting Haz to drive forward, he comes to the base of a massive volcano, \\nthe occasional fireball falling from on high and crashing mere meters away from him. \\nLuckily, his kinetic barriers are running and should keep him safe. \\nBut something must be odd with his cameras because the lava up above him, \\nsome 100 meters away, is green!\")\n",
    "            print(\"\\n\\n\\n\")\n",
    "        \n",
    "        next_search = input(\"Do you want to return to base or you want to continue the search? [Type base or continue]\")\n",
    "        next_search = next_search.lower()\n",
    "        if(next_search == \"base\"):\n",
    "            continue_search = \"false\"\n",
    "        else:\n",
    "            continue_search = \"true\"\n",
    "\n",
    "    print(\"\\nReturning to base\")\n",
    "    print(\"\\nGame Over. thank you for playing.\")\n",
    "    \n",
    "    return"
   ]
  },
  {
   "cell_type": "code",
   "execution_count": null,
   "metadata": {},
   "outputs": [],
   "source": [
    "volcano()"
   ]
  },
  {
   "cell_type": "markdown",
   "metadata": {},
   "source": [
    "### Moon"
   ]
  },
  {
   "cell_type": "markdown",
   "metadata": {},
   "source": [
    "Kassee, Emily"
   ]
  },
  {
   "cell_type": "code",
   "execution_count": null,
   "metadata": {},
   "outputs": [],
   "source": [
    "def moon():\n",
    "    Moon = 1\n",
    "\n",
    "    while Moon < 5:\n",
    "    \n",
    "        while Moon == 1:\n",
    "            print(\"You approach a rustbucket of a rocket. You have no idea where it goes, only there is nothing behind. Do you enter? yes or no\")\n",
    "            start = input()\n",
    "            start = start.lower()\n",
    "            if start == \"no\":\n",
    "                    print(\"You turn your back on what could possibly be certain doom to face the oncoming darkness of the worlds death.\")\n",
    "            if start == \"yes\":\n",
    "                    print(\"As you slowly enter the rocket you begin to look around nervously and see an uncomfortable metal chair to the right and a small door to the left. Which way do you go?\")\n",
    "                    direction = input()\n",
    "                    direction = direction.lower()\n",
    "                    if direction == \"right\":\n",
    "                        print(\"As you approach the decrepit chair you begin to notice what may have once been safety straps falling onto the floor as well as brace bars to the sides of the chair. It does look like it would hurt after sitting for a few hours. Do you sit or go back to entrance? yes or no\")\n",
    "                        sit = input()\n",
    "                        sit == sit.lower()\n",
    "                        if sit == \"yes\":\n",
    "                            print(\"As you sit down a screen to your right turns on and shows what looks to be the coordinates to the Moon. After a few minutes you feel a sense of urgency and head towards the door ahead of you.\")\n",
    "                            Moon = 2\n",
    "                        if sit == \"no\":\n",
    "                            print(\"You give one apprehensive look towards the chair then squeeze through the door.\")\n",
    "                            Moon = 2\n",
    "                    if direction == \"left\":\n",
    "                        print(\"You squeeze through the door and enter an are which looks like the control area. Do you approach the control panel or go back? Aprroach or return\")\n",
    "                        Moon = 2\n",
    "                        \n",
    "        while Moon == 2:\n",
    "            approach = input()\n",
    "            approach = approach.lower()\n",
    "            if approach == \"approach\":\n",
    "                print(\"As you move towards the control panel it seems to sense your movement and lower to reach your height and all the buttons light up. A voice begins to talk saying 'I am Navigator, would you like me to begin the flight or would you prefer to fly?' Choose Navigator or Me\")\n",
    "                res = input()\n",
    "                res = res.lower()\n",
    "                if res == \"navigator\":\n",
    "                    print(\"You start to relax as you look out the window and see the world fall away as you ascend into space. The Moon quickly becomes a large glowing ball.\")\n",
    "                    Moon = 3\n",
    "                if res == \"me\":\n",
    "                    print(\"You delve into your memory of space flight and start pressing the required buttons to start the ship. The launch quickly becomes concerning with all the rocking as your keep pressing buttons trying to correct yourself. The Navigator pipes up with 'Are you sure you do not want me to fly?' You grit your teeth and continue with the rough and bumpy flight towards the Moon.\")\n",
    "                    Moon = 4\n",
    "            if approach == \"return\":\n",
    "                print(\"You exit the rocket ship to embrace the darkness of the world.\")\n",
    "                \n",
    "        while Moon == 3:\n",
    "            print(\"The Moon soon swells in the window to the point it is all you see as you feel a gentle lurch in the rocket. 'We have landed safely. Hope you enjoyed the flight.' The Navigators voice interrupts your thoughts. You take a moment to breath a sight of relief as you stand up. Do you exit the rocket? yes or no\")\n",
    "            exit = input()\n",
    "            exit = exit.lower()\n",
    "            if exit == \"no\":\n",
    "                print(\"You chicken out in the final moments of what could have been your new life and slowly pass alone with only an AI to wish you farewell.\")\n",
    "                Moon = 5\n",
    "            if exit == \"yes\":\n",
    "                print(\"You leave the rocket to be welcomed by those who have migrated to the Moon and you begin a new life as one of the first colonists outside Earth.\")\n",
    "                Moon = 5\n",
    "                \n",
    "        while Moon == 4:\n",
    "            print(\"You have the roughest flight imaginable by humanity to the Moon. As you approach the surface of the Moon the Navigator pipes up with 'Would you like me to take over?' yes or no?\")\n",
    "            land = input()\n",
    "            land = land.lower()\n",
    "            if land == \"yes\":\n",
    "                print(\"The Navigator manages to save the landing for the ship and land smoothly on the Moon without excessive bumpiness. You slowly walk out of the rocket and become one of the first off world colonists.\")\n",
    "                Moon = 5\n",
    "            if land == \"no\":\n",
    "                print(\"You hit the odd grey botton on the side of the panel by accident and somehow manage to open humanities first wormhole while the Navigator freaks out in the background. You are never seen again.\")\n",
    "                Moon = 5\n",
    "                \n",
    "        if Moon == 5:\n",
    "            print(\"The END!\")"
   ]
  },
  {
   "cell_type": "code",
   "execution_count": null,
   "metadata": {},
   "outputs": [],
   "source": [
    "moon()"
   ]
  },
  {
   "cell_type": "markdown",
   "metadata": {},
   "source": [
    "### Sewer"
   ]
  },
  {
   "cell_type": "markdown",
   "metadata": {},
   "source": [
    "Joshua, Hailey, Dan"
   ]
  },
  {
   "cell_type": "code",
   "execution_count": null,
   "metadata": {},
   "outputs": [],
   "source": [
    "def sewer():\n",
    "    print(\"You're walking through a dark sewer\")\n",
    "    print(\"You encounter the Teenage Mutant Ninja Turtles\")\n",
    "    pizzachoice()"
   ]
  },
  {
   "cell_type": "code",
   "execution_count": null,
   "metadata": {},
   "outputs": [],
   "source": [
    "def pizzachoice():\n",
    "    pizza_flavors = [\"Pepperoni\", \"Cheese\", \"Hawaiian\", \"Veggie\", \"No Thank you\"]\n",
    "    pizza = input(\"They offer you a slice of pizza, which flavor do you choose?\" + str(pizza_flavors))\n",
    "    pizza = pizza.upper()\n",
    "    if pizza == \"PEPPERONI\":\n",
    "        print(\"You are granted mutant turtle powers.\")\n",
    "        jointhem()\n",
    "    elif pizza == \"NO THANK YOU\":\n",
    "        print(\"Michelangelo says, No Way Dude! Who doesn't love pizza?\")\n",
    "        jointhem()\n",
    "    else:\n",
    "        print(\"    Bad pizza choice...\")\n",
    "        print(\"    You fall backwards into the sewage.\")\n",
    "        print(\"    You wake up the next day with no memory of what happend.\")\n",
    "        print(\"    Then, you notice a strange smell.\")\n",
    "    return"
   ]
  },
  {
   "cell_type": "code",
   "execution_count": null,
   "metadata": {},
   "outputs": [],
   "source": [
    "def jointhem():\n",
    "    choices = [\"Join them\", \"Run Away\", \"Fight Them\"]\n",
    "    choice = input(\"You are given the option to join them. What choice do you make?: \" + str(choices))\n",
    "    choice = choice.upper()\n",
    "    if choice == \"JOIN THEM\":\n",
    "        print(\"COWABUNGA DUDE!\")\n",
    "    elif choice == \"RUN AWAY\":\n",
    "        print(\"Without you and the Turtles the world falls into eternal chaos at the hand of Shredder\")\n",
    "    elif choice == \"FIGHT THEM\":\n",
    "        print(\"After a severe beatdown...\")\n",
    "        print(\"You join the Foot Clan & rule with Shredder.\")\n",
    "    return"
   ]
  },
  {
   "cell_type": "code",
   "execution_count": null,
   "metadata": {},
   "outputs": [],
   "source": [
    "sewer()"
   ]
  },
  {
   "cell_type": "markdown",
   "metadata": {},
   "source": [
    "### Future"
   ]
  },
  {
   "cell_type": "markdown",
   "metadata": {},
   "source": [
    "Lori, Roger, Alicia"
   ]
  },
  {
   "cell_type": "code",
   "execution_count": null,
   "metadata": {},
   "outputs": [],
   "source": [
    "def future():\n",
    "    #Roger, Alicia and Lori\n",
    "    #start here\n",
    "    optiontm = [\"Climb in\", \"Leave\"]\n",
    "    print(\"You find a time machine in the basement.\", \"What do you want to do?\" + str(optiontm))\n",
    "    actiontm = input(optiontm)\n",
    "    #Choice one\n",
    "    if actiontm == \"Climb in\": \n",
    "        options = [\"2080\", \"3072\"]\n",
    "        action = input(\"where do you want to go? \"+ str(options))\n",
    "        if action not in options:\n",
    "            print(\"recalculating...try again\")\n",
    "            action = input()\n",
    "        if action ==\"2080\":\n",
    "            print(\"You see a blinding flash and hear a deafening roar in the distance.\")\n",
    "            option2080 =[\"Look around\", \"Choose another time\"]\n",
    "            print(\"what do you do now?\"+ str(option2080))\n",
    "            action2080 = input(option2080)\n",
    "            if action2080 == \"Look around\":\n",
    "                option2080a =[\"run\", \"Get back in Time Machine\"]\n",
    "                print (\"You get out of the Time Machine and look around\", \"The roar you hear is coming from a huge Robot Dinosaur\" + str(option2080a))\n",
    "                action2080a = input(option2080a)\n",
    "                if action2080a == \"run\":\n",
    "                    print (\"the last thing you hear as the dinosaur catches you, is the sound of your own crunching bones\")\n",
    "                if action2080a == \"Get back in Time Machine\": \n",
    "                    print (\"good choice you have survived the future and are heading home\")\n",
    "            if action2080 ==\"Choose another time\":\n",
    "                option2080b = [\"3072\", \"return to home\"]\n",
    "                print(\"What time do you choose,\" +str(option2080b))\n",
    "                action2080b=input(option2080b)\n",
    "                if action2080b ==\"3072\":\n",
    "                    print (\"your time machine explodes during the journey, your atoms are spread across time and space\")\n",
    "                if action2080b ==\"return to home\":\n",
    "                    print (\"Good choice! You have survived the future and are safely back in your basement\")\n",
    "        else:\n",
    "            print(\"your time machine explodes during the journey. you are trapped in the time space continuum\")    \n",
    "    else:\n",
    "        print(\"You head back upstairs and watch another rerun of Star Trek\")"
   ]
  },
  {
   "cell_type": "code",
   "execution_count": null,
   "metadata": {},
   "outputs": [],
   "source": [
    "future()"
   ]
  },
  {
   "cell_type": "markdown",
   "metadata": {},
   "source": [
    "### Arctic"
   ]
  },
  {
   "cell_type": "markdown",
   "metadata": {},
   "source": [
    "Doug, Jason, Brian"
   ]
  },
  {
   "cell_type": "code",
   "execution_count": null,
   "metadata": {},
   "outputs": [],
   "source": [
    "def Death():\n",
    "    print(\"though your efforts were brave you perished in the cold frozen wastes......... Alone.\")"
   ]
  },
  {
   "cell_type": "code",
   "execution_count": null,
   "metadata": {},
   "outputs": [],
   "source": [
    "def indecision():\n",
    "        print(\"your inability to spell has lead to indecision and you freeze to death.\")\n",
    "        print(\"though your efforts were brave you perished in the cold frozen wastes......... Alone.\")"
   ]
  },
  {
   "cell_type": "code",
   "execution_count": null,
   "metadata": {},
   "outputs": [],
   "source": [
    "def survive():\n",
    "    print(\"You continue to live but at what cost...\")"
   ]
  },
  {
   "cell_type": "code",
   "execution_count": null,
   "metadata": {},
   "outputs": [],
   "source": [
    "def coast_two():\n",
    "    print(\"after traversing the mountain valley\")\n",
    "    coast()"
   ]
  },
  {
   "cell_type": "code",
   "execution_count": null,
   "metadata": {},
   "outputs": [],
   "source": [
    "def coast_three():\n",
    "    print(\"Coast place holder with jungle availability\")"
   ]
  },
  {
   "cell_type": "code",
   "execution_count": null,
   "metadata": {},
   "outputs": [],
   "source": [
    "def jungle():\n",
    "    print(\"You choose the path that has a waft of warm air coming from it.\")\n",
    "    print(\"Ariving at the end of the long path you find a deep gorge filled with the most lush a fertile jungle imaginable!\")\n",
    "    print(\"You begin to explore the warm tropical environment.\")\n",
    "    print(\"With your survival all but assured you have one last choice.\")\n",
    "    print(\"Build the treehouse of your childhood dreams or keep it simple and build a comfy leantoo.\")\n",
    "    print(\"(tree or leantoo)\")\n",
    "    Jungle_one_choice=input()\n",
    "    if Jungle_one_choice.lower()==\"tree\":\n",
    "        print(\"You build a grand tree house in the tallest tree.\")\n",
    "        print(\"Alone you live out your days in jungle luxury.\")\n",
    "        survive()\n",
    "    elif Jungle_one_choice.lower()==\"leantoo\":\n",
    "        print(\"Your leantoo is sturdy and weather proof you proudly hunker down for you first night of survival.\")\n",
    "        print(\"Your last thought is one of horror as you are consumed by fire ants.\")\n",
    "        print(\"though your efforts were brave you perished in the warm jungle......... Alone.\")\n",
    "    else:\n",
    "        print(\"your inability to spell has lead to indecision and you freeze to death.\")\n",
    "        print(\"though your efforts were brave you perished in the warm jungle......... Alone.\")"
   ]
  },
  {
   "cell_type": "code",
   "execution_count": null,
   "metadata": {},
   "outputs": [],
   "source": [
    "def mountain_climb():\n",
    "    print(\"You begin your steep ascent up the frigid mountains hoping desperatly for shelter\")\n",
    "    print(\"You reach the top do you wish to continue climbing or explore the cave you found: (cave or climb) \")\n",
    "    one_choice=input()\n",
    "    if one_choice.lower()== \"climb\":\n",
    "        print(\"you continued your climb only to slip in a glacier and plung to your death\")\n",
    "        Death()\n",
    "    else:\n",
    "        print(\"the cave looks warm and inviting\")\n",
    "        print(\"as you enter a musty warm breeze hit your face you smile hopefully and your last sight is the largest bear you have ever seen\")\n",
    "        Death()"
   ]
  },
  {
   "cell_type": "code",
   "execution_count": null,
   "metadata": {},
   "outputs": [],
   "source": [
    "def mountain_valley():\n",
    "    print(\"A frozen climb sounds like the last thing you want to try.\")\n",
    "    print(\"you head into the valley opening parralel to the coast\")\n",
    "    print(\"you approach a Y in the path: (left or right)\")\n",
    "    val_one_choice=input()\n",
    "    if val_one_choice.lower()==\"left\":\n",
    "        jungle()\n",
    "    elif val_one_choice.lower()==\"right\":\n",
    "        print(\"this path lead out to the coast you decide to follow the beach.\")\n",
    "        coast_two()\n",
    "    else:\n",
    "        print(\"your inability to spell has lead to indecision and you freeze to death.\")\n",
    "        Death()"
   ]
  },
  {
   "cell_type": "code",
   "execution_count": null,
   "metadata": {},
   "outputs": [],
   "source": [
    "def coast():\n",
    "    print(\"You emerge onto a windswept beach.\")\n",
    "    print(\"The beach streaches before you survival seems possible.\")"
   ]
  },
  {
   "cell_type": "code",
   "execution_count": null,
   "metadata": {},
   "outputs": [],
   "source": [
    "def shelter():\n",
    "    # write for found fire\n",
    "    # write for found food\n",
    "    # write for found both\n",
    "    print('As you shiver in the arctic wind you decide the first thing you need to survive is shelter!') \n",
    "    print(\"You have two choices of direction.\")\n",
    "    print(\"1. Climb into the mountains\")\n",
    "    print(\"2. Head towards the coast\")\n",
    "    print(\"(mountains or coast )\")\n",
    "    Direction=input()\n",
    "    if Direction.lower()==\"mountains\":\n",
    "        print(\"Do you risk climbing to the heights?\")\n",
    "        print(\"or try your hand at the shadowed valley?\")\n",
    "        print(\"(climb or valley)\")\n",
    "        up_down=input()\n",
    "        if up_down.lower()==\"climb\":\n",
    "            mountain_climb()\n",
    "        elif up_down.lower()==\"valley\":\n",
    "            mountain_valley()\n",
    "        else:\n",
    "            indecision()\n",
    "    elif Direction.lower()==\"coast\":\n",
    "        coast()\n",
    "    else:\n",
    "        indecision()"
   ]
  },
  {
   "cell_type": "code",
   "execution_count": null,
   "metadata": {},
   "outputs": [],
   "source": [
    "shelter()"
   ]
  }
 ],
 "metadata": {
  "kernelspec": {
   "display_name": "Python 3",
   "language": "python",
   "name": "python3"
  },
  "language_info": {
   "codemirror_mode": {
    "name": "ipython",
    "version": 3
   },
   "file_extension": ".py",
   "mimetype": "text/x-python",
   "name": "python",
   "nbconvert_exporter": "python",
   "pygments_lexer": "ipython3",
   "version": "3.6.4"
  }
 },
 "nbformat": 4,
 "nbformat_minor": 2
}
