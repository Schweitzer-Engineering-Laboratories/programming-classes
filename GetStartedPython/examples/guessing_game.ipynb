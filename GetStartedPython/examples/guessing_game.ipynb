{
 "cells": [
  {
   "cell_type": "markdown",
   "metadata": {},
   "source": [
    "# Guessing Game"
   ]
  },
  {
   "cell_type": "markdown",
   "metadata": {},
   "source": [
    "Brett Deaton - Dec 2020"
   ]
  },
  {
   "cell_type": "markdown",
   "metadata": {},
   "source": [
    "Your task is to build a game in which the user tries to determine what random\n",
    "number was chosen by the computer. The minimal user interface might go\n",
    "something like this:\n",
    "```\n",
    "OUT  guess my number\n",
    "IN   37\n",
    "OUT  too high, guess again\n",
    "IN   10\n",
    "OUT  too low, guess again\n",
    "IN   23\n",
    "OUT  yes!\n",
    "```"
   ]
  },
  {
   "cell_type": "code",
   "execution_count": null,
   "metadata": {},
   "outputs": [],
   "source": [
    "name = input(\"What's your name? \")\n",
    "print(\"Let's play a game, \", name, \".\", sep='')\n",
    "number = 73\n",
    "guess = int(input(\"Guess my number: \"))\n",
    "if guess==number:\n",
    "    print(\"Yes!\")\n",
    "else:\n",
    "    print(\"Nope.\")"
   ]
  },
  {
   "cell_type": "markdown",
   "metadata": {},
   "source": [
    "#### Todo"
   ]
  },
  {
   "cell_type": "markdown",
   "metadata": {},
   "source": [
    "The script fragment above needs at least the following modifications to complete\n",
    "the task:\n",
    "1. Use a random number in the range `[1,100]` (for an example see this\n",
    "   [Stackoverflow discussion](https://stackoverflow.com/questions/3996904/generate-random-integers-between-0-and-9).\n",
    "2. Repeatedly query the user for a guess.\n",
    "3. Report \"too high\", \"too low\", \"yes!\", or \"I don't understand your input\"."
   ]
  },
  {
   "cell_type": "code",
   "execution_count": null,
   "metadata": {},
   "outputs": [],
   "source": []
  }
 ],
 "metadata": {
  "kernelspec": {
   "display_name": "Python 3",
   "language": "python",
   "name": "python3"
  },
  "language_info": {
   "codemirror_mode": {
    "name": "ipython",
    "version": 3
   },
   "file_extension": ".py",
   "mimetype": "text/x-python",
   "name": "python",
   "nbconvert_exporter": "python",
   "pygments_lexer": "ipython3",
   "version": "3.6.4"
  }
 },
 "nbformat": 4,
 "nbformat_minor": 2
}
