{
 "cells": [
  {
   "cell_type": "markdown",
   "metadata": {},
   "source": [
    "# Interactive Fiction Adventure"
   ]
  },
  {
   "attachments": {},
   "cell_type": "markdown",
   "metadata": {},
   "source": [
    "Joey Hutchinson\n",
    "Taylor Whorton\n",
    "Mike Basford\n",
    "Kyle Metzler\n",
    "Daisy Brown\n",
    "Tim Nevius\n",
    "Alex Trench\n",
    "Mitchell Miller\n",
    "Jace Bullough\n",
    "DJ VanScotter\n",
    "\n",
    "Winter 2020"
   ]
  },
  {
   "cell_type": "code",
   "execution_count": null,
   "metadata": {},
   "outputs": [],
   "source": [
    "def swamp():\n",
    "    print(\"You enter a swampy swamp.\")\n",
    "    action = input(\"Your horse begins to sink. What do you do?\"\n",
    "                  \"(flee, stay) \")\n",
    "    if action==\"flee\":\n",
    "        print(\"You're horrible.\")\n",
    "    else:\n",
    "        print(\"You die.\")"
   ]
  },
  {
   "cell_type": "code",
   "execution_count": null,
   "metadata": {},
   "outputs": [],
   "source": [
    "swamp()"
   ]
  },
  {
   "cell_type": "markdown",
   "metadata": {},
   "source": [
    "#### Todo"
   ]
  },
  {
   "cell_type": "markdown",
   "metadata": {},
   "source": [
    "Write more functions that follow this model, requesting user input to navigate an adventure."
   ]
  }
 ],
 "metadata": {
  "kernelspec": {
   "display_name": "Python 3",
   "language": "python",
   "name": "python3"
  },
  "language_info": {
   "codemirror_mode": {
    "name": "ipython",
    "version": 3
   },
   "file_extension": ".py",
   "mimetype": "text/x-python",
   "name": "python",
   "nbconvert_exporter": "python",
   "pygments_lexer": "ipython3",
   "version": "3.6.4"
  }
 },
 "nbformat": 4,
 "nbformat_minor": 2
}
