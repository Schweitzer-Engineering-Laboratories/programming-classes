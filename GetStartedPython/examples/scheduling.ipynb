{
 "cells": [
  {
   "cell_type": "markdown",
   "metadata": {},
   "source": [
    "# Scheduling Tool"
   ]
  },
  {
   "cell_type": "markdown",
   "metadata": {},
   "source": [
    "Brett Deaton - Fall 2020"
   ]
  },
  {
   "cell_type": "markdown",
   "metadata": {},
   "source": [
    "This notebook prints and analyzes potential schedules for instructors in the STEM Fundamentals program."
   ]
  },
  {
   "cell_type": "markdown",
   "metadata": {},
   "source": [
    "### Setup"
   ]
  },
  {
   "cell_type": "code",
   "execution_count": 1,
   "metadata": {},
   "outputs": [
    {
     "name": "stdin",
     "output_type": "stream",
     "text": [
      "Enter the number of instructors in the program: 3\n",
      "Enter a space-separated sequence of sites: LS -- LD PS PD -- PD PS --\n",
      "Enter a shift between each instructor's cycle: 3\n"
     ]
    }
   ],
   "source": [
    "nteach = int( input('Enter the number of instructors in the program:') )\n",
    "seq = list( input('Enter a space-separated sequence of sites:').split() )\n",
    "shift = int( input(\"Enter a shift between each instructor's cycle:\") )"
   ]
  },
  {
   "cell_type": "code",
   "execution_count": 9,
   "metadata": {},
   "outputs": [
    {
     "data": {
      "text/plain": [
       "{'--', 'LD', 'LS', 'PD', 'PS'}"
      ]
     },
     "execution_count": 9,
     "metadata": {},
     "output_type": "execute_result"
    }
   ],
   "source": [
    "# create a parent set of the unique sites in the list\n",
    "sites = set()\n",
    "for x in seq:\n",
    "    sites.add(x)\n",
    "sites"
   ]
  },
  {
   "cell_type": "code",
   "execution_count": 13,
   "metadata": {},
   "outputs": [],
   "source": [
    "# create shifted sequences of sites for each instructor\n",
    "seqa = seq\n",
    "seqb = seq[-shift:]+seq[:-shift]\n",
    "seqc = seq[-2*shift:]+seq[:-2*shift]"
   ]
  },
  {
   "cell_type": "code",
   "execution_count": 14,
   "metadata": {},
   "outputs": [],
   "source": [
    "# combine shifted schedules into master list `seqs` so that seqs[0] contains\n",
    "# each instructor's location for the 0th week\n",
    "seqs=[]\n",
    "for i in range(len(seqa)):\n",
    "    seqs.append([seqa[i], seqb[i], seqc[i]])"
   ]
  },
  {
   "cell_type": "markdown",
   "metadata": {},
   "source": [
    "### Print Schedules Horizontally"
   ]
  },
  {
   "cell_type": "code",
   "execution_count": 15,
   "metadata": {},
   "outputs": [
    {
     "name": "stdout",
     "output_type": "stream",
     "text": [
      "Instructor A:    LS  --  LD  PS  PD  --  PD  PS  --  \n",
      "Instructor B:    PD  PS  --  LS  --  LD  PS  PD  --  \n",
      "Instructor C:    PS  PD  --  PD  PS  --  LS  --  LD  "
     ]
    }
   ],
   "source": [
    "for x in ['Instructor A:  ']+seqa:\n",
    "    print(x, end='  ')\n",
    "print()\n",
    "for x in ['Instructor B:  ']+seqb:\n",
    "    print(x, end='  ')\n",
    "print()\n",
    "for x in ['Instructor C:  ']+seqc:\n",
    "    print(x, end='  ')"
   ]
  },
  {
   "cell_type": "markdown",
   "metadata": {},
   "source": [
    "### Print Schedules Vertically"
   ]
  },
  {
   "cell_type": "code",
   "execution_count": 16,
   "metadata": {},
   "outputs": [
    {
     "name": "stdout",
     "output_type": "stream",
     "text": [
      "Instructor    A   B   C\n",
      "         0    LS  PD  PS\n",
      "         1    --  PS  PD\n",
      "         2    LD  --  --\n",
      "         3    PS  LS  PD\n",
      "         4    PD  --  PS\n",
      "         5    --  LD  --\n",
      "         6    PD  PS  LS\n",
      "         7    PS  PD  --\n",
      "         8    --  --  LD\n"
     ]
    }
   ],
   "source": [
    "print('Instructor    A   B   C')\n",
    "for i in range(len(seqa)):\n",
    "    print('       ', i,'', seqa[i], seqb[i], seqc[i], sep='  ')"
   ]
  },
  {
   "cell_type": "markdown",
   "metadata": {},
   "source": [
    "### Analyze Schedules"
   ]
  },
  {
   "cell_type": "code",
   "execution_count": 17,
   "metadata": {},
   "outputs": [
    {
     "name": "stdout",
     "output_type": "stream",
     "text": [
      "Oops, you double-booked site -- in week 2\n",
      "Oops, you double-booked site -- in week 5\n",
      "Oops, you double-booked site -- in week 8\n"
     ]
    }
   ],
   "source": [
    "# check for double-booking errors, i.e. two instructors at same site in a week\n",
    "i = 0 # week counter\n",
    "for week in seqs:\n",
    "    for s in sites:\n",
    "        if week.count(s) > 1:\n",
    "            print('Oops, you double-booked site', s, 'in week', i)\n",
    "    i += 1"
   ]
  },
  {
   "cell_type": "code",
   "execution_count": 22,
   "metadata": {},
   "outputs": [
    {
     "name": "stdout",
     "output_type": "stream",
     "text": [
      "Breakdown of 27 site visits:  \n",
      "  LS: 0.1111111111111111\n",
      "  --: 0.3333333333333333\n",
      "  PS: 0.2222222222222222\n",
      "  PD: 0.2222222222222222\n",
      "  LD: 0.1111111111111111\n"
     ]
    }
   ],
   "source": [
    "# count site visits in one cycle\n",
    "counts = dict.fromkeys(sites, 0)\n",
    "for week in seqs:\n",
    "    for s in sites:\n",
    "        counts[s] += week.count(s)\n",
    "numvis = sum(counts.values())\n",
    "print('Breakdown of', numvis, 'site visits:  ')\n",
    "for s in sites:\n",
    "    print('  ', s, ': ', counts[s]/numvis, sep='')"
   ]
  },
  {
   "cell_type": "markdown",
   "metadata": {},
   "source": [
    "### Todo"
   ]
  },
  {
   "cell_type": "markdown",
   "metadata": {},
   "source": [
    "Modifications or repairs to make:\n",
    "\n",
    "* format percentages in the site counts\n",
    "* remove dead weeks from site counts and double-booking counts"
   ]
  },
  {
   "cell_type": "code",
   "execution_count": null,
   "metadata": {},
   "outputs": [],
   "source": []
  }
 ],
 "metadata": {
  "kernelspec": {
   "display_name": "Python 3",
   "language": "python",
   "name": "python3"
  },
  "language_info": {
   "codemirror_mode": {
    "name": "ipython",
    "version": 3
   },
   "file_extension": ".py",
   "mimetype": "text/x-python",
   "name": "python",
   "nbconvert_exporter": "python",
   "pygments_lexer": "ipython3",
   "version": "3.6.4"
  }
 },
 "nbformat": 4,
 "nbformat_minor": 4
}
