{
 "cells": [
  {
   "cell_type": "markdown",
   "metadata": {},
   "source": [
    "# User Input"
   ]
  },
  {
   "cell_type": "markdown",
   "metadata": {},
   "source": [
    "In the previous activity, [1-hello_world.ipynb](1-hello_world.ipynb), you wrote scripts and then ran them. What if you want more flexibility? You can allow your script user to set variables or select certain behaviors while the program is running. Let's find out how to gather input from the user."
   ]
  },
  {
   "cell_type": "markdown",
   "metadata": {},
   "source": [
    "### Input"
   ]
  },
  {
   "cell_type": "markdown",
   "metadata": {},
   "source": [
    "Python has a built-in `input()` function that queries the user for information. The argument (inside the parentheses) is a message to the user, and the return value is whatever the user typed."
   ]
  },
  {
   "cell_type": "markdown",
   "metadata": {},
   "source": [
    "**Run the script below, type your answer into the input box, and hit *[Enter]*.**"
   ]
  },
  {
   "cell_type": "code",
   "execution_count": null,
   "metadata": {},
   "outputs": [],
   "source": [
    "hrsa = input(\"Enter how many hours you worked last week: \")\n",
    "hrsb = 24\n",
    "print(\"You worked\", hrsa, \"hours, and I worked\", hrsb)"
   ]
  },
  {
   "cell_type": "markdown",
   "metadata": {},
   "source": [
    "**Write a single line of code using the `input()` function to gather the user's work location and assign it the variable name `loca`.**"
   ]
  },
  {
   "cell_type": "code",
   "execution_count": null,
   "metadata": {},
   "outputs": [],
   "source": []
  },
  {
   "cell_type": "markdown",
   "metadata": {},
   "source": [
    "### Conditional Statements"
   ]
  },
  {
   "cell_type": "markdown",
   "metadata": {},
   "source": [
    "Often we want our code to adjust its behavior according to the user's input. We can do that with conditional statements, using python's `if` and `else` keywords."
   ]
  },
  {
   "cell_type": "markdown",
   "metadata": {},
   "source": [
    "**Provide the correct user input to the script below to make it report \"You're right!\". Don't change the script.**"
   ]
  },
  {
   "cell_type": "code",
   "execution_count": null,
   "metadata": {},
   "outputs": [],
   "source": [
    "locb = \"Arrokoth\"\n",
    "guess = input(\"Guess where I work: \")\n",
    "if guess==locb:\n",
    "    print(\"You're right!\")\n",
    "else:\n",
    "    print(\"No,\", guess, \"is great, but not where I work.\")"
   ]
  },
  {
   "cell_type": "markdown",
   "metadata": {},
   "source": [
    "The equality operator `==` used above in the 3rd line tests for whether left and right objects are equivalent in value. That's different than the assignment operator `=` used in the 1st and 2nd lines to assign a variable name to an object. Explore the documentation for more [comparison operators](https://docs.python.org/3/reference/expressions.html#value-comparisons)."
   ]
  },
  {
   "cell_type": "markdown",
   "metadata": {},
   "source": [
    "**Expand the script below with an `else` statement, so it never leaves the user without some form of message.**"
   ]
  },
  {
   "cell_type": "code",
   "execution_count": null,
   "metadata": {},
   "outputs": [],
   "source": [
    "if loca==locb:\n",
    "    print(\"We should meetup in\", loca, \"sometime!\")"
   ]
  },
  {
   "cell_type": "markdown",
   "metadata": {},
   "source": [
    "### Converting Between Types"
   ]
  },
  {
   "cell_type": "markdown",
   "metadata": {},
   "source": [
    "That's all very nice. Let's do some math with the input we got from the user."
   ]
  },
  {
   "cell_type": "markdown",
   "metadata": {},
   "source": [
    "**Execute the expression below. Note, you'll get an error. Skim the error message, then move on, we'll fix it later.**"
   ]
  },
  {
   "cell_type": "code",
   "execution_count": null,
   "metadata": {},
   "outputs": [],
   "source": [
    "print(\"Add our hours together and you get\", hrsa + hrsb)"
   ]
  },
  {
   "cell_type": "markdown",
   "metadata": {},
   "source": [
    "Uh oh! The error above occurred because we treated the user's input as a number. But according to python it's not. You can get a hint of this from the fact that the output of the simple expression below has quotes around it."
   ]
  },
  {
   "cell_type": "code",
   "execution_count": null,
   "metadata": {},
   "outputs": [],
   "source": [
    "hrsa"
   ]
  },
  {
   "cell_type": "markdown",
   "metadata": {},
   "source": [
    "**Find the type of each variable using the `type()` function as shown below.**"
   ]
  },
  {
   "cell_type": "code",
   "execution_count": null,
   "metadata": {},
   "outputs": [],
   "source": [
    "type(hrsa)"
   ]
  },
  {
   "cell_type": "code",
   "execution_count": null,
   "metadata": {},
   "outputs": [],
   "source": [
    "type(hrsb)"
   ]
  },
  {
   "cell_type": "markdown",
   "metadata": {},
   "source": [
    "The two variables are different:\n",
    "\n",
    "* `str` is a string, which just means a sequence of keyboard symbols\n",
    "* `int` is an integer, which just means whole number\n",
    "\n",
    "Don't be surprised that `'3'` is different from `3`. The computer stores them as different sequences of bits."
   ]
  },
  {
   "cell_type": "markdown",
   "metadata": {},
   "source": [
    "Never fear, you can solve this by constructing objects of the same type in your expression. Create an integer from a string using the `int()` function, or a string from an integer using the `str()` function."
   ]
  },
  {
   "cell_type": "markdown",
   "metadata": {},
   "source": [
    "**Modify the print statement so it behaves as expected.**"
   ]
  },
  {
   "cell_type": "code",
   "execution_count": null,
   "metadata": {},
   "outputs": [],
   "source": [
    "print(\"Add our hours together and you get\", hrsa + hrsb)"
   ]
  },
  {
   "cell_type": "markdown",
   "metadata": {},
   "source": [
    "### Challenges"
   ]
  },
  {
   "cell_type": "markdown",
   "metadata": {},
   "source": [
    "If you finish early, try to solve any of the following challenges."
   ]
  },
  {
   "cell_type": "markdown",
   "metadata": {},
   "source": [
    "Here are some places to get ideas:\n",
    "\n",
    "* tutorial on the [input function](https://www.geeksforgeeks.org/python-3-input-function/)\n",
    "* tutorial on [if statements](https://www.geeksforgeeks.org/python-if-else/)\n",
    "* python documentation on [control keywords](https://docs.python.org/3/tutorial/controlflow.html#if-statements) like `if` `elif` `else`"
   ]
  },
  {
   "cell_type": "markdown",
   "metadata": {},
   "source": [
    "**Modify only the first line of the following script so it behaves as expected.**"
   ]
  },
  {
   "cell_type": "code",
   "execution_count": null,
   "metadata": {},
   "outputs": [],
   "source": [
    "nloop = input(\"How many times do you want me to repeat myself? \")\n",
    "phrase = input(\"what do you want me to say? \")\n",
    "for x in range(nloop):\n",
    "    print(phrase)"
   ]
  },
  {
   "cell_type": "markdown",
   "metadata": {},
   "source": [
    "**Arithmetic operators are used for other actions besides math. Experiment with the following operations on a string and an integer: `str+str` or `str*int`. Use one or both of these Python syntaxes to reduce the following script into 3 lines of code.**"
   ]
  },
  {
   "cell_type": "code",
   "execution_count": null,
   "metadata": {},
   "outputs": [],
   "source": [
    "nloop = input(\"How many times do you want me to repeat myself? \")\n",
    "phrase = input(\"what do you want me to say? \")\n",
    "for x in range(nloop):\n",
    "    print(phrase)"
   ]
  },
  {
   "cell_type": "markdown",
   "metadata": {},
   "source": [
    "**Fix the following broken script so 1) it behaves as expected, and 2) it works for all possible user inputs (e.g. 'Y', 'N', and anything else the user might accidentally type).**"
   ]
  },
  {
   "cell_type": "code",
   "execution_count": null,
   "metadata": {},
   "outputs": [],
   "source": [
    "compare = input(\"Do you want to compare work hours? (Y or N) \")\n",
    "if compare==\"N\":\n",
    "    print(\"Okay, I won't compare my hours to yours.\")\n",
    "if int(hrsa) < hrsb:\n",
    "    print(\"I worked more.\")\n",
    "elif int(hrsa) > hrsb:\n",
    "    print(\"I worked less.\")\n",
    "else:\n",
    "    print(\"We worked the same.\")"
   ]
  },
  {
   "cell_type": "markdown",
   "metadata": {},
   "source": [
    "### Next\n",
    "You did it! After debriefing, the next activity will be [3-lists.ipynb](3-lists.ipynb)."
   ]
  }
 ],
 "metadata": {
  "kernelspec": {
   "display_name": "Python 3",
   "language": "python",
   "name": "python3"
  },
  "language_info": {
   "codemirror_mode": {
    "name": "ipython",
    "version": 3
   },
   "file_extension": ".py",
   "mimetype": "text/x-python",
   "name": "python",
   "nbconvert_exporter": "python",
   "pygments_lexer": "ipython3",
   "version": "3.6.4"
  }
 },
 "nbformat": 4,
 "nbformat_minor": 4
}
