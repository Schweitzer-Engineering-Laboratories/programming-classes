{
 "cells": [
  {
   "cell_type": "markdown",
   "metadata": {},
   "source": [
    "# Interactive Fiction Adventure"
   ]
  },
  {
   "cell_type": "markdown",
   "metadata": {},
   "source": [
    "Final projects from Start Programming With Python class ending May 21, 2021. Write a function requesting user input to navigate through an adventure searching for a missing teammate on Mars."
   ]
  },
  {
   "cell_type": "markdown",
   "metadata": {},
   "source": [
    "### Radio Tower"
   ]
  },
  {
   "cell_type": "markdown",
   "metadata": {},
   "source": [
    "Allison, Joshua"
   ]
  },
  {
   "cell_type": "code",
   "execution_count": null,
   "metadata": {},
   "outputs": [],
   "source": [
    "#Intro def\n",
    "def radin():\n",
    "    print(\"You're mission to mars has been going well. Recently however there's been a disturbing turn of events.\")\n",
    "    print(\"Day 47 of Mission to Mars --- Morning standup is quiet, you check your logs and read out the names to see who is missing...\")\n",
    "\n",
    "#trouble shooting step#   print(mp)\n",
    "\n",
    "#Endings\n",
    "def rad3():\n",
    "    print(\"You see a dark shape on the platform of the radio tower that seems to move, what do you do?\")\n",
    "    options = [\"climb\", \"run\"]\n",
    "    action = input(str(options))\n",
    "    while action not in options:\n",
    "        print(\"You entered an invalid option, try again\")\n",
    "        action = input()\n",
    "    if action==\"run\":\n",
    "        print(\"You ran off the edge of a cliff and die\")\n",
    "        outcome=\"die\"\n",
    "    else:\n",
    "        print(\"You found \"+mp+\" but they are barely alive\")\n",
    "        outcome=\"find\"\n",
    "    return outcome\n",
    "\n",
    "def rad4():\n",
    "    print(\"You need to decide what to do next, \"+mp+\" probably won't survive the trip back to earth, what will you do?\")\n",
    "    options = [\"revive\", \"bury\"]\n",
    "    action = input(str(options))\n",
    "    while action not in options:\n",
    "        print(\"You entered an invalid option, try again\")\n",
    "        action = input()\n",
    "    if action==\"revive\":\n",
    "        print(\"It looks like \"+mp+\" will survive! Now send a message back to base.\")\n",
    "    else:\n",
    "        print(\"You are horrible, \"+mp+\" is six feet under now\")\n",
    "\n",
    "def over():\n",
    "    print(\"GAME OVER\")"
   ]
  },
  {
   "cell_type": "code",
   "execution_count": null,
   "metadata": {},
   "outputs": [],
   "source": [
    "radin()\n",
    "mp = input(\"You're normaly loquacious teammate ____ is not here.\")\n",
    "\n",
    "print(\"You search for \"+mp+\" in the radio tower.\")\n",
    "\n",
    "x = rad3()\n",
    "if(x==\"die\"):\n",
    "    over()\n",
    "else:\n",
    "    rad4()\n",
    "    over()"
   ]
  },
  {
   "cell_type": "markdown",
   "metadata": {},
   "source": [
    "### Dry Riverbed"
   ]
  },
  {
   "cell_type": "markdown",
   "metadata": {},
   "source": [
    "Erin, Set, Patty"
   ]
  },
  {
   "cell_type": "code",
   "execution_count": null,
   "metadata": {},
   "outputs": [],
   "source": [
    "#Dry River Bed on Mars\n",
    "def river():\n",
    "    killplayer=\"The figure turns around and chases you with inhuman speed and CATCHES YOU! NOW YOU'RE DEAD!\"\n",
    "    y=\"alive\"\n",
    "    print(\"You and you're team have arrived on Mars. One of your team members went out to survey the dry water bed to gather samples. After a couple hours go by, you head out to see where your teammate might have gone. You've reached the dry water bed. A creepy feeling washes over you. \")\n",
    "    choice1=input(\"What would you like to do? (use binoculars or run away) \")\n",
    "    if choice1.lower() in [\"use binoculars\", \"binoculars\"]:\n",
    "        print(\"You see a distant figure walking away from you. \")\n",
    "        choice2=input(\"What would you like to do? Chase after it or head back? \")\n",
    "        if choice2.lower() in [\"chase\", \"chase after\", \"chase after it\"]:\n",
    "             print(\"You cross the river bed, but there's a boulder blocking your way. \")\n",
    "             choice3=input(\"How do you want to proceed? (Climb boulder, walk around boulder, or head back? \")\n",
    "             if choice3.lower() in [\"climb boulder\", \"Climb boulder\", \"climb\"]:\n",
    "                 print(\"You can see far across the dried out land. You use the binoculars again and you see the figure is wearing an astronaut suit.\")\n",
    "                 print(\"You climb down the boulder and down the other side and start following the suit.\")\n",
    "                 choice4=input(\"How would you like to catch up? Run or Walk? \")\n",
    "                 if choice4.lower() in [\"Run\", \"run\"]:\n",
    "                     print(\"You catch up to the suit and pull out your laser. You yell stop or I shoot!\")\n",
    "                     print(\"The suit slowly turns around. As it faces you, you notice that there is something strange inside the face plate.\")\n",
    "                     choice5=input(\"What do you do? Move closer? Back away slowly? Or do you shoot? \")\n",
    "                     if choice5.lower() in [\"Move closer\", \"closer\", \"move closer\"]:\n",
    "                         print(\"With your laser raised, you cautiously take a few steps forward. You lean in closer and notice that there's nothing inside the suit, other than the skeleton of your missing teammate.\")\n",
    "                         print(\"The suit grabs your arm and now. You're. Missing. Too.\")\n",
    "                         y=\"missing\"\n",
    "                     elif choice5.lower() in [\"Back away\", \"back away\", \"back away slowly\"]:\n",
    "                         print(\"Your foot catches on a rock and you fall down.\")\n",
    "                         print(killplayer)\n",
    "                         y=\"dead\"\n",
    "                     elif choice5.lower() in [\"shoot\", \"Shoot\", \"shoot it\", \"Shoot it\"]:\n",
    "                         print(\"You shoot the suit and it drops down. You move closer to the suit and see nothing but a skeleton inside the suit. You look down and see a name on the suit. It's the name of your missing teammate.\")\n",
    "                         print(\"You head back to camp and report back to base about what happened.\")\n",
    "                         y=\"alive\"\n",
    "                 elif choice4.lower() in [\"Walk\", \"walk\"]:\n",
    "                     print(\"You didn't bring enough water to sustain your trip. Now you've died.\")\n",
    "                     y=\"dead\"\n",
    "             elif choice3.lower() in [\"walk\", \"walk around\", \"walk around boulder\"]:\n",
    "                 print(\"Your foot got caught and it is now broken.\")\n",
    "                 print(killplayer)\n",
    "                 y=\"dead\"\n",
    "             elif choice3.lower() in [\"head back\"]:\n",
    "                 print(killplayer)\n",
    "                 y=\"dead\"\n",
    "        elif choice2.lower() in [\"head back\"]:\n",
    "            print(killplayer)\n",
    "            y=\"dead\"\n",
    "    elif choice1.lower() in [\"run away\", \"run\"]:\n",
    "        print(killplayer)\n",
    "        y=\"dead\"\n",
    "    startover = input(\"Do you want to play again? (Y or N) \")\n",
    "    if startover==\"Y\":\n",
    "        river()\n",
    "    else:\n",
    "        print(\"Thank you for playing!\")\n",
    "    return y\n",
    "    \n",
    "def return_to_earth():\n",
    "    print(\"You return to Earth.\")"
   ]
  },
  {
   "cell_type": "code",
   "execution_count": null,
   "metadata": {},
   "outputs": [],
   "source": [
    "start=input(\"Do you want to play a game? (Y or N) \")\n",
    "if start==\"Y\":\n",
    "    x=river()\n",
    "else:\n",
    "    print(\"See you later!\")\n",
    "\n",
    "if x==\"alive\":\n",
    "    return_to_earth()"
   ]
  },
  {
   "cell_type": "code",
   "execution_count": null,
   "metadata": {},
   "outputs": [],
   "source": []
  }
 ],
 "metadata": {
  "kernelspec": {
   "display_name": "Python 3",
   "language": "python",
   "name": "python3"
  },
  "language_info": {
   "codemirror_mode": {
    "name": "ipython",
    "version": 3
   },
   "file_extension": ".py",
   "mimetype": "text/x-python",
   "name": "python",
   "nbconvert_exporter": "python",
   "pygments_lexer": "ipython3",
   "version": "3.6.4"
  }
 },
 "nbformat": 4,
 "nbformat_minor": 4
}
