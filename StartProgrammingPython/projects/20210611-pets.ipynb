{
 "cells": [
  {
   "cell_type": "markdown",
   "metadata": {},
   "source": [
    "# Interactive Fiction Adventure"
   ]
  },
  {
   "cell_type": "markdown",
   "metadata": {},
   "source": [
    "Final projects from Start Programming With Python class ending June 11, 2021. Write a function requesting user input to navigate through an animal adventure.\n",
    "\n",
    "\"You’re pet-sitting for a friend. One morning while making breakfast, their animal stares, making you feel...weird. They wander over, watch your eyes, then for the first time, begin to speak: 'Can you help me?'”"
   ]
  },
  {
   "cell_type": "markdown",
   "metadata": {},
   "source": [
    "### Skunk"
   ]
  },
  {
   "cell_type": "markdown",
   "metadata": {},
   "source": [
    "Mark, Kathryn, Shalon"
   ]
  },
  {
   "cell_type": "code",
   "execution_count": null,
   "metadata": {},
   "outputs": [],
   "source": [
    "def skunk():\n",
    "    print(\"You're pet-sitting a skunk for your friend who's out of town. A French skunk slowly approaches.\", flush = True)\n",
    "    option_1 = [\"pet\", \"run away\"]\n",
    "    action = input(\"The skunk gets closer. What do you do? \" + str(option_1)).lower()\n",
    "    while action not in option_1:\n",
    "        print(\"You entered an invalid option, try again\")\n",
    "        action = input()\n",
    "    if action == \"pet\":\n",
    "        print(\"The skunk sprays you in the face; now you smell like Lewiston!\")\n",
    "    else:\n",
    "        print(\"The skunk chases you, grinning maliciously. Attendre! Wait!\")\n",
    "        option_2 = [\"stop\", \"ignore\"]\n",
    "        action = input(\"The skunk keeps chasing. What do you do? \" + str(option_2)).lower()\n",
    "        while action not in option_2:\n",
    "            print(\"You entered an invalid option, try again\")\n",
    "            action = input()\n",
    "        if action == \"stop\":\n",
    "            print(\"The skunk sprays you in the face; now you smell like Lewiston!\")\n",
    "        else:\n",
    "            print(\"Another skunk enters from the other side of the room. You're surrounded!\")\n",
    "            print(\"You turn into Neo from the Matrix! The world goes to slow-motion as you avoid the droplets of spray from both sides.\")\n",
    "            print(\"As you're dodging the spray, a cat shows up. The skunks are distracted.\")\n",
    "            option_3 = [\"help\", \"watch\"]\n",
    "            action = input(\"What do you do? \" + str(option_3)).lower()\n",
    "            while action not in option_3:\n",
    "                print(\"You entered an invalid option, try again\")\n",
    "                action = input()\n",
    "            if action == \"help\":\n",
    "                print(\"The skunks spray both you and the cat; now you both smell like Lewiston!\")\n",
    "            else:\n",
    "                print(\"You watch as the skunks begin to flirt with the cat.\")\n",
    "                print(\"Bugs Bunny enters the room: What's up Doc?\")\n",
    "                print(\"Elmer Fudd enters after him, chasing Bugs Bunny.\")\n",
    "                print(\"Porky Pig follows after: That's all folks!\")"
   ]
  },
  {
   "cell_type": "code",
   "execution_count": null,
   "metadata": {},
   "outputs": [],
   "source": [
    "skunk()"
   ]
  },
  {
   "cell_type": "markdown",
   "metadata": {},
   "source": [
    "### Goat"
   ]
  },
  {
   "cell_type": "markdown",
   "metadata": {},
   "source": [
    "Juan, Navdeep"
   ]
  },
  {
   "cell_type": "code",
   "execution_count": null,
   "metadata": {},
   "outputs": [],
   "source": [
    "def billy_the_goat():\n",
    "    print(\"You're pet-sitting for a friend. One morning while making breakfast, their animal stares, making you feel... weird.\")\n",
    "    print(\"They wander over, watch your eyes, then for the first time\")\n",
    "    print(\"Billy look at you and says:\")\n",
    "    print(\"Billy: Can you help me?\")\n",
    "    print(\"You: Whaaat just have happened?\")\n",
    "    print(\"Then you ask: When, how did you learned to talk?\")\n",
    "    print(\"Billy: I just learned!\")\n",
    "    print(\"And billy ask again: Can you help me?\")\n",
    "    print(\"You: What can I help you with\")\n",
    "    print(\"Billy: I am hungry, I want to eat!!\", flush=True)\n",
    "    food = [\"fruit\", \"vegetables\"]\n",
    "    decision1 = input(\"You: I have, \" + str(food))\n",
    "    while decision1 not in food:\n",
    "        decision1 = input(\"I think I only have\" + str(food))\n",
    "    if decision1 == \"vegetables\":\n",
    "        veggies = [\"celery\", \"carrots\"]\n",
    "        decision2 = input(\"What kind of veggies? I have,\" + str(veggies))\n",
    "    else:\n",
    "        print(\"You: Ooops, sorry I only have veggies!\")\n",
    "        veggies = [\"celery\", \"carrots\"]\n",
    "        decision2 = input(\"What kind of veggies? I have\" + str(veggies))\n",
    "    if decision2 == \"celery\":\n",
    "        answer = [\"yes\", \"no\"]\n",
    "        decision3 = input(\"So, you like green veggies\"+ str(answer))\n",
    "    elif decision2 == \"carrots\":\n",
    "        answer = [\"yes\", \"no\"]\n",
    "        decision3 = input(\"So, you like orange veggies\"+ str(answer))\n",
    "    print(\"You: It's getting late it is time to go to sleep.\")\n",
    "    print(\"Billy: But I wanted to go outside...\")\n",
    "    print(\"Then you fall down the bed and say:\")\n",
    "    print(\"Oh, it was just a dream...\")\n",
    "    print(\"And you hear: Was it?\")\n",
    "    print(\"The end.\")"
   ]
  },
  {
   "cell_type": "code",
   "execution_count": null,
   "metadata": {},
   "outputs": [],
   "source": [
    "billy_the_goat()"
   ]
  },
  {
   "cell_type": "markdown",
   "metadata": {},
   "source": [
    "### Tarantula"
   ]
  },
  {
   "cell_type": "markdown",
   "metadata": {},
   "source": [
    "Tony, Trenton"
   ]
  },
  {
   "cell_type": "code",
   "execution_count": null,
   "metadata": {},
   "outputs": [],
   "source": [
    "def spider():\n",
    "    def invalid():\n",
    "        print(\"Entry not valid, please try again.\"+str(options))\n",
    "    options=[\"help\", \"run\"]\n",
    "    print (\"You are babysitting your friend's new baby tarantula, Harrietta\", flush=True)\n",
    "    question=input(\"While making breakfast one morning Harrietta speaks to you, asking for help. What do you do?\"+str(options)).lower()\n",
    "    while question not in options:\n",
    "        invalid()\n",
    "        question=input()\n",
    "    if question==\"help\":\n",
    "        help=input(\"Harrietta asks for help cleaning her tank for it is too messy.\"+str(options)).lower()\n",
    "        while help not in options:\n",
    "            invalid()\n",
    "            help=input()\n",
    "        if help==\"help\":\n",
    "            print(\"You decide to clean the tank. Harrietta's eyes begin to glint with glee and you can see a wave of relief over her face.\")\n",
    "        else:\n",
    "            print(\"As you run you see that Harrietta seems to become quickly lethargic and her color dulls. Unknowingly, you have significantly damaged Harrietta's health. \")\n",
    "    else:\n",
    "        print(\"You notice distress in Harrietta's demeanor as you run. Unknowingly, you have left Harrietta to a horrible doom.\")"
   ]
  },
  {
   "cell_type": "code",
   "execution_count": null,
   "metadata": {},
   "outputs": [],
   "source": [
    "spider()"
   ]
  }
 ],
 "metadata": {
  "kernelspec": {
   "display_name": "Python 3",
   "language": "python",
   "name": "python3"
  },
  "language_info": {
   "codemirror_mode": {
    "name": "ipython",
    "version": 3
   },
   "file_extension": ".py",
   "mimetype": "text/x-python",
   "name": "python",
   "nbconvert_exporter": "python",
   "pygments_lexer": "ipython3",
   "version": "3.6.4"
  }
 },
 "nbformat": 4,
 "nbformat_minor": 4
}
