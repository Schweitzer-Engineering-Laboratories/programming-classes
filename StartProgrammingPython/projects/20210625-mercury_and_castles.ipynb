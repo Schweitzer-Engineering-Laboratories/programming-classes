{
 "cells": [
  {
   "cell_type": "markdown",
   "metadata": {},
   "source": [
    "# Interactive Fiction Adventure"
   ]
  },
  {
   "cell_type": "markdown",
   "metadata": {},
   "source": [
    "Final projects from Start Programming With Python class ending June 25, 2021. Write a function requesting user input to navigate through an adventure."
   ]
  },
  {
   "cell_type": "markdown",
   "metadata": {},
   "source": [
    "### Mercury"
   ]
  },
  {
   "cell_type": "markdown",
   "metadata": {},
   "source": [
    "Anthony, German, Sainath"
   ]
  },
  {
   "cell_type": "code",
   "execution_count": null,
   "metadata": {},
   "outputs": [],
   "source": [
    "import random\n",
    "P = ['Brett', 'Anthony', 'Sai', 'German', 'Lee']\n",
    "def Mercury():\n",
    "    print(\"You recieve a radio message from the planet surface of Mercury\")\n",
    "    options = [\"whats your emergency\", \"ignore message\"]\n",
    "    action = input(\"how do you respond?.\" + str(options))\n",
    "    while action not in options:\n",
    "        print(\"the crew asks if you have ever used a Radio before, try again\")\n",
    "        action = input()\n",
    "    if action==\"ignore message\":\n",
    "        print(\"As you continue your journey around the planet you are shot down and the ship speeds towards the planets surface.\")\n",
    "    else:\n",
    "        print(\"Before you can respond to the message you are shot down and the ship speeds towards the planets surface.\")\n",
    "    print(\"Embrace for the impact............\")\n",
    "    print(\"You landed safely but you lost: \",random.choice(P))\n",
    "    print(\"Do you want to leave the ship:?\")\n",
    "    options = [\"Yes\", \"No\"]\n",
    "    action = input(\"how do you respond?.\" + str(options))"
   ]
  },
  {
   "cell_type": "code",
   "execution_count": null,
   "metadata": {},
   "outputs": [],
   "source": [
    "Mercury()"
   ]
  },
  {
   "cell_type": "markdown",
   "metadata": {},
   "source": [
    "### Castles"
   ]
  },
  {
   "cell_type": "markdown",
   "metadata": {},
   "source": [
    "Brenno, Chris, Luis"
   ]
  },
  {
   "cell_type": "code",
   "execution_count": null,
   "metadata": {},
   "outputs": [],
   "source": [
    "def IceCastle():\n",
    "    print(\"You entered the Ice Castle.\")\n",
    "    options = [\"flee\", \"stay\"]\n",
    "    action = input(\"Your horse begins to sink. What do you do? \"\n",
    "                   + str(options))\n",
    "    while action not in options:\n",
    "        print(\"You entered an invalid option, try again\")\n",
    "        action = input()\n",
    "    if action==\"flee\":\n",
    "        print(\"You're horrible.\")\n",
    "        return True\n",
    "    else:\n",
    "        print(\"You die.\")\n",
    "        return False\n",
    "\n",
    "def WindCastle():\n",
    "    print(\"You entered the windcastle.\")\n",
    "    options = [\"jump over and smile\",\"stop and think\"]\n",
    "    action = input(\"Your horse begins to fall. What do you do? \"\n",
    "                   + str(options))\n",
    "    while action not in options:\n",
    "        print(\"You entered an invalid option, try again\")\n",
    "        action = input()\n",
    "    if action== \"jump over and smile\":\n",
    "        print(\"you are free.\")\n",
    "    if action== \"stop and think\":\n",
    "        print(\"great!\")\n",
    "        return True\n",
    "    else:\n",
    "        print(\"You .\")\n",
    "        return False\n",
    "\n",
    "def FloatingCastle():\n",
    "    print(\"You arrive at the floating castle. \")\n",
    "    options = [\"Knock\", \"Enter\"]\n",
    "    action = input(\"You approach the front door. What do you do? \"\n",
    "                   + str(options))\n",
    "    while action not in options:\n",
    "        print(\"You entered an invalid option, try again\")\n",
    "        action = input()\n",
    "        if action==\"Knock\":\n",
    "            print(\"You door slowly opens...\")\n",
    "        else:\n",
    "            print(\"A trap door underneath you opens and you fall.\")\n",
    "            return False\n",
    "        options = [\"Yes\", \"No\"]\n",
    "        action = input(\"As you enter the castle you hear a faint clicking sound. Do you investigate? \" + str(options))\n",
    "        while action not in options:\n",
    "            print(\"You entered an invalid option, try again\")\n",
    "            action = input()\n",
    "        if action==\"Yes\":\n",
    "            print(\"It was a monster. It attacks you.\")\n",
    "            return False\n",
    "        else:\n",
    "            options= [\"Approach\",\"Run\"]\n",
    "            action = input(\"You go up the stairs and you see a dragon. What do you do? \" + str(options))\n",
    "            while action not in options:\n",
    "                print(\"You entered an invalid option, try again\")\n",
    "                action = input()\n",
    "            if action == \"Run\":\n",
    "                print(\"The dragon chases you down.\")\n",
    "                return False\n",
    "            else:\n",
    "                print(\"You have a nice converstion with the dragon.\")\n",
    "                return True"
   ]
  },
  {
   "cell_type": "code",
   "execution_count": null,
   "metadata": {},
   "outputs": [],
   "source": [
    "survived = True #Defining if the player is alive or dead\n",
    "adventure_options = [\"IceCastle\", \"FloatingCastle\" , \"WindCastle\" ] #These are the adventures\n",
    "while len(adventure_options) >0 and survived == True: #The loop will stop when the user finish all the dungeons\n",
    "    adventure = input(\"Please choose your adventure:\" + str(adventure_options))\n",
    "    while adventure not in adventure_options:\n",
    "        print(\"You entered an invalid option, try again\")\n",
    "        adventure = input()\n",
    "        \n",
    "    if adventure == \"IceCastle\":\n",
    "        survived = IceCastle() \n",
    "        \n",
    "        \n",
    "    elif adventure == \"FloatingCastle\":\n",
    "        survived = FloatingCastle()\n",
    "        \n",
    "    elif adventure == \"WindCastle\":\n",
    "        survived = WindCastle()\n",
    "    \n",
    "           \n",
    "    adventure_options.remove(adventure)"
   ]
  }
 ],
 "metadata": {
  "kernelspec": {
   "display_name": "Python 3",
   "language": "python",
   "name": "python3"
  },
  "language_info": {
   "codemirror_mode": {
    "name": "ipython",
    "version": 3
   },
   "file_extension": ".py",
   "mimetype": "text/x-python",
   "name": "python",
   "nbconvert_exporter": "python",
   "pygments_lexer": "ipython3",
   "version": "3.6.4"
  }
 },
 "nbformat": 4,
 "nbformat_minor": 4
}
