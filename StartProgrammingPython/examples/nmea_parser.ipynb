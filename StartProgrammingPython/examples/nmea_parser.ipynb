{
 "cells": [
  {
   "cell_type": "markdown",
   "metadata": {},
   "source": [
    "# Parse and Analyze GPS Data"
   ]
  },
  {
   "cell_type": "markdown",
   "metadata": {},
   "source": [
    "Brett Deaton - Summer 2021"
   ]
  },
  {
   "cell_type": "markdown",
   "metadata": {},
   "source": [
    "This notebook translates and analyzes the raw data stream from a GPS receiver. The raw data stream is read in from the file `nmea-data_stream.csv`, represented in the [NMEA-0183 format](https://navspark.mybigcommerce.com/content/NMEA_Format_v0.1.pdf). We'll use only the Global Positioning System Fix Data line denoted `GNGGA`. For projection, we'll treat the earth as a sphere with the [WGS84](https://en.wikipedia.org/wiki/World_Geodetic_System) radius, 637813 m.\n",
    "\n",
    "The GPS receiver is the [u-blox SAM-M8Q](https://www.u-blox.com/en/product/sam-m8q-module). You can buy one already attached to a PCB by [sparkfun](https://www.digikey.com/en/products/detail/sparkfun-electronics/GPS-15210/10064422), already optimized with a copper-plane serving as an antenna."
   ]
  },
  {
   "cell_type": "markdown",
   "metadata": {},
   "source": [
    "### Set up"
   ]
  },
  {
   "cell_type": "code",
   "execution_count": null,
   "metadata": {},
   "outputs": [],
   "source": [
    "import csv # to quickly read in comma-separated values\n",
    "import matplotlib.pyplot as plt # to visually inspect the data\n",
    "import statistics as st # for data summary\n",
    "from math import cos, pi # for projection"
   ]
  },
  {
   "cell_type": "code",
   "execution_count": null,
   "metadata": {},
   "outputs": [],
   "source": [
    "# read fix data from csv and convert to 2D list of strings\n",
    "filename = \"nmea-data_stream.csv\"\n",
    "points = []\n",
    "num_bad_points = 0\n",
    "with open(filename) as f:\n",
    "    reader = csv.reader(f)\n",
    "    for row in reader:\n",
    "        if \"GGA\" in row[0]: # we're only interested in $GNGGA rows\n",
    "            if row[6]!=\"0\": # only keep points with fixes\n",
    "                points.append(row[1:]) # drop leading \"$GNGGA\"\n",
    "            else:\n",
    "                num_bad_points += 1"
   ]
  },
  {
   "cell_type": "code",
   "execution_count": null,
   "metadata": {},
   "outputs": [],
   "source": [
    "# look at the first and last points, for a sanity check\n",
    "for point in (points[0], points[-1]):\n",
    "    for x in point:\n",
    "        print(x if x else \"BLANK\", end=\" \")\n",
    "    print()"
   ]
  },
  {
   "cell_type": "markdown",
   "metadata": {},
   "source": [
    "### Extract and Convert Data"
   ]
  },
  {
   "cell_type": "markdown",
   "metadata": {},
   "source": [
    "The NMEA-0183 format:\n",
    "\n",
    "| index | meaning             | string format\n",
    "|-------|---------------------|---------------\n",
    "| 0     | UTC time            | hhmmss.s\n",
    "| 1     | latitude            | ddmm.m\n",
    "| 2     | N/S indicator       | [\"N\",\"S\"]\n",
    "| 3     | longitude           | dddmm.m\n",
    "| 4     | E/W indicator       | [\"E\",\"W\"]\n",
    "| 5     | GPS quality         | [0,1,2]\n",
    "| 6     | number of sats      | n\n",
    "| 7     | horizontal DOP      | x.x\n",
    "| 8     | altitude (m)        | x.x\n",
    "| 9     | \"M\"\n",
    "| 10    | geoid-ellipsoid (m) | x.x\n",
    "| 11    | \"M\"\n",
    "| 12    | DGPS station ID     | n\n",
    "| 13    | checksum            | *0x"
   ]
  },
  {
   "cell_type": "code",
   "execution_count": null,
   "metadata": {},
   "outputs": [],
   "source": [
    "# timestamps, in hrs since midnight\n",
    "times = []\n",
    "for x in points:\n",
    "    times.append(float(x[0][:2]) +     # hr\n",
    "                 float(x[0][2:4])/60 + # min\n",
    "                 float(x[0][4:])/3600) # sec\n",
    "\n",
    "# latitudes, in degrees north\n",
    "lats = []\n",
    "for x in points:\n",
    "    sign = 1 if x[2]==\"N\" else -1\n",
    "    lats.append(sign*int(x[1][:2]) + # deg\n",
    "                sign*float(x[1][2:])/60)  # min\n",
    "\n",
    "# longitudes, in degrees east\n",
    "longs = []\n",
    "for x in points:\n",
    "    sign = 1 if x[4]==\"E\" else -1\n",
    "    longs.append(sign*int(x[3][:3]) + # deg\n",
    "                 sign*float(x[3][3:])/60)  # min\n",
    "\n",
    "# altitudes, in meters above mean sea level\n",
    "alts = []\n",
    "for x in points:\n",
    "    alts.append(float(x[8])) # altitude"
   ]
  },
  {
   "cell_type": "code",
   "execution_count": null,
   "metadata": {},
   "outputs": [],
   "source": [
    "# GPS quality {0,1,2}\n",
    "quals = []\n",
    "for x in points:\n",
    "    quals.append(int(x[5]))\n",
    "\n",
    "# numbers of satellites used for position fix\n",
    "fix_num = []\n",
    "for x in points:\n",
    "    fix_num.append(int(x[6]))\n",
    "\n",
    "# horizontal dilutions of precision [0-100]\n",
    "hdops = []\n",
    "for x in points:\n",
    "    hdops.append(float(x[7]))"
   ]
  },
  {
   "cell_type": "markdown",
   "metadata": {},
   "source": [
    "### Summarize the Track"
   ]
  },
  {
   "cell_type": "code",
   "execution_count": null,
   "metadata": {},
   "outputs": [],
   "source": [
    "MEAN_LAT = st.mean(lats)\n",
    "MEAN_LONG = st.mean(longs)\n",
    "print(\"Summary of track, with +- indicating stdev:\")\n",
    "if num_bad_points > 0:\n",
    "    print(f\"  Note, we dropped {num_bad_points} points without fixes\")\n",
    "print(f\"  lats         {MEAN_LAT:.4f} +- {st.pstdev(lats):.5f} deg\")\n",
    "print(f\"  longs        {MEAN_LONG:.4f} +- {st.pstdev(longs):.5f} deg\")\n",
    "print(f\"  alts         min={min(alts):.0f} m, max={max(alts):.0f} m\")\n",
    "print(f\"  time range   [ {times[0]:.4f} - {times[-1]:.4f} ] hrs since midnight UTC\")\n",
    "print(f\"  qualities    min={min(quals)}, max={max(quals)}\")\n",
    "print(f\"  num sats     min={min(fix_num)}, max={max(fix_num)}\")\n",
    "print(f\"  HDOP         min={min(hdops)}, max={max(hdops)}\")"
   ]
  },
  {
   "cell_type": "markdown",
   "metadata": {},
   "source": [
    "### Visualize the Track"
   ]
  },
  {
   "cell_type": "code",
   "execution_count": null,
   "metadata": {},
   "outputs": [],
   "source": [
    "# altitude vs time\n",
    "plt.plot(times, alts, \".r\")\n",
    "plt.xlabel(\"time (hrs)\")\n",
    "plt.ylabel(\"altitude (m)\")\n",
    "plt.title(\"Altitude vs Time\")\n",
    "plt.savefig(filename.strip(\".csv\")+\"-altitude.pdf\")\n",
    "plt.show()"
   ]
  },
  {
   "cell_type": "code",
   "execution_count": null,
   "metadata": {},
   "outputs": [],
   "source": [
    "# jitter in residual latitudes and longitudes\n",
    "plt.plot(times, [d-MEAN_LAT for d in lats],\n",
    "         times, [d-MEAN_LONG for d in longs])\n",
    "plt.legend([f\"latitude - {MEAN_LAT:.3f}\",\n",
    "            f\"longitude - {MEAN_LONG:.3f}\"])\n",
    "plt.xlabel(\"time (hrs)\")\n",
    "plt.ylabel(\"residual (deg)\")\n",
    "plt.title(\"Lat & Long vs Time\")\n",
    "plt.savefig(filename.strip(\".csv\")+\"-lat_long.pdf\")\n",
    "plt.show()"
   ]
  },
  {
   "cell_type": "code",
   "execution_count": null,
   "metadata": {},
   "outputs": [],
   "source": [
    "# show track in azimuthal projection centered on the mean position\n",
    "RADIUS = 637813 # WGS84 radius (m)\n",
    "pos_ns = [RADIUS*(th-MEAN_LAT)*pi/180 for th in lats]\n",
    "pos_ew = [RADIUS*cos(MEAN_LAT)*(ph-MEAN_LONG)*pi/180 for ph in longs]\n",
    "plt.plot(pos_ew, pos_ns)\n",
    "plt.xlabel(\"E/W position (m)\")\n",
    "plt.ylabel(\"N/S position (m)\")\n",
    "plt.title(\"Projected Track Centered on Mean Position\")\n",
    "plt.savefig(filename.strip(\".csv\")+\"-position.pdf\")\n",
    "plt.show()"
   ]
  },
  {
   "cell_type": "markdown",
   "metadata": {},
   "source": [
    "### To Do"
   ]
  },
  {
   "cell_type": "markdown",
   "metadata": {},
   "source": [
    "Tasks left to complete:\n",
    "* project to (x,y) position in meters\n",
    "* look for patterns in GPS quality indicator, i.e why some fixes were unavailable\n",
    "* find correlation between number of satellites used for fixes and jitter in position\n",
    "* compute checksums of each row and compare to recorded checksum"
   ]
  }
 ],
 "metadata": {
  "kernelspec": {
   "display_name": "Python 3 (ipykernel)",
   "language": "python",
   "name": "python3"
  },
  "language_info": {
   "codemirror_mode": {
    "name": "ipython",
    "version": 3
   },
   "file_extension": ".py",
   "mimetype": "text/x-python",
   "name": "python",
   "nbconvert_exporter": "python",
   "pygments_lexer": "ipython3",
   "version": "3.10.2"
  }
 },
 "nbformat": 4,
 "nbformat_minor": 4
}
