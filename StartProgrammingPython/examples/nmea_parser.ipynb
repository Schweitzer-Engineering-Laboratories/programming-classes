{
 "cells": [
  {
   "cell_type": "markdown",
   "metadata": {},
   "source": [
    "# Parse and Analyze GPS Data"
   ]
  },
  {
   "cell_type": "markdown",
   "metadata": {},
   "source": [
    "Brett Deaton - Summer 2021"
   ]
  },
  {
   "cell_type": "markdown",
   "metadata": {},
   "source": [
    "This notebook translates the raw data stream from a GPS receiver into meaningful data. The raw data stream is read in from the file `nmea-data_stream.csv`, represented in the NMEA-0183 format.\n",
    "\n",
    "Here's a reference on the NMEA-0183 standard from [navspark](https://navspark.mybigcommerce.com/content/NMEA_Format_v0.1.pdf). We'll use only the Global Positioning System Fix Data line denoted `GNGGA`.\n",
    "\n",
    "The GPS receiver is the [u-blox SAM-M8Q](https://www.u-blox.com/en/product/sam-m8q-module). You can buy one already attached to a PCB by [sparkfun](https://www.digikey.com/en/products/detail/sparkfun-electronics/GPS-15210/10064422), already optimized with a copper-plan serving as an antenna."
   ]
  },
  {
   "cell_type": "markdown",
   "metadata": {},
   "source": [
    "### Set up"
   ]
  },
  {
   "cell_type": "code",
   "execution_count": null,
   "metadata": {},
   "outputs": [],
   "source": [
    "import csv # to quickly read in comma-separated values\n",
    "import matplotlib.pyplot as plt # to visually inspect the data"
   ]
  },
  {
   "cell_type": "code",
   "execution_count": null,
   "metadata": {},
   "outputs": [],
   "source": [
    "# read fix data from csv and convert to 2D list of strings\n",
    "points = []\n",
    "with open('nmea-data_stream.csv') as f:\n",
    "    reader = csv.reader(f)\n",
    "    for row in reader:\n",
    "        if \"GGA\" in row[0] and row[6]!=\"0\": # only use $GNGGA rows with fixes\n",
    "            points.append(row[1:])"
   ]
  },
  {
   "cell_type": "code",
   "execution_count": null,
   "metadata": {},
   "outputs": [],
   "source": [
    "# look at the first point, for a sanity check\n",
    "for x in points[0]:\n",
    "    print(x, end=\" \")"
   ]
  },
  {
   "cell_type": "markdown",
   "metadata": {},
   "source": [
    "### Extract and Convert Data"
   ]
  },
  {
   "cell_type": "markdown",
   "metadata": {},
   "source": [
    "Some fields we might be interested in, summarizing the NMEA-0183 format:\n",
    "\n",
    "| index | meaning             | string format\n",
    "|-------|---------------------|---------------\n",
    "| 0     | UTC time            | hhmmss.s\n",
    "| 1     | latitude            | ddmm.m\n",
    "| 3     | longitude           | dddmm.m\n",
    "| 6     | number of sats      | n\n",
    "| 8     | altitude (m)        | x.x\n",
    "| 10    | geoid-ellipsoid (m) | x.x"
   ]
  },
  {
   "cell_type": "code",
   "execution_count": null,
   "metadata": {},
   "outputs": [],
   "source": [
    "# make a list of timestamps, in hrs since midnight\n",
    "times = []\n",
    "for x in points:\n",
    "    times.append(float(x[0][:2]) +     # hr\n",
    "                 float(x[0][2:4])/60 + # min\n",
    "                 float(x[0][4:])/3600) # sec"
   ]
  },
  {
   "cell_type": "code",
   "execution_count": null,
   "metadata": {},
   "outputs": [],
   "source": [
    "# make a list of altitudes, in meters above mean sea level\n",
    "alts = []\n",
    "for x in points:\n",
    "    alts.append(float(x[8])) # altitude"
   ]
  },
  {
   "cell_type": "code",
   "execution_count": null,
   "metadata": {},
   "outputs": [],
   "source": [
    "# make a list of latitudes, in degrees north\n",
    "lats = []\n",
    "for x in points:\n",
    "    sign = 1 if x[2]==\"N\" else -1\n",
    "    lats.append(sign*int(x[1][:2]) + # deg\n",
    "                sign*float(x[1][2:])/60)  # min"
   ]
  },
  {
   "cell_type": "code",
   "execution_count": null,
   "metadata": {},
   "outputs": [],
   "source": [
    "# make a list of longitudes, in degrees east\n",
    "longs = []\n",
    "for x in points:\n",
    "    sign = 1 if x[4]==\"E\" else -1\n",
    "    longs.append(sign*int(x[3][:3]) + # deg\n",
    "                 sign*float(x[3][3:])/60)  # min"
   ]
  },
  {
   "cell_type": "code",
   "execution_count": null,
   "metadata": {},
   "outputs": [],
   "source": [
    "# make a list of number of satellites used for fix\n",
    "fix_num = []\n",
    "for x in points:\n",
    "    fix_num.append(int(x[6]))"
   ]
  },
  {
   "cell_type": "markdown",
   "metadata": {},
   "source": [
    "### Visualize Data"
   ]
  },
  {
   "cell_type": "code",
   "execution_count": null,
   "metadata": {},
   "outputs": [],
   "source": [
    "# look for gaps in recorded times\n",
    "plt.plot(times)\n",
    "plt.xlabel(\"index\")\n",
    "plt.ylabel(\"time (hrs)\")\n",
    "plt.show()"
   ]
  },
  {
   "cell_type": "code",
   "execution_count": null,
   "metadata": {},
   "outputs": [],
   "source": [
    "# observe jitter in altitudes\n",
    "plt.plot(times, alts)\n",
    "plt.xlabel(\"time (hrs)\")\n",
    "plt.ylabel(\"altitude (m)\")\n",
    "plt.show()"
   ]
  },
  {
   "cell_type": "code",
   "execution_count": null,
   "metadata": {},
   "outputs": [],
   "source": [
    "# observe jitter in residual latitudes and longitudes\n",
    "residue_lat = 46.392\n",
    "residue_long = -116.973\n",
    "lat_to_res = lambda x: x-residue_lat\n",
    "long_to_res = lambda x: x-residue_long\n",
    "\n",
    "plt.plot(times, list(map(lat_to_res, lats)),\n",
    "         times, list(map(long_to_res, longs)))\n",
    "plt.legend([\"latitude - \"+str(residue_lat),\n",
    "            \"longitude - \"+str(residue_long)])\n",
    "plt.ylabel(\"residual (deg)\")\n",
    "plt.xlabel(\"time (hrs)\")\n",
    "plt.show()"
   ]
  },
  {
   "cell_type": "code",
   "execution_count": null,
   "metadata": {},
   "outputs": [],
   "source": [
    "# find number of satellites used for fixes\n",
    "plt.plot(times, fix_num, \"rd\")\n",
    "plt.xlabel(\"time (hrs)\")\n",
    "plt.ylabel(\"number of satellites used for fix\")\n",
    "plt.show()"
   ]
  },
  {
   "cell_type": "markdown",
   "metadata": {},
   "source": [
    "### Todo"
   ]
  },
  {
   "cell_type": "markdown",
   "metadata": {},
   "source": [
    "Tasks left to complete:\n",
    "* project to (x,y) position in meters\n",
    "* look for patterns in GPS quality indicator, i.e why some fixes were unavailable\n",
    "* find correlation between number of satellites used for fixes and jitter in position\n",
    "* compute checksums of each row and compare to recorded checksum"
   ]
  }
 ],
 "metadata": {
  "kernelspec": {
   "display_name": "Python 3",
   "language": "python",
   "name": "python3"
  },
  "language_info": {
   "codemirror_mode": {
    "name": "ipython",
    "version": 3
   },
   "file_extension": ".py",
   "mimetype": "text/x-python",
   "name": "python",
   "nbconvert_exporter": "python",
   "pygments_lexer": "ipython3",
   "version": "3.6.4"
  }
 },
 "nbformat": 4,
 "nbformat_minor": 4
}
