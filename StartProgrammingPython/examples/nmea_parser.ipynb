{
 "cells": [
  {
   "cell_type": "markdown",
   "metadata": {},
   "source": [
    "# Parse and Interpret NMEA data stream from GPS"
   ]
  },
  {
   "cell_type": "markdown",
   "metadata": {},
   "source": [
    "Brett Deaton - Summer 2021"
   ]
  },
  {
   "cell_type": "markdown",
   "metadata": {},
   "source": [
    "This notebook translates the raw data stream from a GPS receiver into meaningful data. The raw data stream is read in from the file `nmea-data_stream.csv`, represented in the NMEA-0183 format.\n",
    "\n",
    "Here's a reference on the NMEA-0183 standard from [navspark](https://navspark.mybigcommerce.com/content/NMEA_Format_v0.1.pdf). We'll use only the Global Positioning System Fix Data line denoted `GNGGA`.\n",
    "\n",
    "The GPS receiver is the [u-blox SAM-M8Q](https://www.u-blox.com/en/product/sam-m8q-module). You can buy one already attached to a PCB by [sparkfun](https://www.digikey.com/en/products/detail/sparkfun-electronics/GPS-15210/10064422), already optimized with a copper-plan serving as an antenna."
   ]
  },
  {
   "cell_type": "markdown",
   "metadata": {},
   "source": [
    "### Set up"
   ]
  },
  {
   "cell_type": "code",
   "execution_count": null,
   "metadata": {},
   "outputs": [],
   "source": [
    "import csv # to quickly read in comma-separated values"
   ]
  },
  {
   "cell_type": "code",
   "execution_count": null,
   "metadata": {},
   "outputs": [],
   "source": [
    "# read fix data from the csv and convert to 2D list of strings\n",
    "points = []\n",
    "with open('nmea-data_stream.csv', newline='') as f:\n",
    "    reader = csv.reader(f)\n",
    "    for row in reader:\n",
    "        if \"GGA\" in row[0] and row[6]!=\"0\": # only use $GNGGA rows with fixes\n",
    "            points.append(row[1:])"
   ]
  },
  {
   "cell_type": "code",
   "execution_count": null,
   "metadata": {},
   "outputs": [],
   "source": [
    "# look at the first point for a visual check\n",
    "for x in points[0]:\n",
    "    print(x, end=\" \")"
   ]
  },
  {
   "cell_type": "markdown",
   "metadata": {},
   "source": [
    "### Extract and Convert Data"
   ]
  },
  {
   "cell_type": "markdown",
   "metadata": {},
   "source": [
    "Some fields we might be interested in, summarizing the NMEA-0183 format:\n",
    "\n",
    "| index | meaning            | string format\n",
    "|-------|--------------------|---------------\n",
    "| 0     | UTC time           | hhmmss.ss\n",
    "| 1     | latitude           | ddmm.mmmmm\n",
    "| 3     | longitude          | dddmm.mmmmm\n",
    "| 8     | altitude (m)       | x.x"
   ]
  },
  {
   "cell_type": "code",
   "execution_count": null,
   "metadata": {},
   "outputs": [],
   "source": [
    "# make a list of timestamps\n",
    "times = []\n",
    "for x in points:\n",
    "    times.append([int(x[0][:2]),    # hr\n",
    "                  int(x[0][2:4]),   # min\n",
    "                  float(x[0][4:])]) # sec"
   ]
  },
  {
   "cell_type": "code",
   "execution_count": null,
   "metadata": {},
   "outputs": [],
   "source": [
    "# make a list of latitudes\n",
    "lats = []\n",
    "for x in points:\n",
    "    sign = 1 if x[2]==\"N\" else -1\n",
    "    lats.append([sign*int(x[1][:2]), # deg\n",
    "                 float(x[1][2:])])   # min"
   ]
  },
  {
   "cell_type": "code",
   "execution_count": null,
   "metadata": {},
   "outputs": [],
   "source": [
    "# make a list of longitudes\n",
    "longs = []\n",
    "for x in points:\n",
    "    sign = 1 if x[2]==\"E\" else -1\n",
    "    longs.append([sign*int(x[3][:3]), # deg\n",
    "                  float(x[3][3:])])   # min"
   ]
  },
  {
   "cell_type": "code",
   "execution_count": null,
   "metadata": {},
   "outputs": [],
   "source": [
    "# make a list of altitudes\n",
    "alts = []\n",
    "for x in points:\n",
    "    alts.append(float(x[8])) # altitude"
   ]
  },
  {
   "cell_type": "markdown",
   "metadata": {},
   "source": [
    "### Todo"
   ]
  },
  {
   "cell_type": "markdown",
   "metadata": {},
   "source": [
    "Tasks left to complete:\n",
    "* use pandas or numpy to organize and display dataset\n",
    "* analyze position accuracy over the recorded data\n",
    "* look for patterns in GPS quality indicator, i.e why some fixes unavailable\n",
    "* examine number of satellites used for fix\n",
    "* compute checksums of each row and compare to recorded checksum"
   ]
  }
 ],
 "metadata": {
  "kernelspec": {
   "display_name": "Python 3",
   "language": "python",
   "name": "python3"
  },
  "language_info": {
   "codemirror_mode": {
    "name": "ipython",
    "version": 3
   },
   "file_extension": ".py",
   "mimetype": "text/x-python",
   "name": "python",
   "nbconvert_exporter": "python",
   "pygments_lexer": "ipython3",
   "version": "3.6.4"
  }
 },
 "nbformat": 4,
 "nbformat_minor": 4
}
