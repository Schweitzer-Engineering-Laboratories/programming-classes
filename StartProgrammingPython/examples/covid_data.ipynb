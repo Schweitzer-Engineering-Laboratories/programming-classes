{
 "cells": [
  {
   "cell_type": "markdown",
   "metadata": {},
   "source": [
    "# COVID-19 Data Analysis Tool"
   ]
  },
  {
   "cell_type": "markdown",
   "metadata": {},
   "source": [
    "Brett Deaton - Fall 2020"
   ]
  },
  {
   "cell_type": "markdown",
   "metadata": {},
   "source": [
    "This notebook gathers up-to-date data on COVID-19 infections from the Centers For Disease Control and Prevention, for further analysis.\n",
    "\n",
    "Data from https://github.com/datasets/covid-19 dataset, a sanitized version of the the COVID-19 Data Repository by the Center for Systems Science and Engineering (CSSE) at Johns Hopkins University (JHU) https://github.com/CSSEGISandData/COVID-19 dataset. The data is compiled from state health departments and used widely, notably for the [JHU COVID-19 Dashboard](https://coronavirus.jhu.edu/map.html)."
   ]
  },
  {
   "cell_type": "markdown",
   "metadata": {},
   "source": [
    "## Setup"
   ]
  },
  {
   "cell_type": "markdown",
   "metadata": {},
   "source": [
    "We want to read in and organize the data from its source. We use the pandas\n",
    "package to fetch and interpret a comma-separated-values file (csv) at the\n",
    "listed url. Think of pandas as Excel for python.\n",
    "\n",
    "The pandas function `read_csv()` returns a `DataFrame` object, with many\n",
    "useful methods you can read about in the official\n",
    "[documentation](https://pandas.pydata.org/pandas-docs/stable/reference/api/pandas.DataFrame.html)."
   ]
  },
  {
   "cell_type": "code",
   "execution_count": null,
   "metadata": {},
   "outputs": [],
   "source": [
    "import pandas\n",
    "url = \"https://raw.githubusercontent.com/datasets/covid-19/master/data/countries-aggregated.csv\"\n",
    "df = pandas.read_csv(url, parse_dates=['Date']) # convert date string to a timestamp object"
   ]
  },
  {
   "cell_type": "markdown",
   "metadata": {},
   "source": [
    "We also want to plot the data. We use the matplotlib.pyplot package with loads\n",
    "of plotting functionality you can read about in the official\n",
    "[documentation](https://matplotlib.org/api/pyplot_api.html) or explore in a\n",
    "[tutorial](https://matplotlib.org/tutorials/introductory/pyplot.html).\n",
    "\n",
    "Below we will use pyplot indirectly through the `plot()` method of the\n",
    "pandas DataFrame object."
   ]
  },
  {
   "cell_type": "code",
   "execution_count": null,
   "metadata": {},
   "outputs": [],
   "source": [
    "import matplotlib.pyplot as plt"
   ]
  },
  {
   "cell_type": "markdown",
   "metadata": {},
   "source": [
    "## Inspect Data"
   ]
  },
  {
   "cell_type": "markdown",
   "metadata": {},
   "source": [
    "This is a really large dataset!"
   ]
  },
  {
   "cell_type": "code",
   "execution_count": null,
   "metadata": {},
   "outputs": [],
   "source": [
    "# output the first few rows\n",
    "df.head(3)"
   ]
  },
  {
   "cell_type": "code",
   "execution_count": null,
   "metadata": {},
   "outputs": [],
   "source": [
    "# output the last few rows\n",
    "df.tail(3)"
   ]
  },
  {
   "cell_type": "markdown",
   "metadata": {},
   "source": [
    "Let's look at specific ranges of cells, and a description of the size of the DataFrame."
   ]
  },
  {
   "cell_type": "code",
   "execution_count": null,
   "metadata": {},
   "outputs": [],
   "source": [
    "# interact with specific table elements in the DataFrame\n",
    "print(\"## First Row\", df.loc[0], sep=\"\\n\")\n",
    "print()\n",
    "\n",
    "print(\"## First Cell\", df.at[0, \"Date\"], sep=\"\\n\")\n",
    "print()\n",
    "\n",
    "print(\"## Shape of the Table\", df.shape, sep=\"\\n\")"
   ]
  },
  {
   "cell_type": "markdown",
   "metadata": {},
   "source": [
    "Let's make some lists out of the DataFrame."
   ]
  },
  {
   "cell_type": "code",
   "execution_count": null,
   "metadata": {},
   "outputs": [],
   "source": [
    "# create a list of the headers\n",
    "headers = list( df.columns.values )\n",
    "print(headers)"
   ]
  },
  {
   "cell_type": "code",
   "execution_count": null,
   "metadata": {},
   "outputs": [],
   "source": [
    "# create a list of the countries\n",
    "countries = list( df[\"Country\"].drop_duplicates() )\n",
    "print(len(countries), \"countries:\")\n",
    "print(countries)"
   ]
  },
  {
   "cell_type": "code",
   "execution_count": null,
   "metadata": {},
   "outputs": [],
   "source": [
    "# create a list of the dates\n",
    "days = list( df[\"Date\"].drop_duplicates() )\n",
    "print(\"## Last Three of\", len(days), \"Days\")\n",
    "for day in days[-3:]:\n",
    "    print (day.date(), sep=\"\\n\")"
   ]
  },
  {
   "cell_type": "markdown",
   "metadata": {},
   "source": [
    "## Analyze Data"
   ]
  },
  {
   "cell_type": "markdown",
   "metadata": {},
   "source": [
    "We want to examine specific subsets of the data to answer various questions:\n",
    "\n",
    "* What are the cumulative effects?\n",
    "* How are new case counts changing?\n",
    "* Are there any underlying patterns in new case counts?"
   ]
  },
  {
   "cell_type": "markdown",
   "metadata": {},
   "source": [
    "Let's make some visualizations to answer these questions! We'll use the `plot()` method of the DataFrame\n",
    "object. Fore more information on this method see the\n",
    "[documentation](https://pandas.pydata.org/pandas-docs/stable/reference/api/pandas.DataFrame.plot.html)."
   ]
  },
  {
   "cell_type": "code",
   "execution_count": null,
   "metadata": {},
   "outputs": [],
   "source": [
    "# select a country to analyze\n",
    "country = \"US\""
   ]
  },
  {
   "cell_type": "markdown",
   "metadata": {},
   "source": [
    "#### What are the cumulative effects?"
   ]
  },
  {
   "cell_type": "code",
   "execution_count": null,
   "metadata": {},
   "outputs": [],
   "source": [
    "# select subset of data from one country\n",
    "stencil = ( df[\"Country\"] == country )\n",
    "df_country = df[stencil].copy()"
   ]
  },
  {
   "cell_type": "code",
   "execution_count": null,
   "metadata": {},
   "outputs": [],
   "source": [
    "# make a time series plot of the case counts\n",
    "df_country.plot(title=\"Cumulative Cases (\"+country+\")\", x=\"Date\")"
   ]
  },
  {
   "cell_type": "markdown",
   "metadata": {},
   "source": [
    "#### How are new case counts changing?"
   ]
  },
  {
   "cell_type": "code",
   "execution_count": null,
   "metadata": {},
   "outputs": [],
   "source": [
    "# create new column for new cases, by taking daily difference of confirmed cases\n",
    "daily_diff = df_country[\"Confirmed\"].diff()\n",
    "df_country[\"Confirmed New\"] = daily_diff\n",
    "df_country.head()"
   ]
  },
  {
   "cell_type": "code",
   "execution_count": null,
   "metadata": {},
   "outputs": [],
   "source": [
    "# make a time series plot of the new case counts\n",
    "df_country.plot(title=\"New Cases (\"+country+\")\", x=\"Date\", y=\"Confirmed New\", legend=None)"
   ]
  },
  {
   "cell_type": "markdown",
   "metadata": {},
   "source": [
    "#### Are there any underlying patterns in new case counts?"
   ]
  },
  {
   "cell_type": "markdown",
   "metadata": {},
   "source": [
    "From the previous plot, there appears to be a regular wiggle in the data.\n",
    "New case counts rise and then fall roughly once weekly. Let's combine the\n",
    "data by day of the week, to search for weekly patterns."
   ]
  },
  {
   "cell_type": "code",
   "execution_count": null,
   "metadata": {},
   "outputs": [],
   "source": [
    "# first create new column for day of the week\n",
    "day_of_wk = df_country[\"Date\"].dt.dayofweek # order is Mon, Tue, ...\n",
    "df_country[\"Day of Week\"] = day_of_wk\n",
    "\n",
    "# then sum up new cases for each day\n",
    "sum_by_day = df_country.groupby([\"Day of Week\"]).sum()\n",
    "sum_by_day"
   ]
  },
  {
   "cell_type": "code",
   "execution_count": null,
   "metadata": {},
   "outputs": [],
   "source": [
    "# make a bar chart plot of the new cases grouped by day of the week\n",
    "\n",
    "# fist generate the plot object\n",
    "plot_day_sum = sum_by_day.plot.bar(title=\"New Cases Summed by Day (\"+country+\")\",\n",
    "                                   y=\"Confirmed New\",\n",
    "                                   legend=None)\n",
    "\n",
    "# reset the bar labels\n",
    "daynames = [\"Mon\", \"Tue\", \"Wed\", \"Thr\", \"Fri\", \"Sat\", \"Sun\"]\n",
    "plot_day_sum.set_xticklabels(daynames)\n",
    "\n",
    "# then display the plot\n",
    "plt.show()"
   ]
  },
  {
   "cell_type": "markdown",
   "metadata": {},
   "source": [
    "### Todo"
   ]
  },
  {
   "cell_type": "markdown",
   "metadata": {},
   "source": [
    "Modifications or repairs to make:\n",
    "\n",
    "* explore differences in weekly patterns between different countries\n",
    "* make a pie-chart of cases from largest countries\n",
    "* explore the shift between time series of new cases and recovered"
   ]
  }
 ],
 "metadata": {
  "kernelspec": {
   "display_name": "Python 3 (ipykernel)",
   "language": "python",
   "name": "python3"
  },
  "language_info": {
   "codemirror_mode": {
    "name": "ipython",
    "version": 3
   },
   "file_extension": ".py",
   "mimetype": "text/x-python",
   "name": "python",
   "nbconvert_exporter": "python",
   "pygments_lexer": "ipython3",
   "version": "3.10.2"
  }
 },
 "nbformat": 4,
 "nbformat_minor": 4
}
