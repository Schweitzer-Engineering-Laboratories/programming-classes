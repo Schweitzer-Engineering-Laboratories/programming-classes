{
 "cells": [
  {
   "cell_type": "markdown",
   "metadata": {},
   "source": [
    "# Analyze Excel Comments"
   ]
  },
  {
   "cell_type": "markdown",
   "metadata": {},
   "source": [
    "Brett Deaton - Oct 2021"
   ]
  },
  {
   "cell_type": "markdown",
   "metadata": {},
   "source": [
    "In an Excel spreadsheet, the Learning-15 team records data on which sessions were offered to which groups when. In a comment in some cells we record how many participants attended. We want a quick way to analyze the participation data. Some questions:\n",
    "* How many people participate from a given group?\n",
    "* ... in a given topic?\n",
    "* ... on average?"
   ]
  },
  {
   "cell_type": "markdown",
   "metadata": {},
   "source": [
    "### Setup"
   ]
  },
  {
   "cell_type": "markdown",
   "metadata": {},
   "source": [
    "Load the Excel spreadsheet and create dictionaries of the column headers and row names.\n",
    "\n",
    "Note, some of the following operations might be simpler using the pandas libary. But because we need the openpyxl library (I presume) to access cell comments, we're going to avoid using other database libraries."
   ]
  },
  {
   "cell_type": "code",
   "execution_count": null,
   "metadata": {},
   "outputs": [],
   "source": [
    "from openpyxl import load_workbook"
   ]
  },
  {
   "cell_type": "code",
   "execution_count": null,
   "metadata": {},
   "outputs": [],
   "source": [
    "# Open the spreadsheet\n",
    "filename = \"comments_test.xlsx\"\n",
    "wb = load_workbook(filename)\n",
    "ws = wb[\"Scheduling\"]"
   ]
  },
  {
   "cell_type": "code",
   "execution_count": null,
   "metadata": {},
   "outputs": [],
   "source": [
    "# View session names\n",
    "headers = { cell.column_letter : cell.value for cell in ws[1] } # build dict from first row\n",
    "print(\"Session names by column letter:\")\n",
    "for key, value in headers.items():\n",
    "    if key>\"E\": # skip printing columns A-E which hold info specific to each team\n",
    "        print(f\"  {key}  {value}\")"
   ]
  },
  {
   "cell_type": "code",
   "execution_count": null,
   "metadata": {},
   "outputs": [],
   "source": [
    "# View supervisors\n",
    "supervisors = { cell.row : cell.value for cell in ws[\"A\"] } # build dict from first column\n",
    "del supervisors[1] # get rid of the header in the first row\n",
    "print(\"Supervisors by row number:\")\n",
    "for key, value in supervisors.items():\n",
    "    print(f\"  {key:>2}  {value}\")"
   ]
  },
  {
   "cell_type": "markdown",
   "metadata": {},
   "source": [
    "### Extract Comments"
   ]
  },
  {
   "cell_type": "markdown",
   "metadata": {},
   "source": [
    "The comments extracted from each cell have a messy format, including a bunch of metadata and warnings, like the following:\n",
    "\n",
    "```\n",
    "[Threaded comment]\n",
    "\n",
    "Your version of Excel allows you to read this threaded comment; however, any edits to it will get removed if the file is opened in a newer version of Excel. Learn more: https://go.microsoft.com/fwlink/?linkid=870924\n",
    "\n",
    "Comment:\n",
    "    14\n",
    "```\n",
    "\n",
    "In that example, we only need the number `14` following `Comment:`. We'll extract that using regular expressions."
   ]
  },
  {
   "cell_type": "code",
   "execution_count": null,
   "metadata": {},
   "outputs": [],
   "source": [
    "import re # to extract the relevant data from the metadata polluting Excel comments"
   ]
  },
  {
   "cell_type": "markdown",
   "metadata": {},
   "source": [
    "In the following, we read the comments into a dictionary, retaining only the tasty bits. (Here's a stackoverflow example demonstrating\n",
    "[how to read Excel comments](https://stackoverflow.com/questions/56010234/is-it-possible-to-read-excel-comments-with-pandas) using openpyxl library.)\n",
    "Each dict value is a comment, each dict key is a tuple representing the column letter and row number of that cell."
   ]
  },
  {
   "cell_type": "code",
   "execution_count": null,
   "metadata": {},
   "outputs": [],
   "source": [
    "# Compile a regular expression to extract the relevant number from the metadata\n",
    "p = re.compile(r\"Comment:\\s*(\\w.*)$\")\n",
    "# The above regular expression captures strings that obey the following rules:\n",
    "# 1. `Comment:` follow this word\n",
    "# 2. `\\s*` and are preceded by multiple whitespaces\n",
    "# 3. `(\\w.*)` (the captured part is a string starting with a nonwhitespace character)\n",
    "# 4. `$` and are anchored to the end of the input string\n",
    "\n",
    "# This dict will hold key:value pairs that locate the comment like this\n",
    "#   key:   a tuple specifying the (column, row) of the comment\n",
    "#   value: the comment as a string\n",
    "attendance = {}\n",
    "\n",
    "for row in ws.rows:\n",
    "    for cell in row:\n",
    "        if cell.comment is not None:\n",
    "            match = p.search(cell.comment.text)\n",
    "            attendance[(cell.column_letter, cell.row)] = match.group(1)\n",
    "\n",
    "print(attendance)"
   ]
  },
  {
   "cell_type": "code",
   "execution_count": null,
   "metadata": {},
   "outputs": [],
   "source": [
    "# Pretty-print the number of attendees for each session recorded\n",
    "print(\"SESSION          SUPERVISOR          ATTENDANCE\")\n",
    "for (col, row), num_present in attendance.items():\n",
    "    print(f\"{headers[col]:15.15}  {supervisors[row]:18.18}  {num_present}\")"
   ]
  },
  {
   "cell_type": "markdown",
   "metadata": {},
   "source": [
    "### To Do"
   ]
  },
  {
   "cell_type": "markdown",
   "metadata": {},
   "source": [
    "Some improvements or fixes to make:\n",
    "* Eliminate the messy metadata in the Excel comments *within  Excel* so you don't have to resort to regular expressions *within this script*.\n",
    "* Calculate total sum of attendees for a given session.\n",
    "* Calculate average attendees from a given team.\n",
    "* Make this robust against non-numeric comments that might also be present in the Excel notebook."
   ]
  }
 ],
 "metadata": {
  "kernelspec": {
   "display_name": "Python 3 (ipykernel)",
   "language": "python",
   "name": "python3"
  },
  "language_info": {
   "codemirror_mode": {
    "name": "ipython",
    "version": 3
   },
   "file_extension": ".py",
   "mimetype": "text/x-python",
   "name": "python",
   "nbconvert_exporter": "python",
   "pygments_lexer": "ipython3",
   "version": "3.10.2"
  }
 },
 "nbformat": 4,
 "nbformat_minor": 4
}
