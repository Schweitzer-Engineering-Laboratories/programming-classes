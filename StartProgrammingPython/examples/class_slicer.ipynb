{
 "cells": [
  {
   "cell_type": "markdown",
   "metadata": {},
   "source": [
    "# Class Slicer"
   ]
  },
  {
   "cell_type": "markdown",
   "metadata": {},
   "source": [
    "Brett Deaton - Nov 2020"
   ]
  },
  {
   "cell_type": "markdown",
   "metadata": {},
   "source": [
    "Sort and slice a class into teams, according to length of name so it's easy to represent teams in a block of text."
   ]
  },
  {
   "cell_type": "code",
   "execution_count": 1,
   "metadata": {},
   "outputs": [
    {
     "data": {
      "text/plain": [
       "14"
      ]
     },
     "execution_count": 1,
     "metadata": {},
     "output_type": "execute_result"
    }
   ],
   "source": [
    "# Input the names\n",
    "names = [\n",
    "    \"Ada Lovelace\", \"Edsger W. Dijkstra\", \"Guido Van Rossum\",\n",
    "    \"Donald Knuth\", \"Linus Torvalds\", \"Richard Stallman\",\n",
    "    \"Ron Rivest\", \"Adi Shamir\", \"Leonard Adleman\",\n",
    "    \"Alan Turing\", \"Bjarne Stroustrup\", \"Tim Berners-Lee\", \n",
    "    \"Stephen Wolfram\", \"Bill Gates\"\n",
    "]\n",
    "len(names)"
   ]
  },
  {
   "cell_type": "code",
   "execution_count": 2,
   "metadata": {},
   "outputs": [
    {
     "name": "stdout",
     "output_type": "stream",
     "text": [
      "14 participants divided into teams of 3 leaves a remainder of 2\n"
     ]
    },
    {
     "data": {
      "text/plain": [
       "['Ron Rivest',\n",
       " 'Adi Shamir',\n",
       " 'Bill Gates',\n",
       " 'Alan Turing',\n",
       " 'Ada Lovelace',\n",
       " 'Donald Knuth',\n",
       " 'Linus Torvalds',\n",
       " 'Leonard Adleman',\n",
       " 'Tim Berners-Lee',\n",
       " 'Stephen Wolfram',\n",
       " 'Guido Van Rossum',\n",
       " 'Richard Stallman',\n",
       " 'Bjarne Stroustrup',\n",
       " 'Edsger W. Dijkstra']"
      ]
     },
     "execution_count": 2,
     "metadata": {},
     "output_type": "execute_result"
    }
   ],
   "source": [
    "# Set the teams size\n",
    "size_teams=3 # set team size\n",
    "names.sort(key=len) # sort by name length\n",
    "print(len(names), \"participants divided into teams of\", size_teams, \"leaves a remainder of\", len(names)%size_teams)\n",
    "names"
   ]
  },
  {
   "cell_type": "code",
   "execution_count": 3,
   "metadata": {},
   "outputs": [
    {
     "name": "stdout",
     "output_type": "stream",
     "text": [
      "['Ron Rivest', 'Adi Shamir', 'Bill Gates']\n",
      "['Alan Turing', 'Ada Lovelace', 'Donald Knuth']\n",
      "['Linus Torvalds', 'Leonard Adleman', 'Tim Berners-Lee']\n",
      "['Stephen Wolfram', 'Guido Van Rossum', 'Richard Stallman']\n",
      "['Bjarne Stroustrup', 'Edsger W. Dijkstra']\n"
     ]
    }
   ],
   "source": [
    "# Slice into teams\n",
    "teams = []\n",
    "for i in range(0,len(names),size_teams):\n",
    "    teams.append(names[i:i+size_teams])\n",
    "for team in teams:\n",
    "    print(team)"
   ]
  },
  {
   "cell_type": "code",
   "execution_count": 4,
   "metadata": {},
   "outputs": [
    {
     "name": "stdout",
     "output_type": "stream",
     "text": [
      "Ron Rivest\n",
      "Adi Shamir\n",
      "Bill Gates\n",
      "\n",
      "Alan Turing\n",
      "Ada Lovelace\n",
      "Donald Knuth\n",
      "\n",
      "Linus Torvalds\n",
      "Leonard Adleman\n",
      "Tim Berners-Lee\n",
      "\n",
      "Stephen Wolfram\n",
      "Guido Van Rossum\n",
      "Richard Stallman\n",
      "\n",
      "Bjarne Stroustrup\n",
      "Edsger W. Dijkstra\n",
      "\n"
     ]
    }
   ],
   "source": [
    "# Print teams forward\n",
    "for team in teams:\n",
    "    print(\"\\n\".join(team))\n",
    "    print()"
   ]
  },
  {
   "cell_type": "code",
   "execution_count": 5,
   "metadata": {},
   "outputs": [
    {
     "name": "stdout",
     "output_type": "stream",
     "text": [
      "Edsger W. Dijkstra\n",
      "Bjarne Stroustrup\n",
      "\n",
      "Richard Stallman\n",
      "Guido Van Rossum\n",
      "Stephen Wolfram\n",
      "\n",
      "Tim Berners-Lee\n",
      "Leonard Adleman\n",
      "Linus Torvalds\n",
      "\n",
      "Donald Knuth\n",
      "Ada Lovelace\n",
      "Alan Turing\n",
      "\n",
      "Bill Gates\n",
      "Adi Shamir\n",
      "Ron Rivest\n",
      "\n"
     ]
    }
   ],
   "source": [
    "# Print teams backward\n",
    "for team in reversed(teams):\n",
    "    print(\"\\n\".join(reversed(team)))\n",
    "    print()"
   ]
  },
  {
   "cell_type": "markdown",
   "metadata": {},
   "source": [
    "#### Todo"
   ]
  },
  {
   "cell_type": "markdown",
   "metadata": {},
   "source": [
    "Modifications or repairs to make:\n",
    "* Print `size_teams` instead of `0` for size of the last team, if class evenly divisible.\n",
    "* Print the all the teams in a nicely-organized block of text.\n",
    "* Fix the case where last team size is `1`, in which case, you should split up the last few teams."
   ]
  }
 ],
 "metadata": {
  "kernelspec": {
   "display_name": "Python 3",
   "language": "python",
   "name": "python3"
  },
  "language_info": {
   "codemirror_mode": {
    "name": "ipython",
    "version": 3
   },
   "file_extension": ".py",
   "mimetype": "text/x-python",
   "name": "python",
   "nbconvert_exporter": "python",
   "pygments_lexer": "ipython3",
   "version": "3.6.4"
  }
 },
 "nbformat": 4,
 "nbformat_minor": 4
}
