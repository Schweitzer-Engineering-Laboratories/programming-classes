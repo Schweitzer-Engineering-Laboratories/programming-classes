{
 "cells": [
  {
   "cell_type": "markdown",
   "metadata": {},
   "source": [
    "# Class Slicer"
   ]
  },
  {
   "cell_type": "markdown",
   "metadata": {},
   "source": [
    "Brett Deaton - Nov 2020"
   ]
  },
  {
   "cell_type": "markdown",
   "metadata": {},
   "source": [
    "Sort and slice a class into teams, according to length of name so it's easy to represent teams in a block of text."
   ]
  },
  {
   "cell_type": "code",
   "execution_count": null,
   "metadata": {},
   "outputs": [],
   "source": [
    "# Input the names\n",
    "names = [\n",
    "    \"Ada Lovelace\", \"Edsger W. Dijkstra\", \"Guido Van Rossum\",\n",
    "    \"Donald Knuth\", \"Linus Torvalds\", \"Richard Stallman\",\n",
    "    \"Ron Rivest\", \"Adi Shamir\", \"Leonard Adleman\",\n",
    "    \"Alan Turing\", \"Bjarne Stroustrup\", \"Tim Berners-Lee\", \n",
    "    \"Stephen Wolfram\", \"Bill Gates\"\n",
    "]\n",
    "len(names)"
   ]
  },
  {
   "cell_type": "code",
   "execution_count": null,
   "metadata": {},
   "outputs": [],
   "source": [
    "# Set the teams size\n",
    "size_teams=3 # set team size\n",
    "names.sort(key=len) # sort by name length\n",
    "print(len(names), \"participants divided into teams of\", size_teams, \"leaves a remainder of\", len(names)%size_teams)\n",
    "names"
   ]
  },
  {
   "cell_type": "code",
   "execution_count": null,
   "metadata": {},
   "outputs": [],
   "source": [
    "# Slice into teams\n",
    "teams = []\n",
    "for i in range(0,len(names),size_teams):\n",
    "    teams.append(names[i:i+size_teams])\n",
    "for team in teams:\n",
    "    print(team)"
   ]
  },
  {
   "cell_type": "code",
   "execution_count": null,
   "metadata": {},
   "outputs": [],
   "source": [
    "# Print teams forward\n",
    "for team in teams:\n",
    "    print(\"\\n\".join(team))\n",
    "    print()"
   ]
  },
  {
   "cell_type": "code",
   "execution_count": null,
   "metadata": {},
   "outputs": [],
   "source": [
    "# Print teams backward\n",
    "for team in reversed(teams):\n",
    "    print(\"\\n\".join(reversed(team)))\n",
    "    print()"
   ]
  },
  {
   "cell_type": "markdown",
   "metadata": {},
   "source": [
    "#### Todo"
   ]
  },
  {
   "cell_type": "markdown",
   "metadata": {},
   "source": [
    "Modifications or repairs to make:\n",
    "* Print `size_teams` instead of `0` for size of the last team, if class evenly divisible.\n",
    "* Print the all the teams in a nicely-organized block of text.\n",
    "* Fix the case where last team size is `1`, in which case, you should split up the last few teams."
   ]
  }
 ],
 "metadata": {
  "kernelspec": {
   "display_name": "Python 3 (ipykernel)",
   "language": "python",
   "name": "python3"
  },
  "language_info": {
   "codemirror_mode": {
    "name": "ipython",
    "version": 3
   },
   "file_extension": ".py",
   "mimetype": "text/x-python",
   "name": "python",
   "nbconvert_exporter": "python",
   "pygments_lexer": "ipython3",
   "version": "3.10.2"
  }
 },
 "nbformat": 4,
 "nbformat_minor": 4
}
