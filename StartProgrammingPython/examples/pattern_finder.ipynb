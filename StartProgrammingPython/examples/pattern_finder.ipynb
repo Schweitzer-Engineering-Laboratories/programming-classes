{
 "cells": [
  {
   "cell_type": "markdown",
   "metadata": {},
   "source": [
    "# Look for Patterns in Bop It"
   ]
  },
  {
   "cell_type": "markdown",
   "metadata": {},
   "source": [
    "Brett Deaton - Fall 2020"
   ]
  },
  {
   "cell_type": "markdown",
   "metadata": {},
   "source": [
    "This notebook searches for repeating patterns in the sequences of \"bop it\", \"twist it\", \"pull it\" calls in my daughter's electronic toy *Bop It*. Observational data recorded in `sequences.txt`. Each separate line is a new game."
   ]
  },
  {
   "cell_type": "markdown",
   "metadata": {},
   "source": [
    "### Set up"
   ]
  },
  {
   "cell_type": "code",
   "execution_count": null,
   "metadata": {},
   "outputs": [],
   "source": [
    "# read the file lines into strings, each line (i.e. game) as a separate item in a list\n",
    "games = []\n",
    "for line in open(\"sequences.txt\"):\n",
    "    if not line.startswith(\"#\"):     # ignore comment lines\n",
    "        games.append(line.strip())   # remove newline chars at end of each line"
   ]
  },
  {
   "cell_type": "markdown",
   "metadata": {},
   "source": [
    "### Inspect"
   ]
  },
  {
   "cell_type": "code",
   "execution_count": null,
   "metadata": {},
   "outputs": [],
   "source": [
    "# define a game-printing function to inspect games cleanly\n",
    "def print_n_games(games, n):\n",
    "    print(\"first\", n, \"games:\")\n",
    "    for game in games[:n]:\n",
    "        print(\"  \", game)"
   ]
  },
  {
   "cell_type": "code",
   "execution_count": null,
   "metadata": {},
   "outputs": [],
   "source": [
    "# inspect the games\n",
    "print(len(games), \"games in total\")\n",
    "print_n_games(games, 20)"
   ]
  },
  {
   "cell_type": "markdown",
   "metadata": {},
   "source": [
    "### Clean up"
   ]
  },
  {
   "cell_type": "markdown",
   "metadata": {},
   "source": [
    "I want to ignore the obvious repetition of 'btp' at the beginning of every game. I also want to get rid of games that are too short to analyze."
   ]
  },
  {
   "cell_type": "code",
   "execution_count": null,
   "metadata": {},
   "outputs": [],
   "source": [
    "# strip predictable start sequence\n",
    "strstart = \"btp\"\n",
    "for char in strstart:\n",
    "    i = 0\n",
    "    while i < len(games):\n",
    "        games[i] = games[i].lstrip(char)\n",
    "        i += 1\n",
    "print_n_games(games, 20)"
   ]
  },
  {
   "cell_type": "code",
   "execution_count": null,
   "metadata": {},
   "outputs": [],
   "source": [
    "# remove empty games\n",
    "i_empty = []                         # record indices of empty games\n",
    "for i in range(len(games)):          # search all games for empty\n",
    "    if not games[i]:                 # check if string is empty\n",
    "        i_empty.append(i)\n",
    "print(\"removing the following games:\", i_empty)\n",
    "for i in reversed(i_empty):          # prune empty games starting from end\n",
    "    del games[i]\n",
    "print_n_games(games, 20)"
   ]
  },
  {
   "cell_type": "markdown",
   "metadata": {},
   "source": [
    "### Search"
   ]
  },
  {
   "cell_type": "code",
   "execution_count": null,
   "metadata": {},
   "outputs": [],
   "source": [
    "# search and report specific patterns\n",
    "searchstr = games[2]\n",
    "print(\"Searching for pattern\", searchstr)\n",
    "for game in games:\n",
    "    if searchstr in game:\n",
    "        print(\"found\", searchstr, \"in\", game)"
   ]
  },
  {
   "cell_type": "markdown",
   "metadata": {},
   "source": [
    "### Todo"
   ]
  },
  {
   "cell_type": "markdown",
   "metadata": {},
   "source": [
    "Tasks left to complete:\n",
    "\n",
    "* make the \"strip predictable start sequence\" step more robust\n",
    "  so it doesn't continue to strip if run repeatedly"
   ]
  }
 ],
 "metadata": {
  "kernelspec": {
   "display_name": "Python 3 (ipykernel)",
   "language": "python",
   "name": "python3"
  },
  "language_info": {
   "codemirror_mode": {
    "name": "ipython",
    "version": 3
   },
   "file_extension": ".py",
   "mimetype": "text/x-python",
   "name": "python",
   "nbconvert_exporter": "python",
   "pygments_lexer": "ipython3",
   "version": "3.10.2"
  }
 },
 "nbformat": 4,
 "nbformat_minor": 4
}
