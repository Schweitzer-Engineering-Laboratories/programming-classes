{
 "cells": [
  {
   "cell_type": "markdown",
   "metadata": {},
   "source": [
    "# Jupyter Notebook Reference"
   ]
  },
  {
   "cell_type": "markdown",
   "metadata": {},
   "source": [
    "This is a quick introduction to Jupyter Notebooks for the \"Start Programming With Python\" class.\n",
    "\n",
    "Jupyter Notebooks allow you to write, run, and view the output of Python code embedded in an editable webpage. A Notebook allows you to narrate and explore your code with your own pictures and descriptive text.\n",
    "\n",
    "Please expand this Notebook for your own reference."
   ]
  },
  {
   "cell_type": "markdown",
   "metadata": {},
   "source": [
    "## Code cells"
   ]
  },
  {
   "cell_type": "code",
   "execution_count": null,
   "metadata": {},
   "outputs": [],
   "source": [
    "# This is a *code* cell.\n",
    "# Descriptive comments in a code cell begin with the '#' character.\n",
    "# Execute the code cell by hitting [Shift]+[Enter].\n",
    "x = 5\n",
    "y = x+2"
   ]
  },
  {
   "cell_type": "code",
   "execution_count": null,
   "metadata": {},
   "outputs": [],
   "source": [
    "# When a code cell is executed, the Jupyter Notebook runs the Python code,\n",
    "#   then displays the output below the code cell. Notice, the variables\n",
    "#   defined in one code cell persist to the next.\n",
    "y"
   ]
  },
  {
   "cell_type": "markdown",
   "metadata": {},
   "source": [
    "## Markdown cells"
   ]
  },
  {
   "cell_type": "markdown",
   "metadata": {},
   "source": [
    "This is a *Markdown* cell. Markdown cells allow you to write descriptive text instead of code. Markdown is a simple formatting language (like HTML) with lots of flexibility. Find out more about [Markdown syntax here](https://guides.github.com/features/mastering-markdown/).\n",
    "\n",
    "Transform any cell to Markdown by putting your cursor there, then hitting the *[ESC]* key followed by the *[m]* key.\n",
    "\n",
    "Edit a Markdown cell by double-clicking on it.\n",
    "\n",
    "Render a Markdown cell by hitting *[Shift]*+*[Enter]*."
   ]
  },
  {
   "cell_type": "markdown",
   "metadata": {},
   "source": [
    "## Magic commands"
   ]
  },
  {
   "cell_type": "markdown",
   "metadata": {},
   "source": [
    "This section is just extra goodies. Check it out when you want to get under the hood of your Jupyter Notebooks."
   ]
  },
  {
   "cell_type": "markdown",
   "metadata": {},
   "source": [
    "The *kernel*, is the  program that interprets each code cell. The default Jupyter Notebook kernel is IPython, for \"Interactive Python\". There are a host of [magic commands](https://ipython.readthedocs.io/en/stable/interactive/magics.html) that give instructions to the IPython kernel.\n",
    "\n",
    "Magic commands begin with `%` (for one-line commands) or `%%` (for whole-cell commands)."
   ]
  },
  {
   "cell_type": "code",
   "execution_count": null,
   "metadata": {},
   "outputs": [],
   "source": [
    "# list the available magic commands\n",
    "%lsmagic"
   ]
  },
  {
   "cell_type": "code",
   "execution_count": null,
   "metadata": {},
   "outputs": [],
   "source": [
    "# print the current working directory\n",
    "%pwd"
   ]
  },
  {
   "cell_type": "code",
   "execution_count": null,
   "metadata": {},
   "outputs": [],
   "source": [
    "# list the files in the current working directory\n",
    "%ls"
   ]
  },
  {
   "cell_type": "code",
   "execution_count": null,
   "metadata": {},
   "outputs": [],
   "source": [
    "# give a short description of a function, e.g. for the print() function\n",
    "?print"
   ]
  },
  {
   "cell_type": "code",
   "execution_count": null,
   "metadata": {},
   "outputs": [],
   "source": [
    "%%javascript\n",
    "alert(\"This is JavaScript. \" +\n",
    "      \"The code tells your browser to issue a popup window.\");"
   ]
  },
  {
   "cell_type": "code",
   "execution_count": null,
   "metadata": {},
   "outputs": [],
   "source": [
    "%%html\n",
    "<h4>This is HTML</h4>\n",
    "<p>The code tells your browser how to render a webpage.</p>\n",
    "<p>Your lunch for the day is:\n",
    "  <ul>\n",
    "    <li>coffee</li>\n",
    "    <li>apple slices</li>\n",
    "    <li>cheese that was left on the counter overnight</li>\n",
    "  </ul>\n",
    "</p>"
   ]
  },
  {
   "cell_type": "code",
   "execution_count": null,
   "metadata": {},
   "outputs": [],
   "source": [
    "%%svg\n",
    "<svg height=\"120\" width=\"100\">\n",
    "  <text x=\"0\" y=\"20\">This is an SVG</text>\n",
    "  <circle cx=\"50\" cy=\"70\" r=\"40\" stroke=\"black\" stroke-width=\"2\" fill=\"red\" />\n",
    "  <circle cx=\"80\" cy=\"100\" r=\"10\" stroke=\"black\" stroke-width=\"2\" fill=\"red\" opacity=\"0.4\" />\n",
    "</svg>"
   ]
  }
 ],
 "metadata": {
  "kernelspec": {
   "display_name": "Python 3 (ipykernel)",
   "language": "python",
   "name": "python3"
  },
  "language_info": {
   "codemirror_mode": {
    "name": "ipython",
    "version": 3
   },
   "file_extension": ".py",
   "mimetype": "text/x-python",
   "name": "python",
   "nbconvert_exporter": "python",
   "pygments_lexer": "ipython3",
   "version": "3.10.2"
  }
 },
 "nbformat": 4,
 "nbformat_minor": 4
}
