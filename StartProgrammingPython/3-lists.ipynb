{
 "cells": [
  {
   "cell_type": "markdown",
   "metadata": {},
   "source": [
    "# Lists"
   ]
  },
  {
   "cell_type": "markdown",
   "metadata": {},
   "source": [
    "In the previous activity, [2-user_input.ipynb](2-user_input.ipynb), you constructed simple string and integer objects with the built-in functions `str()` and `int()`. In addition to these, one of the most powerful Python objects is a `list`. Let's see what we can do with it."
   ]
  },
  {
   "cell_type": "markdown",
   "metadata": {},
   "source": [
    "### Create a List"
   ]
  },
  {
   "cell_type": "markdown",
   "metadata": {},
   "source": [
    "Create a list with the handle `lista` like this:"
   ]
  },
  {
   "cell_type": "code",
   "execution_count": null,
   "metadata": {},
   "outputs": [],
   "source": [
    "lista = [\"Brett\", 13, 3.14, 1/2, 0.5, \"a\"]"
   ]
  },
  {
   "cell_type": "markdown",
   "metadata": {},
   "source": [
    "**Create your own list of any length longer than 2, and give it the name `listb`. Include the word \"WILBUR\" as at least one element.**"
   ]
  },
  {
   "cell_type": "code",
   "execution_count": null,
   "metadata": {},
   "outputs": [],
   "source": []
  },
  {
   "cell_type": "markdown",
   "metadata": {},
   "source": [
    "### What a List Can Do"
   ]
  },
  {
   "cell_type": "markdown",
   "metadata": {},
   "source": [
    "Lots!"
   ]
  },
  {
   "cell_type": "markdown",
   "metadata": {},
   "source": [
    "**Run the following script to demonstrate a handful of list operations.**"
   ]
  },
  {
   "cell_type": "code",
   "execution_count": null,
   "metadata": {},
   "outputs": [],
   "source": [
    "print(\"here's the list:\", lista)\n",
    "\n",
    "print(\"---\")\n",
    "print(\"this is how many elements it contains:\", len(lista))\n",
    "\n",
    "print(\"---\")\n",
    "print(\"the first element:\", lista[0])\n",
    "print(\"the last element:\", lista[-1])\n",
    "print(\"a slice of elements:\", lista[1:3])\n",
    "\n",
    "print(\"---\")\n",
    "print(\"another way to access the list is to iterate over the elements:\")\n",
    "for a in lista:\n",
    "    print(a, \"is here\", end=\", \")\n",
    "print()\n",
    "\n",
    "print(\"---\")\n",
    "print(\"test whether the list contain 0.5:\", 0.5 in lista)\n",
    "print(\"test whether the list contains WILBUR:\", \"WILBUR\" in lista)\n",
    "\n",
    "print(\"---\")\n",
    "print(\"concatenate two lists:\", lista + [\"S\", \"E\", \"L\"])\n",
    "print(\"duplicate the list:\", lista*2)"
   ]
  },
  {
   "cell_type": "markdown",
   "metadata": {},
   "source": [
    "**Write a line to count the number of elements in `listb`.**"
   ]
  },
  {
   "cell_type": "code",
   "execution_count": null,
   "metadata": {},
   "outputs": [],
   "source": []
  },
  {
   "cell_type": "markdown",
   "metadata": {},
   "source": [
    "**Correct the following script using `listb`.**"
   ]
  },
  {
   "cell_type": "code",
   "execution_count": null,
   "metadata": {},
   "outputs": [],
   "source": [
    "print(\"here's the whole listb:\")\n",
    "print(\"the first element in listb:\")\n",
    "print(\"the second element in listb:\")\n",
    "print(\"the second-to-last element in listb:\")\n",
    "print(\"the last element in listb:\")\n",
    "print(\"all elements of listb except the first and last\")"
   ]
  },
  {
   "cell_type": "markdown",
   "metadata": {},
   "source": [
    "**Use a for-loop to print the elements of `listb` in a column.**"
   ]
  },
  {
   "cell_type": "code",
   "execution_count": null,
   "metadata": {},
   "outputs": [],
   "source": []
  },
  {
   "cell_type": "markdown",
   "metadata": {},
   "source": [
    "**Duplicate your for-loop from above, but modify it with an if-statement so it only prints the list if it contains the keyword \"WILBUR\".**"
   ]
  },
  {
   "cell_type": "code",
   "execution_count": null,
   "metadata": {},
   "outputs": [],
   "source": []
  },
  {
   "cell_type": "markdown",
   "metadata": {},
   "source": [
    "**Combine `listb` and `lista` into a master list, and print it 5 times.**"
   ]
  },
  {
   "cell_type": "code",
   "execution_count": null,
   "metadata": {},
   "outputs": [],
   "source": []
  },
  {
   "cell_type": "markdown",
   "metadata": {},
   "source": [
    "This is only the beginning. There are many other ways to use Python lists, and many other *container* objects that have similar features, including `tuples`, `sets`, `dictionaries`, all described in the Python documentation on [Data Structures](https://docs.python.org/3/tutorial/datastructures.html)."
   ]
  },
  {
   "cell_type": "markdown",
   "metadata": {},
   "source": [
    "### List Methods"
   ]
  },
  {
   "cell_type": "markdown",
   "metadata": {},
   "source": [
    "Let's use lists to explore two rich features of Python *objects*."
   ]
  },
  {
   "cell_type": "markdown",
   "metadata": {},
   "source": [
    "A python object is a collection of data and the methods that operate on it. Methods are sets of instructions giving the programmer a way to interact with the object and its data. You can see the methods defined for a list in the documentation on [lists](https://docs.python.org/3/tutorial/datastructures.html#more-on-lists) or with the built-in `help()` function:"
   ]
  },
  {
   "cell_type": "code",
   "execution_count": null,
   "metadata": {},
   "outputs": [],
   "source": [
    "help(list)"
   ]
  },
  {
   "cell_type": "markdown",
   "metadata": {},
   "source": [
    "Any of the methods printed by `help(list)` may be called on a list object using the dot syntax, e.g. `lista.remove()`:"
   ]
  },
  {
   "cell_type": "markdown",
   "metadata": {},
   "source": [
    "#### remove()"
   ]
  },
  {
   "cell_type": "markdown",
   "metadata": {},
   "source": [
    "**Run to learn how `remove()` works.**"
   ]
  },
  {
   "cell_type": "code",
   "execution_count": null,
   "metadata": {},
   "outputs": [],
   "source": [
    "if \"a\" in lista:\n",
    "    lista.remove(\"a\")\n",
    "lista"
   ]
  },
  {
   "cell_type": "markdown",
   "metadata": {},
   "source": [
    "Some methods modify the object's data, e.g. `remove()`. But some don't."
   ]
  },
  {
   "cell_type": "markdown",
   "metadata": {},
   "source": [
    "#### count()"
   ]
  },
  {
   "cell_type": "markdown",
   "metadata": {},
   "source": [
    "**The `len()` function used above counts the number of elements in a list, the `count()` method does something different. Run the code below to learn how `count()` works.**"
   ]
  },
  {
   "cell_type": "code",
   "execution_count": null,
   "metadata": {},
   "outputs": [],
   "source": [
    "lista.count(0.5)"
   ]
  },
  {
   "cell_type": "markdown",
   "metadata": {},
   "source": [
    "#### append()"
   ]
  },
  {
   "cell_type": "markdown",
   "metadata": {},
   "source": [
    "**Add the name of your pet to `listb` using the method `append()`. Was the list permanently modified?**"
   ]
  },
  {
   "cell_type": "code",
   "execution_count": null,
   "metadata": {},
   "outputs": [],
   "source": []
  },
  {
   "cell_type": "markdown",
   "metadata": {},
   "source": [
    "#### reverse()"
   ]
  },
  {
   "cell_type": "markdown",
   "metadata": {},
   "source": [
    "**Reverse the order of `listb` using the method `reverse()`. Was the list permanently modified?**"
   ]
  },
  {
   "cell_type": "code",
   "execution_count": null,
   "metadata": {},
   "outputs": [],
   "source": []
  },
  {
   "cell_type": "markdown",
   "metadata": {},
   "source": [
    "### List Functions"
   ]
  },
  {
   "cell_type": "markdown",
   "metadata": {},
   "source": [
    "Methods aren't the only way to interact with python objects. You can also use functions. Both methods and functions are sets of instructions, but methods are associated with a specific object through the dot syntax (e.g. `lista.sort()`), whereas functions must be given an object to operate upon by passing the object as an argument inside parentheses (e.g. `sorted(lista)`)."
   ]
  },
  {
   "cell_type": "markdown",
   "metadata": {},
   "source": [
    "Many of Python's [built-in functions](https://docs.python.org/3/library/functions.html) operate on lists.\n",
    "\n",
    "For example, one function that operates on lists is `reversed()`. Unlike the `reverse()` method, it doesn't modify the list's data permanently."
   ]
  },
  {
   "cell_type": "markdown",
   "metadata": {},
   "source": [
    "**Run to learn how the `reversed()` function could be used in a for-loop.**"
   ]
  },
  {
   "cell_type": "code",
   "execution_count": null,
   "metadata": {},
   "outputs": [],
   "source": [
    "for x in reversed(lista):\n",
    "    print(x)"
   ]
  },
  {
   "cell_type": "markdown",
   "metadata": {},
   "source": [
    "**Use the `reversed()` function to reverse-print the combined master list of `lista` and `listb` together.**"
   ]
  },
  {
   "cell_type": "code",
   "execution_count": null,
   "metadata": {},
   "outputs": [],
   "source": []
  },
  {
   "cell_type": "markdown",
   "metadata": {},
   "source": [
    "### Challenges"
   ]
  },
  {
   "cell_type": "markdown",
   "metadata": {},
   "source": [
    "If you finish early, try to solve any of the following challenges."
   ]
  },
  {
   "cell_type": "markdown",
   "metadata": {},
   "source": [
    "Here are some places to get ideas:\n",
    "\n",
    "* tutorial on Python [operators](https://www.geeksforgeeks.org/python-operators/) for sums, products, powers, etc\n",
    "* [stackoverflow discussion](https://stackoverflow.com/questions/34835951/what-does-list-comprehension-mean-how-does-it-work-and-how-can-i-use-it/34932520) or official [Python documentation](https://docs.python.org/3/tutorial/datastructures.html#list-comprehensions) on list comprehensions"
   ]
  },
  {
   "cell_type": "markdown",
   "metadata": {},
   "source": [
    "**There's an efficient alternative way to create a list called list comprehension. Run the code below to learn how it works. Then use a similar syntax to create a new list named `listv` with 5 elements picking up the next values where `listu` left off.**"
   ]
  },
  {
   "cell_type": "code",
   "execution_count": null,
   "metadata": {},
   "outputs": [],
   "source": [
    "listu = [x+0.5 for x in range(5)]"
   ]
  },
  {
   "cell_type": "markdown",
   "metadata": {},
   "source": [
    "**Use list comprehension to generate the numbers `0, -1, -2, -3, -4` in a list named `listx`.**"
   ]
  },
  {
   "cell_type": "code",
   "execution_count": null,
   "metadata": {},
   "outputs": [],
   "source": []
  },
  {
   "cell_type": "markdown",
   "metadata": {},
   "source": [
    "**Use list comprehension to generate the decimals `0, 0.1, 0.2, 0.3, 0.4` in a list named `listy`.**"
   ]
  },
  {
   "cell_type": "code",
   "execution_count": null,
   "metadata": {},
   "outputs": [],
   "source": []
  },
  {
   "cell_type": "markdown",
   "metadata": {},
   "source": [
    "**Use list comprehension to generate the geometric progression `1, 0.5, 0.25, 0.125, 0.0625` in a list named `listz`.**"
   ]
  },
  {
   "cell_type": "code",
   "execution_count": null,
   "metadata": {},
   "outputs": [],
   "source": []
  },
  {
   "cell_type": "markdown",
   "metadata": {},
   "source": [
    "Here's a list generated in a for-loop."
   ]
  },
  {
   "cell_type": "code",
   "execution_count": null,
   "metadata": {},
   "outputs": [],
   "source": [
    "listw = [1, 1]\n",
    "for i in range(5):\n",
    "    listw.append(listw[-1]+listw[-2])"
   ]
  },
  {
   "cell_type": "markdown",
   "metadata": {},
   "source": [
    "**In the code block below use the method `listw.append()` to manually append the number that belongs next in `listw`.**"
   ]
  },
  {
   "cell_type": "code",
   "execution_count": null,
   "metadata": {},
   "outputs": [],
   "source": []
  },
  {
   "cell_type": "markdown",
   "metadata": {},
   "source": [
    "**Modify the first line below using the slicing syntax with square brackets `[]` so only the last 3 elements are printed.**"
   ]
  },
  {
   "cell_type": "code",
   "execution_count": null,
   "metadata": {},
   "outputs": [],
   "source": [
    "for n in listw:\n",
    "    print(n)"
   ]
  },
  {
   "cell_type": "markdown",
   "metadata": {},
   "source": [
    "**Modify the first line below using a list function so the list is printed backwards.**"
   ]
  },
  {
   "cell_type": "code",
   "execution_count": null,
   "metadata": {},
   "outputs": [],
   "source": [
    "for n in listw:\n",
    "    print(n)"
   ]
  },
  {
   "cell_type": "markdown",
   "metadata": {},
   "source": [
    "**The string method `split()` is very useful for generating lists from user input. Run the code below to see how it works.**\n",
    "\n",
    "**Then modify the code to print a warning message \"You forgot to include yourself, I'll do it\" and append the user's name to the list if needed.**"
   ]
  },
  {
   "cell_type": "code",
   "execution_count": null,
   "metadata": {},
   "outputs": [],
   "source": [
    "name = input(\"What's your name?\")\n",
    "allnames = input(\"List every student's name:\")\n",
    "listn = allnames.split()\n",
    "listn"
   ]
  },
  {
   "cell_type": "markdown",
   "metadata": {},
   "source": [
    "### Next\n",
    "You did it! You're coding in Python!\n",
    "\n",
    "What will you use Python for now? What questions puzzle you? What problems get in your way? Start with an idea, then start a Jupyter Notebook, and learn by trying.\n",
    "\n",
    "For example, here are some real-world problems and questions tackled by past participants, from the `examples/` directory:\n",
    "\n",
    "* [pattern_finder.ipynb](examples/pattern_finder.ipynb): Does an electronic game use a random or programmed sequence of calls?\n",
    "* [scheduling.ipynb](examples/scheduling.ipynb): Is a given team calendar fair and free of scheduling conflicts?\n",
    "* [covid_data.ipynb](examples/covid_data.ipynb): Does the number of COVID-19-positive cases rise and fall weekly?"
   ]
  }
 ],
 "metadata": {
  "kernelspec": {
   "display_name": "Python 3",
   "language": "python",
   "name": "python3"
  },
  "language_info": {
   "codemirror_mode": {
    "name": "ipython",
    "version": 3
   },
   "file_extension": ".py",
   "mimetype": "text/x-python",
   "name": "python",
   "nbconvert_exporter": "python",
   "pygments_lexer": "ipython3",
   "version": "3.6.4"
  }
 },
 "nbformat": 4,
 "nbformat_minor": 4
}
